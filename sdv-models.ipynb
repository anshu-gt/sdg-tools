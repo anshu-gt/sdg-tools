{
 "cells": [
  {
   "cell_type": "code",
   "execution_count": 19,
   "id": "eba7a1f0-4032-4017-a253-32198652788f",
   "metadata": {},
   "outputs": [],
   "source": [
    "import time\n",
    "import pandas as pd\n",
    "\n",
    "# models \n",
    "from sdv.single_table import GaussianCopulaSynthesizer\n",
    "from sdv.single_table import CTGANSynthesizer\n",
    "from sdv.single_table import TVAESynthesizer\n",
    "\n",
    "# autodetection of metadata\n",
    "from sdv.metadata import SingleTableMetadata\n",
    "\n",
    "# evaluation of synthetic data\n",
    "from sdv.evaluation.single_table import evaluate_quality\n",
    "from sdv.evaluation.single_table import run_diagnostic\n",
    "\n",
    "from sdv.datasets.demo import download_demo\n",
    "\n",
    "# visualisation\n",
    "# from sdv.evaluation.single_table import get_column_plot"
   ]
  },
  {
   "cell_type": "code",
   "execution_count": 20,
   "id": "ec2541a7-e3ef-464d-b8ab-3c07d34367e0",
   "metadata": {},
   "outputs": [],
   "source": [
    "import warnings\n",
    "warnings.filterwarnings('ignore')\n",
    "\n",
    "from pprint import pprint"
   ]
  },
  {
   "cell_type": "markdown",
   "id": "2421a448-def3-4a24-ab4d-307069a6e852",
   "metadata": {},
   "source": [
    "# Notes"
   ]
  },
  {
   "cell_type": "markdown",
   "id": "d174b723-c395-48fa-b9d2-cd72424d7088",
   "metadata": {},
   "source": [
    "### Synthesizers -- models to generate synthetic data \n",
    "\n",
    "Models to generate single table data \n",
    "- Gaussian Copula -- Statistical modelling | most customizable and faster \n",
    "- CTGAN – GAN-based (Deep learning) | high fidelity dataset, training time required\n",
    "- TVAE – variational autoencoder (Deep learning)| high fidelity dataset, training time required\n",
    "\n",
    "Others\n",
    "- PAR  (?) – for sequential\n",
    "- HMA  (?) - for multi-table\n",
    "\n",
    "**Notebook focuses on Gaussian Copula, CTGAN, TVAE** "
   ]
  },
  {
   "cell_type": "markdown",
   "id": "24ae1aff-4d05-4669-ab76-89fd770db090",
   "metadata": {},
   "source": [
    "Inputs required for the synthesizers \n",
    "- Metadata (Required)\n",
    "- Real Data (Required)\n",
    "- Customisable parameters (Optional)"
   ]
  },
  {
   "cell_type": "markdown",
   "id": "c0d4289f-ad7f-4bfe-beab-76b95dcb190b",
   "metadata": {},
   "source": [
    "### Autodetecting metadata "
   ]
  },
  {
   "cell_type": "markdown",
   "id": "8250b2d3-8607-402e-a33a-d061ad51f37e",
   "metadata": {},
   "source": [
    "[From the Doc]\n",
    "The detected metadata is not guaranteed to be accurate or complete. Be sure to carefully inspect the metadata and update information.\n",
    "- Primary keys and other identifiers are not auto-detected. See set_primary_key and add_alternate_keys method to add them.\n",
    "- Dates and sensitive information may be auto-detected incorrectly. See update_column method to update them."
   ]
  },
  {
   "cell_type": "markdown",
   "id": "c9912e51-26c0-461a-a9f7-63cc32645ea0",
   "metadata": {},
   "source": [
    "### Evaluation Report"
   ]
  },
  {
   "cell_type": "markdown",
   "id": "6bd6d530-6ca9-47a4-824f-e0ceefc58f4d",
   "metadata": {},
   "source": [
    "**Quality Report**\n",
    "For checking data  Fidelity:  How well the synthetic data captures mathematical properties from your real data.\n",
    "\n",
    "Evaluates: \n",
    "- Overall score including Column Shapes, Columns Pair Trends\n",
    "- Metrics and score details for Column Shapes, Columns Pair Trends\n",
    "- All scaore range from 0 to 1\n",
    "\n",
    "**Diagnoistic Report** \n",
    "Give a general sense of the strengths and weakness of the synthetic data model. \n",
    "Evaluates: \n",
    "- Overall [diagnosic results](https://docs.sdv.dev/sdmetrics/reports/diagnostic-report/single-table-api#get_results) -- SUCCESS, WARNING, DANGER \n",
    "- Properties -- Syntheiss, Coverage, Boundaries "
   ]
  },
  {
   "cell_type": "markdown",
   "id": "0787a619-a0d9-4e72-87f5-bae6141f5a5d",
   "metadata": {},
   "source": [
    "# Experiments "
   ]
  },
  {
   "cell_type": "markdown",
   "id": "f027881e-8fc4-4ab8-8456-5ce8f36b3a48",
   "metadata": {},
   "source": [
    "**Mock Data**\n",
    "- SDV demo data \n",
    "- simulated_hospital_data with varying: (1) num of columns -- 5, 10, 20 (2) num of rows -- 1k, 10k, 50k, 100k"
   ]
  },
  {
   "cell_type": "code",
   "execution_count": 31,
   "id": "ca0ba74b-656a-4c21-9d96-e6568124e76a",
   "metadata": {},
   "outputs": [],
   "source": [
    "BASE_MOCK_HOSP_PATH = \"synthetic_data\"\n",
    "\n",
    "str_num_rows = [1000, 10000, 50000, 100000]\n",
    "str_num_columns = [5, 10, 20]"
   ]
  },
  {
   "cell_type": "markdown",
   "id": "549cfb35-c9a5-4aac-baed-6c22132d135d",
   "metadata": {},
   "source": [
    "**Real Data** "
   ]
  },
  {
   "cell_type": "code",
   "execution_count": 51,
   "id": "e118be08-db36-44b4-ab3a-bb8cef3e093a",
   "metadata": {},
   "outputs": [],
   "source": [
    "REAL_DATA_LIST = [\"real_data/community_survey.csv\", \"real_data/us_census.csv\"] #\"real_data/time_use.csv\", "
   ]
  },
  {
   "cell_type": "markdown",
   "id": "90df69ca-c2f6-459a-b270-b46a20179ea6",
   "metadata": {},
   "source": [
    "## Utility functions"
   ]
  },
  {
   "cell_type": "code",
   "execution_count": 23,
   "id": "92acf8d2-d7ea-44d6-9bac-ec1bcdd63e6c",
   "metadata": {},
   "outputs": [],
   "source": [
    "def get_model_time_score(synthesizer, metadata, real_data, samples=500, gen_quality_report=False, gen_diagnostic_report=True): \n",
    "    \n",
    "    # ---------------------\n",
    "    # Step 1: Train\n",
    "    # ---------------------\n",
    "    begin_time = time.time()\n",
    "    synthesizer = GaussianCopulaSynthesizer(metadata, enforce_min_max_values=True, enforce_rounding=False)\n",
    "    synthesizer.fit(real_data)\n",
    "    end_time = time.time()\n",
    "    \n",
    "    training_time = end_time - begin_time\n",
    "    \n",
    "    # ---------------------\n",
    "    # Step 2: Sample\n",
    "    # ---------------------\n",
    "    begin_time = time.time()\n",
    "    synthetic_data = synthesizer.sample(num_rows=samples)\n",
    "    end_time = time.time()\n",
    "    \n",
    "    sampling_time = end_time - begin_time\n",
    "    \n",
    "    # ---------------------\n",
    "    # Step 3: Evaluate\n",
    "    # ---------------------\n",
    "\n",
    "    # 1. QUALITY REPORT\n",
    "    # time consuming so keeping conditional\n",
    "    if gen_quality_report:\n",
    "        begin_time = time.time()\n",
    "        quality_report_obj = evaluate_quality(\n",
    "                real_data,\n",
    "                synthetic_data,\n",
    "                metadata\n",
    "            )\n",
    "        end_time = time.time()\n",
    "        \n",
    "        quality_report_time = end_time - begin_time\n",
    "        \n",
    "        quality_report = { \n",
    "            \"quality_report_obj\": quality_report_obj,\n",
    "            \"quality_report_time\": quality_report_time,\n",
    "            \"quality_report_score\": quality_report_obj.get_score()\n",
    "        }\n",
    "        \n",
    "    # 2. DIAGNOSTIC REPORT\n",
    "    if gen_diagnostic_report:\n",
    "        begin_time = time.time()\n",
    "        diagnostic_report_obj = run_diagnostic(\n",
    "                real_data,\n",
    "                synthetic_data,\n",
    "                metadata\n",
    "            )\n",
    "        end_time = time.time()\n",
    "        \n",
    "        diagnostic_report_time = end_time - begin_time\n",
    "        \n",
    "        diagnostic_report = { \n",
    "            \"diagnostic_report_obj\": diagnostic_report_obj,\n",
    "            \"diagnostic_report_time\": diagnostic_report_time\n",
    "            \n",
    "        }\n",
    "        \n",
    "    return {\n",
    "            \"training_time\": training_time,\n",
    "            \"sampling_time\": sampling_time,\n",
    "            \"quality_report\": quality_report if gen_quality_report else None,\n",
    "            \"diagnostic_report\": diagnostic_report}"
   ]
  },
  {
   "cell_type": "code",
   "execution_count": 24,
   "id": "3aaef70d-b3fb-40dd-b828-5baa96962fc3",
   "metadata": {},
   "outputs": [],
   "source": [
    "def detect_metadata(real_data_df): \n",
    "    metadata = SingleTableMetadata()\n",
    "    metadata.detect_from_dataframe(data=real_data_df)\n",
    "    pprint(metadata.to_dict())\n",
    "#     python_dict = metadata.to_dict()\n",
    "    return metadata"
   ]
  },
  {
   "cell_type": "markdown",
   "id": "10600c2b-c819-48c7-bc0f-deb3914cc588",
   "metadata": {},
   "source": [
    "## Models"
   ]
  },
  {
   "cell_type": "markdown",
   "id": "b0ea82be-c6f7-49d3-9da3-857bba3fcd39",
   "metadata": {},
   "source": [
    "## 1. Gaussian Copula Model "
   ]
  },
  {
   "cell_type": "code",
   "execution_count": 25,
   "id": "f4efa7ea-c152-4610-8d2e-91ba78ce6819",
   "metadata": {},
   "outputs": [],
   "source": [
    "evaluate_synthesizer = GaussianCopulaSynthesizer"
   ]
  },
  {
   "cell_type": "markdown",
   "id": "86960375-21b7-49e4-b960-27aafba3e5b4",
   "metadata": {},
   "source": [
    "### 1.1. Mock SDV demo data"
   ]
  },
  {
   "cell_type": "code",
   "execution_count": 26,
   "id": "21fe5e02-13a8-4282-a793-4165f94aeb26",
   "metadata": {},
   "outputs": [
    {
     "name": "stdout",
     "output_type": "stream",
     "text": [
      "{\n",
      "    \"METADATA_SPEC_VERSION\": \"SINGLE_TABLE_V1\",\n",
      "    \"columns\": {\n",
      "        \"guest_email\": {\n",
      "            \"sdtype\": \"email\",\n",
      "            \"pii\": true\n",
      "        },\n",
      "        \"has_rewards\": {\n",
      "            \"sdtype\": \"boolean\"\n",
      "        },\n",
      "        \"room_type\": {\n",
      "            \"sdtype\": \"categorical\"\n",
      "        },\n",
      "        \"amenities_fee\": {\n",
      "            \"sdtype\": \"numerical\",\n",
      "            \"computer_representation\": \"Float\"\n",
      "        },\n",
      "        \"checkin_date\": {\n",
      "            \"sdtype\": \"datetime\",\n",
      "            \"datetime_format\": \"%d %b %Y\"\n",
      "        },\n",
      "        \"checkout_date\": {\n",
      "            \"sdtype\": \"datetime\",\n",
      "            \"datetime_format\": \"%d %b %Y\"\n",
      "        },\n",
      "        \"room_rate\": {\n",
      "            \"sdtype\": \"numerical\",\n",
      "            \"computer_representation\": \"Float\"\n",
      "        },\n",
      "        \"billing_address\": {\n",
      "            \"sdtype\": \"address\",\n",
      "            \"pii\": true\n",
      "        },\n",
      "        \"credit_card_number\": {\n",
      "            \"sdtype\": \"credit_card_number\",\n",
      "            \"pii\": true\n",
      "        }\n",
      "    },\n",
      "    \"primary_key\": \"guest_email\"\n",
      "}\n"
     ]
    },
    {
     "name": "stderr",
     "output_type": "stream",
     "text": [
      "Creating report: 100%|████████████████████████████████████████████████████████████████████████████████████████████████████████████████████████████████████████████████████████████████████████████████████| 4/4 [00:00<00:00, 50.25it/s]\n"
     ]
    },
    {
     "name": "stdout",
     "output_type": "stream",
     "text": [
      "\n",
      "Overall Quality Score: 87.83%\n",
      "\n",
      "Properties:\n",
      "Column Shapes: 87.28%\n",
      "Column Pair Trends: 88.38%\n"
     ]
    },
    {
     "name": "stderr",
     "output_type": "stream",
     "text": [
      "Creating report: 100%|████████████████████████████████████████████████████████████████████████████████████████████████████████████████████████████████████████████████████████████████████████████████████| 4/4 [00:01<00:00,  2.05it/s]"
     ]
    },
    {
     "name": "stdout",
     "output_type": "stream",
     "text": [
      "\n",
      "DiagnosticResults:\n",
      "\n",
      "SUCCESS:\n",
      "✓ The synthetic data covers over 90% of the numerical ranges present in the real data\n",
      "✓ The synthetic data covers over 90% of the categories present in the real data\n",
      "✓ Over 90% of the synthetic rows are not copies of the real data\n",
      "✓ The synthetic data follows over 90% of the min/max boundaries set by the real data\n",
      "{'diagnostic_report': {'diagnostic_report_obj': <sdmetrics.reports.single_table.diagnostic_report.DiagnosticReport object at 0x14492ef70>,\n",
      "                       'diagnostic_report_time': 1.9558310508728027},\n",
      " 'quality_report': {'quality_report_obj': <sdmetrics.reports.single_table.quality_report.QualityReport object at 0x1448b9f40>,\n",
      "                    'quality_report_score': 0.8782824635868114,\n",
      "                    'quality_report_time': 0.22413206100463867},\n",
      " 'sampling_time': 0.2985079288482666,\n",
      " 'training_time': 1.2819840908050537}\n"
     ]
    },
    {
     "name": "stderr",
     "output_type": "stream",
     "text": [
      "\n"
     ]
    }
   ],
   "source": [
    "demo_data, demo_metadata = download_demo(\n",
    "    modality='single_table',\n",
    "    dataset_name='fake_hotel_guests'\n",
    ")\n",
    "\n",
    "pprint(demo_metadata)\n",
    "synthesizer = evaluate_synthesizer(demo_metadata)\n",
    "\n",
    "pprint(get_model_time_score(synthesizer, demo_metadata, demo_data, 500, True, True))"
   ]
  },
  {
   "cell_type": "markdown",
   "id": "36ba9e20-8731-4717-98f2-8741af71ab8a",
   "metadata": {},
   "source": [
    "### 1.2. Mock hospital data"
   ]
  },
  {
   "cell_type": "markdown",
   "id": "7155878a-0353-4f45-8575-088a4e4345b2",
   "metadata": {
    "tags": []
   },
   "source": [
    "**Varying number of rows and columns**"
   ]
  },
  {
   "cell_type": "code",
   "execution_count": 36,
   "id": "09f139e5-51c3-433e-8da2-f984ee50e805",
   "metadata": {},
   "outputs": [
    {
     "name": "stdout",
     "output_type": "stream",
     "text": [
      "{'METADATA_SPEC_VERSION': 'SINGLE_TABLE_V1',\n",
      " 'columns': {'Age': {'sdtype': 'numerical'},\n",
      "             'DateOfDiagnosis': {'sdtype': 'categorical'},\n",
      "             'Gender': {'sdtype': 'categorical'},\n",
      "             'NRIC': {'sdtype': 'categorical'},\n",
      "             'Name': {'sdtype': 'categorical'}}}\n",
      "##############################\n",
      "Generating for: synthetic_data/5_data_fields/hosp_1000x5.csv\n",
      "------------------------------\n"
     ]
    },
    {
     "name": "stderr",
     "output_type": "stream",
     "text": [
      "Creating report: 100%|████████████████████████████████████████████████████████████████████████████████████████████████████████████████████████████████████████████████████████████████████████████████████| 4/4 [00:03<00:00,  1.26it/s]\n"
     ]
    },
    {
     "name": "stdout",
     "output_type": "stream",
     "text": [
      "\n",
      "DiagnosticResults:\n",
      "\n",
      "SUCCESS:\n",
      "✓ The synthetic data covers over 90% of the numerical ranges present in the real data\n",
      "✓ Over 90% of the synthetic rows are not copies of the real data\n",
      "✓ The synthetic data follows over 90% of the min/max boundaries set by the real data\n",
      "\n",
      "WARNING:\n",
      "! The synthetic data is missing more than 10% of the categories present in the real data\n",
      "{'diagnostic_report': {'diagnostic_report_obj': <sdmetrics.reports.single_table.diagnostic_report.DiagnosticReport object at 0x144a88550>,\n",
      "                       'diagnostic_report_time': 3.1740341186523438},\n",
      " 'quality_report': None,\n",
      " 'sampling_time': 0.036592960357666016,\n",
      " 'training_time': 0.5281028747558594}\n",
      "{'METADATA_SPEC_VERSION': 'SINGLE_TABLE_V1',\n",
      " 'columns': {'Age': {'sdtype': 'numerical'},\n",
      "             'DateOfDiagnosis': {'sdtype': 'categorical'},\n",
      "             'Gender': {'sdtype': 'categorical'},\n",
      "             'NRIC': {'sdtype': 'categorical'},\n",
      "             'Name': {'sdtype': 'categorical'}}}\n",
      "##############################\n",
      "Generating for: synthetic_data/5_data_fields/hosp_10000x5.csv\n",
      "------------------------------\n"
     ]
    },
    {
     "name": "stderr",
     "output_type": "stream",
     "text": [
      "Creating report: 100%|████████████████████████████████████████████████████████████████████████████████████████████████████████████████████████████████████████████████████████████████████████████████████| 4/4 [00:35<00:00,  8.99s/it]\n"
     ]
    },
    {
     "name": "stdout",
     "output_type": "stream",
     "text": [
      "\n",
      "DiagnosticResults:\n",
      "\n",
      "SUCCESS:\n",
      "✓ The synthetic data covers over 90% of the numerical ranges present in the real data\n",
      "✓ Over 90% of the synthetic rows are not copies of the real data\n",
      "✓ The synthetic data follows over 90% of the min/max boundaries set by the real data\n",
      "\n",
      "WARNING:\n",
      "! The synthetic data is missing more than 10% of the categories present in the real data\n",
      "{'diagnostic_report': {'diagnostic_report_obj': <sdmetrics.reports.single_table.diagnostic_report.DiagnosticReport object at 0x147cbd610>,\n",
      "                       'diagnostic_report_time': 35.980793952941895},\n",
      " 'quality_report': None,\n",
      " 'sampling_time': 0.11009526252746582,\n",
      " 'training_time': 0.7555878162384033}\n",
      "{'METADATA_SPEC_VERSION': 'SINGLE_TABLE_V1',\n",
      " 'columns': {'Age': {'sdtype': 'numerical'},\n",
      "             'DateOfDiagnosis': {'sdtype': 'categorical'},\n",
      "             'Gender': {'sdtype': 'categorical'},\n",
      "             'NRIC': {'sdtype': 'categorical'},\n",
      "             'Name': {'sdtype': 'categorical'}}}\n",
      "##############################\n",
      "Generating for: synthetic_data/5_data_fields/hosp_50000x5.csv\n",
      "------------------------------\n"
     ]
    },
    {
     "name": "stderr",
     "output_type": "stream",
     "text": [
      "Creating report: 100%|████████████████████████████████████████████████████████████████████████████████████████████████████████████████████████████████████████████████████████████████████████████████████| 4/4 [01:08<00:00, 17.11s/it]\n"
     ]
    },
    {
     "name": "stdout",
     "output_type": "stream",
     "text": [
      "\n",
      "DiagnosticResults:\n",
      "\n",
      "SUCCESS:\n",
      "✓ The synthetic data covers over 90% of the numerical ranges present in the real data\n",
      "✓ Over 90% of the synthetic rows are not copies of the real data\n",
      "✓ The synthetic data follows over 90% of the min/max boundaries set by the real data\n",
      "\n",
      "WARNING:\n",
      "! The synthetic data is missing more than 10% of the categories present in the real data\n",
      "{'diagnostic_report': {'diagnostic_report_obj': <sdmetrics.reports.single_table.diagnostic_report.DiagnosticReport object at 0x147936ca0>,\n",
      "                       'diagnostic_report_time': 68.44937515258789},\n",
      " 'quality_report': None,\n",
      " 'sampling_time': 0.4289979934692383,\n",
      " 'training_time': 2.961811065673828}\n",
      "{'METADATA_SPEC_VERSION': 'SINGLE_TABLE_V1',\n",
      " 'columns': {'Age': {'sdtype': 'numerical'},\n",
      "             'DateOfDiagnosis': {'sdtype': 'categorical'},\n",
      "             'Gender': {'sdtype': 'categorical'},\n",
      "             'NRIC': {'sdtype': 'categorical'},\n",
      "             'Name': {'sdtype': 'categorical'}}}\n",
      "##############################\n",
      "Generating for: synthetic_data/5_data_fields/hosp_100000x5.csv\n",
      "------------------------------\n"
     ]
    },
    {
     "name": "stderr",
     "output_type": "stream",
     "text": [
      "Creating report: 100%|████████████████████████████████████████████████████████████████████████████████████████████████████████████████████████████████████████████████████████████████████████████████████| 4/4 [01:41<00:00, 25.27s/it]\n"
     ]
    },
    {
     "name": "stdout",
     "output_type": "stream",
     "text": [
      "\n",
      "DiagnosticResults:\n",
      "\n",
      "SUCCESS:\n",
      "✓ The synthetic data covers over 90% of the numerical ranges present in the real data\n",
      "✓ Over 90% of the synthetic rows are not copies of the real data\n",
      "✓ The synthetic data follows over 90% of the min/max boundaries set by the real data\n",
      "\n",
      "WARNING:\n",
      "! The synthetic data is missing more than 10% of the categories present in the real data\n",
      "{'diagnostic_report': {'diagnostic_report_obj': <sdmetrics.reports.single_table.diagnostic_report.DiagnosticReport object at 0x147c67bb0>,\n",
      "                       'diagnostic_report_time': 101.10261392593384},\n",
      " 'quality_report': None,\n",
      " 'sampling_time': 1.0197410583496094,\n",
      " 'training_time': 6.101722002029419}\n",
      "{'METADATA_SPEC_VERSION': 'SINGLE_TABLE_V1',\n",
      " 'columns': {'Age0': {'sdtype': 'numerical'},\n",
      "             'BMI0': {'sdtype': 'numerical'},\n",
      "             'BloodType0': {'sdtype': 'categorical'},\n",
      "             'DateOfDiagnosis0': {'sdtype': 'categorical'},\n",
      "             'Disease0': {'sdtype': 'categorical'},\n",
      "             'Gender0': {'sdtype': 'categorical'},\n",
      "             'NRIC0': {'sdtype': 'categorical'},\n",
      "             'Name0': {'sdtype': 'categorical'},\n",
      "             'Weight0': {'sdtype': 'numerical'},\n",
      "             'Zipcode0': {'sdtype': 'numerical'}}}\n",
      "##############################\n",
      "Generating for: synthetic_data/10_data_fields/hosp_1000x10.csv\n",
      "------------------------------\n"
     ]
    },
    {
     "name": "stderr",
     "output_type": "stream",
     "text": [
      "Creating report: 100%|████████████████████████████████████████████████████████████████████████████████████████████████████████████████████████████████████████████████████████████████████████████████████| 4/4 [00:05<00:00,  1.27s/it]\n"
     ]
    },
    {
     "name": "stdout",
     "output_type": "stream",
     "text": [
      "\n",
      "DiagnosticResults:\n",
      "\n",
      "SUCCESS:\n",
      "✓ The synthetic data covers over 90% of the numerical ranges present in the real data\n",
      "✓ Over 90% of the synthetic rows are not copies of the real data\n",
      "✓ The synthetic data follows over 90% of the min/max boundaries set by the real data\n",
      "\n",
      "WARNING:\n",
      "! The synthetic data is missing more than 10% of the categories present in the real data\n",
      "{'diagnostic_report': {'diagnostic_report_obj': <sdmetrics.reports.single_table.diagnostic_report.DiagnosticReport object at 0x147c58e50>,\n",
      "                       'diagnostic_report_time': 5.1008923053741455},\n",
      " 'quality_report': None,\n",
      " 'sampling_time': 0.056378841400146484,\n",
      " 'training_time': 0.7904999256134033}\n",
      "{'METADATA_SPEC_VERSION': 'SINGLE_TABLE_V1',\n",
      " 'columns': {'Age0': {'sdtype': 'numerical'},\n",
      "             'BMI0': {'sdtype': 'numerical'},\n",
      "             'BloodType0': {'sdtype': 'categorical'},\n",
      "             'DateOfDiagnosis0': {'sdtype': 'categorical'},\n",
      "             'Disease0': {'sdtype': 'categorical'},\n",
      "             'Gender0': {'sdtype': 'categorical'},\n",
      "             'NRIC0': {'sdtype': 'categorical'},\n",
      "             'Name0': {'sdtype': 'categorical'},\n",
      "             'Weight0': {'sdtype': 'numerical'},\n",
      "             'Zipcode0': {'sdtype': 'numerical'}}}\n",
      "##############################\n",
      "Generating for: synthetic_data/10_data_fields/hosp_10000x10.csv\n",
      "------------------------------\n"
     ]
    },
    {
     "name": "stderr",
     "output_type": "stream",
     "text": [
      "Creating report: 100%|████████████████████████████████████████████████████████████████████████████████████████████████████████████████████████████████████████████████████████████████████████████████████| 4/4 [01:00<00:00, 15.01s/it]\n"
     ]
    },
    {
     "name": "stdout",
     "output_type": "stream",
     "text": [
      "\n",
      "DiagnosticResults:\n",
      "\n",
      "SUCCESS:\n",
      "✓ The synthetic data covers over 90% of the numerical ranges present in the real data\n",
      "✓ Over 90% of the synthetic rows are not copies of the real data\n",
      "✓ The synthetic data follows over 90% of the min/max boundaries set by the real data\n",
      "\n",
      "WARNING:\n",
      "! The synthetic data is missing more than 10% of the categories present in the real data\n",
      "{'diagnostic_report': {'diagnostic_report_obj': <sdmetrics.reports.single_table.diagnostic_report.DiagnosticReport object at 0x147c91d30>,\n",
      "                       'diagnostic_report_time': 60.04349708557129},\n",
      " 'quality_report': None,\n",
      " 'sampling_time': 0.20702314376831055,\n",
      " 'training_time': 2.0034260749816895}\n",
      "{'METADATA_SPEC_VERSION': 'SINGLE_TABLE_V1',\n",
      " 'columns': {'Age0': {'sdtype': 'numerical'},\n",
      "             'BMI0': {'sdtype': 'numerical'},\n",
      "             'BloodType0': {'sdtype': 'categorical'},\n",
      "             'DateOfDiagnosis0': {'sdtype': 'categorical'},\n",
      "             'Disease0': {'sdtype': 'categorical'},\n",
      "             'Gender0': {'sdtype': 'categorical'},\n",
      "             'NRIC0': {'sdtype': 'categorical'},\n",
      "             'Name0': {'sdtype': 'categorical'},\n",
      "             'Weight0': {'sdtype': 'numerical'},\n",
      "             'Zipcode0': {'sdtype': 'numerical'}}}\n",
      "##############################\n",
      "Generating for: synthetic_data/10_data_fields/hosp_50000x10.csv\n",
      "------------------------------\n"
     ]
    },
    {
     "name": "stderr",
     "output_type": "stream",
     "text": [
      "Creating report: 100%|████████████████████████████████████████████████████████████████████████████████████████████████████████████████████████████████████████████████████████████████████████████████████| 4/4 [01:54<00:00, 28.61s/it]\n"
     ]
    },
    {
     "name": "stdout",
     "output_type": "stream",
     "text": [
      "\n",
      "DiagnosticResults:\n",
      "\n",
      "SUCCESS:\n",
      "✓ The synthetic data covers over 90% of the numerical ranges present in the real data\n",
      "✓ Over 90% of the synthetic rows are not copies of the real data\n",
      "✓ The synthetic data follows over 90% of the min/max boundaries set by the real data\n",
      "\n",
      "WARNING:\n",
      "! The synthetic data is missing more than 10% of the categories present in the real data\n",
      "{'diagnostic_report': {'diagnostic_report_obj': <sdmetrics.reports.single_table.diagnostic_report.DiagnosticReport object at 0x147cbd910>,\n",
      "                       'diagnostic_report_time': 114.44423580169678},\n",
      " 'quality_report': None,\n",
      " 'sampling_time': 0.7958579063415527,\n",
      " 'training_time': 6.420621156692505}\n",
      "{'METADATA_SPEC_VERSION': 'SINGLE_TABLE_V1',\n",
      " 'columns': {'Age0': {'sdtype': 'numerical'},\n",
      "             'BMI0': {'sdtype': 'numerical'},\n",
      "             'BloodType0': {'sdtype': 'categorical'},\n",
      "             'DateOfDiagnosis0': {'sdtype': 'categorical'},\n",
      "             'Disease0': {'sdtype': 'categorical'},\n",
      "             'Gender0': {'sdtype': 'categorical'},\n",
      "             'NRIC0': {'sdtype': 'categorical'},\n",
      "             'Name0': {'sdtype': 'categorical'},\n",
      "             'Weight0': {'sdtype': 'numerical'},\n",
      "             'Zipcode0': {'sdtype': 'numerical'}}}\n",
      "##############################\n",
      "Generating for: synthetic_data/10_data_fields/hosp_100000x10.csv\n",
      "------------------------------\n"
     ]
    },
    {
     "name": "stderr",
     "output_type": "stream",
     "text": [
      "Creating report: 100%|████████████████████████████████████████████████████████████████████████████████████████████████████████████████████████████████████████████████████████████████████████████████████| 4/4 [02:46<00:00, 41.66s/it]\n"
     ]
    },
    {
     "name": "stdout",
     "output_type": "stream",
     "text": [
      "\n",
      "DiagnosticResults:\n",
      "\n",
      "SUCCESS:\n",
      "✓ The synthetic data covers over 90% of the numerical ranges present in the real data\n",
      "✓ Over 90% of the synthetic rows are not copies of the real data\n",
      "✓ The synthetic data follows over 90% of the min/max boundaries set by the real data\n",
      "\n",
      "WARNING:\n",
      "! The synthetic data is missing more than 10% of the categories present in the real data\n",
      "{'diagnostic_report': {'diagnostic_report_obj': <sdmetrics.reports.single_table.diagnostic_report.DiagnosticReport object at 0x147c81fd0>,\n",
      "                       'diagnostic_report_time': 166.6308240890503},\n",
      " 'quality_report': None,\n",
      " 'sampling_time': 1.924010992050171,\n",
      " 'training_time': 12.069630861282349}\n",
      "{'METADATA_SPEC_VERSION': 'SINGLE_TABLE_V1',\n",
      " 'columns': {'Age0': {'sdtype': 'numerical'},\n",
      "             'Age1': {'sdtype': 'numerical'},\n",
      "             'BMI0': {'sdtype': 'numerical'},\n",
      "             'BMI1': {'sdtype': 'numerical'},\n",
      "             'BloodType0': {'sdtype': 'categorical'},\n",
      "             'BloodType1': {'sdtype': 'categorical'},\n",
      "             'DateOfDiagnosis0': {'sdtype': 'categorical'},\n",
      "             'DateOfDiagnosis1': {'sdtype': 'categorical'},\n",
      "             'Disease0': {'sdtype': 'categorical'},\n",
      "             'Disease1': {'sdtype': 'categorical'},\n",
      "             'Gender0': {'sdtype': 'categorical'},\n",
      "             'Gender1': {'sdtype': 'categorical'},\n",
      "             'NRIC0': {'sdtype': 'categorical'},\n",
      "             'NRIC1': {'sdtype': 'categorical'},\n",
      "             'Name0': {'sdtype': 'categorical'},\n",
      "             'Name1': {'sdtype': 'categorical'},\n",
      "             'Weight0': {'sdtype': 'numerical'},\n",
      "             'Weight1': {'sdtype': 'numerical'},\n",
      "             'Zipcode0': {'sdtype': 'numerical'},\n",
      "             'Zipcode1': {'sdtype': 'numerical'}}}\n",
      "##############################\n",
      "Generating for: synthetic_data/20_data_fields/hosp_1000x20.csv\n",
      "------------------------------\n"
     ]
    },
    {
     "name": "stderr",
     "output_type": "stream",
     "text": [
      "Creating report: 100%|████████████████████████████████████████████████████████████████████████████████████████████████████████████████████████████████████████████████████████████████████████████████████| 4/4 [00:11<00:00,  2.90s/it]\n"
     ]
    },
    {
     "name": "stdout",
     "output_type": "stream",
     "text": [
      "\n",
      "DiagnosticResults:\n",
      "\n",
      "SUCCESS:\n",
      "✓ The synthetic data covers over 90% of the numerical ranges present in the real data\n",
      "✓ Over 90% of the synthetic rows are not copies of the real data\n",
      "✓ The synthetic data follows over 90% of the min/max boundaries set by the real data\n",
      "\n",
      "WARNING:\n",
      "! The synthetic data is missing more than 10% of the categories present in the real data\n",
      "{'diagnostic_report': {'diagnostic_report_obj': <sdmetrics.reports.single_table.diagnostic_report.DiagnosticReport object at 0x147c67bb0>,\n",
      "                       'diagnostic_report_time': 11.613440036773682},\n",
      " 'quality_report': None,\n",
      " 'sampling_time': 0.12970590591430664,\n",
      " 'training_time': 1.5793561935424805}\n",
      "{'METADATA_SPEC_VERSION': 'SINGLE_TABLE_V1',\n",
      " 'columns': {'Age0': {'sdtype': 'numerical'},\n",
      "             'Age1': {'sdtype': 'numerical'},\n",
      "             'BMI0': {'sdtype': 'numerical'},\n",
      "             'BMI1': {'sdtype': 'numerical'},\n",
      "             'BloodType0': {'sdtype': 'categorical'},\n",
      "             'BloodType1': {'sdtype': 'categorical'},\n",
      "             'DateOfDiagnosis0': {'sdtype': 'categorical'},\n",
      "             'DateOfDiagnosis1': {'sdtype': 'categorical'},\n",
      "             'Disease0': {'sdtype': 'categorical'},\n",
      "             'Disease1': {'sdtype': 'categorical'},\n",
      "             'Gender0': {'sdtype': 'categorical'},\n",
      "             'Gender1': {'sdtype': 'categorical'},\n",
      "             'NRIC0': {'sdtype': 'categorical'},\n",
      "             'NRIC1': {'sdtype': 'categorical'},\n",
      "             'Name0': {'sdtype': 'categorical'},\n",
      "             'Name1': {'sdtype': 'categorical'},\n",
      "             'Weight0': {'sdtype': 'numerical'},\n",
      "             'Weight1': {'sdtype': 'numerical'},\n",
      "             'Zipcode0': {'sdtype': 'numerical'},\n",
      "             'Zipcode1': {'sdtype': 'numerical'}}}\n",
      "##############################\n",
      "Generating for: synthetic_data/20_data_fields/hosp_10000x20.csv\n",
      "------------------------------\n"
     ]
    },
    {
     "name": "stderr",
     "output_type": "stream",
     "text": [
      "Creating report: 100%|████████████████████████████████████████████████████████████████████████████████████████████████████████████████████████████████████████████████████████████████████████████████████| 4/4 [02:06<00:00, 31.68s/it]\n"
     ]
    },
    {
     "name": "stdout",
     "output_type": "stream",
     "text": [
      "\n",
      "DiagnosticResults:\n",
      "\n",
      "SUCCESS:\n",
      "✓ The synthetic data covers over 90% of the numerical ranges present in the real data\n",
      "✓ Over 90% of the synthetic rows are not copies of the real data\n",
      "✓ The synthetic data follows over 90% of the min/max boundaries set by the real data\n",
      "\n",
      "WARNING:\n",
      "! The synthetic data is missing more than 10% of the categories present in the real data\n",
      "{'diagnostic_report': {'diagnostic_report_obj': <sdmetrics.reports.single_table.diagnostic_report.DiagnosticReport object at 0x147c67bb0>,\n",
      "                       'diagnostic_report_time': 126.73464894294739},\n",
      " 'quality_report': None,\n",
      " 'sampling_time': 0.3910808563232422,\n",
      " 'training_time': 3.8084909915924072}\n",
      "{'METADATA_SPEC_VERSION': 'SINGLE_TABLE_V1',\n",
      " 'columns': {'Age0': {'sdtype': 'numerical'},\n",
      "             'Age1': {'sdtype': 'numerical'},\n",
      "             'BMI0': {'sdtype': 'numerical'},\n",
      "             'BMI1': {'sdtype': 'numerical'},\n",
      "             'BloodType0': {'sdtype': 'categorical'},\n",
      "             'BloodType1': {'sdtype': 'categorical'},\n",
      "             'DateOfDiagnosis0': {'sdtype': 'categorical'},\n",
      "             'DateOfDiagnosis1': {'sdtype': 'categorical'},\n",
      "             'Disease0': {'sdtype': 'categorical'},\n",
      "             'Disease1': {'sdtype': 'categorical'},\n",
      "             'Gender0': {'sdtype': 'categorical'},\n",
      "             'Gender1': {'sdtype': 'categorical'},\n",
      "             'NRIC0': {'sdtype': 'categorical'},\n",
      "             'NRIC1': {'sdtype': 'categorical'},\n",
      "             'Name0': {'sdtype': 'categorical'},\n",
      "             'Name1': {'sdtype': 'categorical'},\n",
      "             'Weight0': {'sdtype': 'numerical'},\n",
      "             'Weight1': {'sdtype': 'numerical'},\n",
      "             'Zipcode0': {'sdtype': 'numerical'},\n",
      "             'Zipcode1': {'sdtype': 'numerical'}}}\n",
      "##############################\n",
      "Generating for: synthetic_data/20_data_fields/hosp_50000x20.csv\n",
      "------------------------------\n"
     ]
    },
    {
     "name": "stderr",
     "output_type": "stream",
     "text": [
      "Creating report: 100%|████████████████████████████████████████████████████████████████████████████████████████████████████████████████████████████████████████████████████████████████████████████████████| 4/4 [03:37<00:00, 54.48s/it]\n"
     ]
    },
    {
     "name": "stdout",
     "output_type": "stream",
     "text": [
      "\n",
      "DiagnosticResults:\n",
      "\n",
      "SUCCESS:\n",
      "✓ The synthetic data covers over 90% of the numerical ranges present in the real data\n",
      "✓ Over 90% of the synthetic rows are not copies of the real data\n",
      "✓ The synthetic data follows over 90% of the min/max boundaries set by the real data\n",
      "\n",
      "WARNING:\n",
      "! The synthetic data is missing more than 10% of the categories present in the real data\n",
      "{'diagnostic_report': {'diagnostic_report_obj': <sdmetrics.reports.single_table.diagnostic_report.DiagnosticReport object at 0x144904eb0>,\n",
      "                       'diagnostic_report_time': 217.91224122047424},\n",
      " 'quality_report': None,\n",
      " 'sampling_time': 1.8924031257629395,\n",
      " 'training_time': 13.4011390209198}\n",
      "{'METADATA_SPEC_VERSION': 'SINGLE_TABLE_V1',\n",
      " 'columns': {'Age0': {'sdtype': 'numerical'},\n",
      "             'Age1': {'sdtype': 'numerical'},\n",
      "             'BMI0': {'sdtype': 'numerical'},\n",
      "             'BMI1': {'sdtype': 'numerical'},\n",
      "             'BloodType0': {'sdtype': 'categorical'},\n",
      "             'BloodType1': {'sdtype': 'categorical'},\n",
      "             'DateOfDiagnosis0': {'sdtype': 'categorical'},\n",
      "             'DateOfDiagnosis1': {'sdtype': 'categorical'},\n",
      "             'Disease0': {'sdtype': 'categorical'},\n",
      "             'Disease1': {'sdtype': 'categorical'},\n",
      "             'Gender0': {'sdtype': 'categorical'},\n",
      "             'Gender1': {'sdtype': 'categorical'},\n",
      "             'NRIC0': {'sdtype': 'categorical'},\n",
      "             'NRIC1': {'sdtype': 'categorical'},\n",
      "             'Name0': {'sdtype': 'categorical'},\n",
      "             'Name1': {'sdtype': 'categorical'},\n",
      "             'Weight0': {'sdtype': 'numerical'},\n",
      "             'Weight1': {'sdtype': 'numerical'},\n",
      "             'Zipcode0': {'sdtype': 'numerical'},\n",
      "             'Zipcode1': {'sdtype': 'numerical'}}}\n",
      "##############################\n",
      "Generating for: synthetic_data/20_data_fields/hosp_100000x20.csv\n",
      "------------------------------\n"
     ]
    },
    {
     "name": "stderr",
     "output_type": "stream",
     "text": [
      "Creating report: 100%|████████████████████████████████████████████████████████████████████████████████████████████████████████████████████████████████████████████████████████████████████████████████████| 4/4 [05:22<00:00, 80.74s/it]"
     ]
    },
    {
     "name": "stdout",
     "output_type": "stream",
     "text": [
      "\n",
      "DiagnosticResults:\n",
      "\n",
      "SUCCESS:\n",
      "✓ The synthetic data covers over 90% of the numerical ranges present in the real data\n",
      "✓ Over 90% of the synthetic rows are not copies of the real data\n",
      "✓ The synthetic data follows over 90% of the min/max boundaries set by the real data\n",
      "\n",
      "WARNING:\n",
      "! The synthetic data is missing more than 10% of the categories present in the real data\n",
      "{'diagnostic_report': {'diagnostic_report_obj': <sdmetrics.reports.single_table.diagnostic_report.DiagnosticReport object at 0x149142d90>,\n",
      "                       'diagnostic_report_time': 322.9465229511261},\n",
      " 'quality_report': None,\n",
      " 'sampling_time': 3.729057788848877,\n",
      " 'training_time': 28.79592800140381}\n"
     ]
    },
    {
     "name": "stderr",
     "output_type": "stream",
     "text": [
      "\n"
     ]
    }
   ],
   "source": [
    "for c in str_num_columns:\n",
    "    for r in str_num_rows:        \n",
    "        file_name = BASE_MOCK_HOSP_PATH + f\"/{c}_data_fields/hosp_{r}x{c}.csv\"\n",
    "            \n",
    "        hosp_df = pd.read_csv(file_name)\n",
    "        hosp_metadata = detect_metadata(hosp_df)\n",
    "        \n",
    "        synthesizer = evaluate_synthesizer(hosp_metadata)\n",
    "\n",
    "        print(\"#\"*30)\n",
    "        print(f\"Generating for: {file_name}\")\n",
    "        print(\"-\"*30)\n",
    "        pprint(get_model_time_score(synthesizer, hosp_metadata, hosp_df, samples=hosp_df.shape[0]))"
   ]
  },
  {
   "cell_type": "markdown",
   "id": "dbcfa6ee-3fcb-4ccb-875a-f249dcddde7e",
   "metadata": {},
   "source": [
    "### 1.3. Real-world data"
   ]
  },
  {
   "cell_type": "code",
   "execution_count": null,
   "id": "b4795bdc-41f8-4502-ac92-ab5fa2ca9f34",
   "metadata": {},
   "outputs": [],
   "source": [
    "for file_name in REAL_DATA_LIST:\n",
    "    real_df = pd.read_csv(file_name)\n",
    "    real_metadata = detect_metadata(real_df)\n",
    "    \n",
    "    synthesizer = evaluate_synthesizer(real_metadata)\n",
    "\n",
    "    print(\"#\"*30)\n",
    "    print(f\"Generating for: {file_name} {real_df.shape}\")\n",
    "    print(get_model_time_score(synthesizer, real_metadata, real_df, samples=real_df.shape[0]), True, True)\n",
    "    print(\"#\"*30)"
   ]
  },
  {
   "cell_type": "markdown",
   "id": "71c792e7-b03a-4233-84d6-6b7f4947fa77",
   "metadata": {},
   "source": [
    "# 2. CTGAN Model"
   ]
  },
  {
   "cell_type": "code",
   "execution_count": 38,
   "id": "9f7aa2bd-5184-4b3d-9a19-6efdf0280cf0",
   "metadata": {},
   "outputs": [],
   "source": [
    "evaluate_synthesizer = CTGANSynthesizer"
   ]
  },
  {
   "cell_type": "markdown",
   "id": "5c350807-882c-4f5e-990a-654da0b6ff59",
   "metadata": {},
   "source": [
    "### 2.1. Mock SDV-demo Data"
   ]
  },
  {
   "cell_type": "code",
   "execution_count": 39,
   "id": "dc74a70a-6d73-4461-9ddc-894026fd1c22",
   "metadata": {},
   "outputs": [
    {
     "name": "stdout",
     "output_type": "stream",
     "text": [
      "{\n",
      "    \"METADATA_SPEC_VERSION\": \"SINGLE_TABLE_V1\",\n",
      "    \"columns\": {\n",
      "        \"guest_email\": {\n",
      "            \"sdtype\": \"email\",\n",
      "            \"pii\": true\n",
      "        },\n",
      "        \"has_rewards\": {\n",
      "            \"sdtype\": \"boolean\"\n",
      "        },\n",
      "        \"room_type\": {\n",
      "            \"sdtype\": \"categorical\"\n",
      "        },\n",
      "        \"amenities_fee\": {\n",
      "            \"sdtype\": \"numerical\",\n",
      "            \"computer_representation\": \"Float\"\n",
      "        },\n",
      "        \"checkin_date\": {\n",
      "            \"sdtype\": \"datetime\",\n",
      "            \"datetime_format\": \"%d %b %Y\"\n",
      "        },\n",
      "        \"checkout_date\": {\n",
      "            \"sdtype\": \"datetime\",\n",
      "            \"datetime_format\": \"%d %b %Y\"\n",
      "        },\n",
      "        \"room_rate\": {\n",
      "            \"sdtype\": \"numerical\",\n",
      "            \"computer_representation\": \"Float\"\n",
      "        },\n",
      "        \"billing_address\": {\n",
      "            \"sdtype\": \"address\",\n",
      "            \"pii\": true\n",
      "        },\n",
      "        \"credit_card_number\": {\n",
      "            \"sdtype\": \"credit_card_number\",\n",
      "            \"pii\": true\n",
      "        }\n",
      "    },\n",
      "    \"primary_key\": \"guest_email\"\n",
      "}\n"
     ]
    },
    {
     "name": "stderr",
     "output_type": "stream",
     "text": [
      "Creating report: 100%|████████████████████████████████████████████████████████████████████████████████████████████████████████████████████████████████████████████████████████████████████████████████████| 4/4 [00:00<00:00, 57.00it/s]\n"
     ]
    },
    {
     "name": "stdout",
     "output_type": "stream",
     "text": [
      "\n",
      "Overall Quality Score: 87.83%\n",
      "\n",
      "Properties:\n",
      "Column Shapes: 87.28%\n",
      "Column Pair Trends: 88.38%\n"
     ]
    },
    {
     "name": "stderr",
     "output_type": "stream",
     "text": [
      "Creating report: 100%|████████████████████████████████████████████████████████████████████████████████████████████████████████████████████████████████████████████████████████████████████████████████████| 4/4 [00:01<00:00,  2.16it/s]"
     ]
    },
    {
     "name": "stdout",
     "output_type": "stream",
     "text": [
      "\n",
      "DiagnosticResults:\n",
      "\n",
      "SUCCESS:\n",
      "✓ The synthetic data covers over 90% of the numerical ranges present in the real data\n",
      "✓ The synthetic data covers over 90% of the categories present in the real data\n",
      "✓ Over 90% of the synthetic rows are not copies of the real data\n",
      "✓ The synthetic data follows over 90% of the min/max boundaries set by the real data\n",
      "{'diagnostic_report': {'diagnostic_report_obj': <sdmetrics.reports.single_table.diagnostic_report.DiagnosticReport object at 0x144a6bbe0>,\n",
      "                       'diagnostic_report_time': 1.8593480587005615},\n",
      " 'quality_report': {'quality_report_obj': <sdmetrics.reports.single_table.quality_report.QualityReport object at 0x147cb64c0>,\n",
      "                    'quality_report_score': 0.8782824635868114,\n",
      "                    'quality_report_time': 0.20322179794311523},\n",
      " 'sampling_time': 0.2915680408477783,\n",
      " 'training_time': 1.232923984527588}\n"
     ]
    },
    {
     "name": "stderr",
     "output_type": "stream",
     "text": [
      "\n"
     ]
    }
   ],
   "source": [
    "demo_data, demo_metadata = download_demo(\n",
    "    modality='single_table',\n",
    "    dataset_name='fake_hotel_guests'\n",
    ")\n",
    "\n",
    "pprint(demo_metadata)\n",
    "synthesizer = evaluate_synthesizer(demo_metadata)\n",
    "\n",
    "pprint(get_model_time_score(synthesizer, demo_metadata, demo_data, 500, True, True))"
   ]
  },
  {
   "cell_type": "markdown",
   "id": "5f9575b4-7d1d-4be4-8b76-14531ebee7f6",
   "metadata": {},
   "source": [
    "### 2.2. Mock hospital data "
   ]
  },
  {
   "cell_type": "code",
   "execution_count": 41,
   "id": "dedd9fa0-9be3-4532-be39-859fe771c7d6",
   "metadata": {},
   "outputs": [
    {
     "name": "stdout",
     "output_type": "stream",
     "text": [
      "{'METADATA_SPEC_VERSION': 'SINGLE_TABLE_V1',\n",
      " 'columns': {'Age': {'sdtype': 'numerical'},\n",
      "             'DateOfDiagnosis': {'sdtype': 'categorical'},\n",
      "             'Gender': {'sdtype': 'categorical'},\n",
      "             'NRIC': {'sdtype': 'categorical'},\n",
      "             'Name': {'sdtype': 'categorical'}}}\n",
      "##############################\n",
      "Generating for: synthetic_data/5_data_fields/hosp_1000x5.csv\n",
      "------------------------------\n"
     ]
    },
    {
     "name": "stderr",
     "output_type": "stream",
     "text": [
      "Creating report: 100%|████████████████████████████████████████████████████████████████████████████████████████████████████████████████████████████████████████████████████████████████████████████████████| 4/4 [00:02<00:00,  1.55it/s]\n"
     ]
    },
    {
     "name": "stdout",
     "output_type": "stream",
     "text": [
      "\n",
      "DiagnosticResults:\n",
      "\n",
      "SUCCESS:\n",
      "✓ The synthetic data covers over 90% of the numerical ranges present in the real data\n",
      "✓ Over 90% of the synthetic rows are not copies of the real data\n",
      "✓ The synthetic data follows over 90% of the min/max boundaries set by the real data\n",
      "\n",
      "WARNING:\n",
      "! The synthetic data is missing more than 10% of the categories present in the real data\n",
      "{'diagnostic_report': {'diagnostic_report_obj': <sdmetrics.reports.single_table.diagnostic_report.DiagnosticReport object at 0x1475fe070>,\n",
      "                       'diagnostic_report_time': 2.589355945587158},\n",
      " 'quality_report': None,\n",
      " 'sampling_time': 0.034508705139160156,\n",
      " 'training_time': 0.43996620178222656}\n",
      "{'METADATA_SPEC_VERSION': 'SINGLE_TABLE_V1',\n",
      " 'columns': {'Age': {'sdtype': 'numerical'},\n",
      "             'DateOfDiagnosis': {'sdtype': 'categorical'},\n",
      "             'Gender': {'sdtype': 'categorical'},\n",
      "             'NRIC': {'sdtype': 'categorical'},\n",
      "             'Name': {'sdtype': 'categorical'}}}\n",
      "##############################\n",
      "Generating for: synthetic_data/5_data_fields/hosp_10000x5.csv\n",
      "------------------------------\n"
     ]
    },
    {
     "name": "stderr",
     "output_type": "stream",
     "text": [
      "Creating report: 100%|████████████████████████████████████████████████████████████████████████████████████████████████████████████████████████████████████████████████████████████████████████████████████| 4/4 [00:33<00:00,  8.40s/it]\n"
     ]
    },
    {
     "name": "stdout",
     "output_type": "stream",
     "text": [
      "\n",
      "DiagnosticResults:\n",
      "\n",
      "SUCCESS:\n",
      "✓ The synthetic data covers over 90% of the numerical ranges present in the real data\n",
      "✓ Over 90% of the synthetic rows are not copies of the real data\n",
      "✓ The synthetic data follows over 90% of the min/max boundaries set by the real data\n",
      "\n",
      "WARNING:\n",
      "! The synthetic data is missing more than 10% of the categories present in the real data\n",
      "{'diagnostic_report': {'diagnostic_report_obj': <sdmetrics.reports.single_table.diagnostic_report.DiagnosticReport object at 0x147cb9820>,\n",
      "                       'diagnostic_report_time': 33.62070274353027},\n",
      " 'quality_report': None,\n",
      " 'sampling_time': 0.1117868423461914,\n",
      " 'training_time': 0.7006809711456299}\n",
      "{'METADATA_SPEC_VERSION': 'SINGLE_TABLE_V1',\n",
      " 'columns': {'Age': {'sdtype': 'numerical'},\n",
      "             'DateOfDiagnosis': {'sdtype': 'categorical'},\n",
      "             'Gender': {'sdtype': 'categorical'},\n",
      "             'NRIC': {'sdtype': 'categorical'},\n",
      "             'Name': {'sdtype': 'categorical'}}}\n",
      "##############################\n",
      "Generating for: synthetic_data/5_data_fields/hosp_50000x5.csv\n",
      "------------------------------\n"
     ]
    },
    {
     "name": "stderr",
     "output_type": "stream",
     "text": [
      "Creating report: 100%|████████████████████████████████████████████████████████████████████████████████████████████████████████████████████████████████████████████████████████████████████████████████████| 4/4 [01:06<00:00, 16.62s/it]\n"
     ]
    },
    {
     "name": "stdout",
     "output_type": "stream",
     "text": [
      "\n",
      "DiagnosticResults:\n",
      "\n",
      "SUCCESS:\n",
      "✓ The synthetic data covers over 90% of the numerical ranges present in the real data\n",
      "✓ Over 90% of the synthetic rows are not copies of the real data\n",
      "✓ The synthetic data follows over 90% of the min/max boundaries set by the real data\n",
      "\n",
      "WARNING:\n",
      "! The synthetic data is missing more than 10% of the categories present in the real data\n",
      "{'diagnostic_report': {'diagnostic_report_obj': <sdmetrics.reports.single_table.diagnostic_report.DiagnosticReport object at 0x143fb0ac0>,\n",
      "                       'diagnostic_report_time': 66.47591495513916},\n",
      " 'quality_report': None,\n",
      " 'sampling_time': 0.44310784339904785,\n",
      " 'training_time': 3.012270927429199}\n",
      "{'METADATA_SPEC_VERSION': 'SINGLE_TABLE_V1',\n",
      " 'columns': {'Age': {'sdtype': 'numerical'},\n",
      "             'DateOfDiagnosis': {'sdtype': 'categorical'},\n",
      "             'Gender': {'sdtype': 'categorical'},\n",
      "             'NRIC': {'sdtype': 'categorical'},\n",
      "             'Name': {'sdtype': 'categorical'}}}\n",
      "##############################\n",
      "Generating for: synthetic_data/5_data_fields/hosp_100000x5.csv\n",
      "------------------------------\n"
     ]
    },
    {
     "name": "stderr",
     "output_type": "stream",
     "text": [
      "Creating report: 100%|████████████████████████████████████████████████████████████████████████████████████████████████████████████████████████████████████████████████████████████████████████████████████| 4/4 [01:43<00:00, 25.84s/it]\n"
     ]
    },
    {
     "name": "stdout",
     "output_type": "stream",
     "text": [
      "\n",
      "DiagnosticResults:\n",
      "\n",
      "SUCCESS:\n",
      "✓ The synthetic data covers over 90% of the numerical ranges present in the real data\n",
      "✓ Over 90% of the synthetic rows are not copies of the real data\n",
      "✓ The synthetic data follows over 90% of the min/max boundaries set by the real data\n",
      "\n",
      "WARNING:\n",
      "! The synthetic data is missing more than 10% of the categories present in the real data\n",
      "{'diagnostic_report': {'diagnostic_report_obj': <sdmetrics.reports.single_table.diagnostic_report.DiagnosticReport object at 0x143d78490>,\n",
      "                       'diagnostic_report_time': 103.36800789833069},\n",
      " 'quality_report': None,\n",
      " 'sampling_time': 1.1162910461425781,\n",
      " 'training_time': 6.289997100830078}\n",
      "{'METADATA_SPEC_VERSION': 'SINGLE_TABLE_V1',\n",
      " 'columns': {'Age0': {'sdtype': 'numerical'},\n",
      "             'BMI0': {'sdtype': 'numerical'},\n",
      "             'BloodType0': {'sdtype': 'categorical'},\n",
      "             'DateOfDiagnosis0': {'sdtype': 'categorical'},\n",
      "             'Disease0': {'sdtype': 'categorical'},\n",
      "             'Gender0': {'sdtype': 'categorical'},\n",
      "             'NRIC0': {'sdtype': 'categorical'},\n",
      "             'Name0': {'sdtype': 'categorical'},\n",
      "             'Weight0': {'sdtype': 'numerical'},\n",
      "             'Zipcode0': {'sdtype': 'numerical'}}}\n",
      "##############################\n",
      "Generating for: synthetic_data/10_data_fields/hosp_1000x10.csv\n",
      "------------------------------\n"
     ]
    },
    {
     "name": "stderr",
     "output_type": "stream",
     "text": [
      "Creating report: 100%|████████████████████████████████████████████████████████████████████████████████████████████████████████████████████████████████████████████████████████████████████████████████████| 4/4 [00:05<00:00,  1.25s/it]\n"
     ]
    },
    {
     "name": "stdout",
     "output_type": "stream",
     "text": [
      "\n",
      "DiagnosticResults:\n",
      "\n",
      "SUCCESS:\n",
      "✓ The synthetic data covers over 90% of the numerical ranges present in the real data\n",
      "✓ Over 90% of the synthetic rows are not copies of the real data\n",
      "✓ The synthetic data follows over 90% of the min/max boundaries set by the real data\n",
      "\n",
      "WARNING:\n",
      "! The synthetic data is missing more than 10% of the categories present in the real data\n",
      "{'diagnostic_report': {'diagnostic_report_obj': <sdmetrics.reports.single_table.diagnostic_report.DiagnosticReport object at 0x147ddf940>,\n",
      "                       'diagnostic_report_time': 5.011920690536499},\n",
      " 'quality_report': None,\n",
      " 'sampling_time': 0.054991960525512695,\n",
      " 'training_time': 0.801738977432251}\n",
      "{'METADATA_SPEC_VERSION': 'SINGLE_TABLE_V1',\n",
      " 'columns': {'Age0': {'sdtype': 'numerical'},\n",
      "             'BMI0': {'sdtype': 'numerical'},\n",
      "             'BloodType0': {'sdtype': 'categorical'},\n",
      "             'DateOfDiagnosis0': {'sdtype': 'categorical'},\n",
      "             'Disease0': {'sdtype': 'categorical'},\n",
      "             'Gender0': {'sdtype': 'categorical'},\n",
      "             'NRIC0': {'sdtype': 'categorical'},\n",
      "             'Name0': {'sdtype': 'categorical'},\n",
      "             'Weight0': {'sdtype': 'numerical'},\n",
      "             'Zipcode0': {'sdtype': 'numerical'}}}\n",
      "##############################\n",
      "Generating for: synthetic_data/10_data_fields/hosp_10000x10.csv\n",
      "------------------------------\n"
     ]
    },
    {
     "name": "stderr",
     "output_type": "stream",
     "text": [
      "Creating report: 100%|████████████████████████████████████████████████████████████████████████████████████████████████████████████████████████████████████████████████████████████████████████████████████| 4/4 [01:00<00:00, 15.14s/it]\n"
     ]
    },
    {
     "name": "stdout",
     "output_type": "stream",
     "text": [
      "\n",
      "DiagnosticResults:\n",
      "\n",
      "SUCCESS:\n",
      "✓ The synthetic data covers over 90% of the numerical ranges present in the real data\n",
      "✓ Over 90% of the synthetic rows are not copies of the real data\n",
      "✓ The synthetic data follows over 90% of the min/max boundaries set by the real data\n",
      "\n",
      "WARNING:\n",
      "! The synthetic data is missing more than 10% of the categories present in the real data\n",
      "{'diagnostic_report': {'diagnostic_report_obj': <sdmetrics.reports.single_table.diagnostic_report.DiagnosticReport object at 0x147c91280>,\n",
      "                       'diagnostic_report_time': 60.56951570510864},\n",
      " 'quality_report': None,\n",
      " 'sampling_time': 0.2168731689453125,\n",
      " 'training_time': 1.9510090351104736}\n",
      "{'METADATA_SPEC_VERSION': 'SINGLE_TABLE_V1',\n",
      " 'columns': {'Age0': {'sdtype': 'numerical'},\n",
      "             'BMI0': {'sdtype': 'numerical'},\n",
      "             'BloodType0': {'sdtype': 'categorical'},\n",
      "             'DateOfDiagnosis0': {'sdtype': 'categorical'},\n",
      "             'Disease0': {'sdtype': 'categorical'},\n",
      "             'Gender0': {'sdtype': 'categorical'},\n",
      "             'NRIC0': {'sdtype': 'categorical'},\n",
      "             'Name0': {'sdtype': 'categorical'},\n",
      "             'Weight0': {'sdtype': 'numerical'},\n",
      "             'Zipcode0': {'sdtype': 'numerical'}}}\n",
      "##############################\n",
      "Generating for: synthetic_data/10_data_fields/hosp_50000x10.csv\n",
      "------------------------------\n"
     ]
    },
    {
     "name": "stderr",
     "output_type": "stream",
     "text": [
      "Creating report: 100%|████████████████████████████████████████████████████████████████████████████████████████████████████████████████████████████████████████████████████████████████████████████████████| 4/4 [01:49<00:00, 27.50s/it]\n"
     ]
    },
    {
     "name": "stdout",
     "output_type": "stream",
     "text": [
      "\n",
      "DiagnosticResults:\n",
      "\n",
      "SUCCESS:\n",
      "✓ The synthetic data covers over 90% of the numerical ranges present in the real data\n",
      "✓ Over 90% of the synthetic rows are not copies of the real data\n",
      "✓ The synthetic data follows over 90% of the min/max boundaries set by the real data\n",
      "\n",
      "WARNING:\n",
      "! The synthetic data is missing more than 10% of the categories present in the real data\n",
      "{'diagnostic_report': {'diagnostic_report_obj': <sdmetrics.reports.single_table.diagnostic_report.DiagnosticReport object at 0x147c91280>,\n",
      "                       'diagnostic_report_time': 109.99098229408264},\n",
      " 'quality_report': None,\n",
      " 'sampling_time': 0.8214170932769775,\n",
      " 'training_time': 6.4502458572387695}\n",
      "{'METADATA_SPEC_VERSION': 'SINGLE_TABLE_V1',\n",
      " 'columns': {'Age0': {'sdtype': 'numerical'},\n",
      "             'BMI0': {'sdtype': 'numerical'},\n",
      "             'BloodType0': {'sdtype': 'categorical'},\n",
      "             'DateOfDiagnosis0': {'sdtype': 'categorical'},\n",
      "             'Disease0': {'sdtype': 'categorical'},\n",
      "             'Gender0': {'sdtype': 'categorical'},\n",
      "             'NRIC0': {'sdtype': 'categorical'},\n",
      "             'Name0': {'sdtype': 'categorical'},\n",
      "             'Weight0': {'sdtype': 'numerical'},\n",
      "             'Zipcode0': {'sdtype': 'numerical'}}}\n",
      "##############################\n",
      "Generating for: synthetic_data/10_data_fields/hosp_100000x10.csv\n",
      "------------------------------\n"
     ]
    },
    {
     "name": "stderr",
     "output_type": "stream",
     "text": [
      "Creating report: 100%|████████████████████████████████████████████████████████████████████████████████████████████████████████████████████████████████████████████████████████████████████████████████████| 4/4 [02:43<00:00, 40.93s/it]\n"
     ]
    },
    {
     "name": "stdout",
     "output_type": "stream",
     "text": [
      "\n",
      "DiagnosticResults:\n",
      "\n",
      "SUCCESS:\n",
      "✓ The synthetic data covers over 90% of the numerical ranges present in the real data\n",
      "✓ Over 90% of the synthetic rows are not copies of the real data\n",
      "✓ The synthetic data follows over 90% of the min/max boundaries set by the real data\n",
      "\n",
      "WARNING:\n",
      "! The synthetic data is missing more than 10% of the categories present in the real data\n",
      "{'diagnostic_report': {'diagnostic_report_obj': <sdmetrics.reports.single_table.diagnostic_report.DiagnosticReport object at 0x147cbd160>,\n",
      "                       'diagnostic_report_time': 163.72747492790222},\n",
      " 'quality_report': None,\n",
      " 'sampling_time': 1.8007919788360596,\n",
      " 'training_time': 11.952319145202637}\n",
      "{'METADATA_SPEC_VERSION': 'SINGLE_TABLE_V1',\n",
      " 'columns': {'Age0': {'sdtype': 'numerical'},\n",
      "             'Age1': {'sdtype': 'numerical'},\n",
      "             'BMI0': {'sdtype': 'numerical'},\n",
      "             'BMI1': {'sdtype': 'numerical'},\n",
      "             'BloodType0': {'sdtype': 'categorical'},\n",
      "             'BloodType1': {'sdtype': 'categorical'},\n",
      "             'DateOfDiagnosis0': {'sdtype': 'categorical'},\n",
      "             'DateOfDiagnosis1': {'sdtype': 'categorical'},\n",
      "             'Disease0': {'sdtype': 'categorical'},\n",
      "             'Disease1': {'sdtype': 'categorical'},\n",
      "             'Gender0': {'sdtype': 'categorical'},\n",
      "             'Gender1': {'sdtype': 'categorical'},\n",
      "             'NRIC0': {'sdtype': 'categorical'},\n",
      "             'NRIC1': {'sdtype': 'categorical'},\n",
      "             'Name0': {'sdtype': 'categorical'},\n",
      "             'Name1': {'sdtype': 'categorical'},\n",
      "             'Weight0': {'sdtype': 'numerical'},\n",
      "             'Weight1': {'sdtype': 'numerical'},\n",
      "             'Zipcode0': {'sdtype': 'numerical'},\n",
      "             'Zipcode1': {'sdtype': 'numerical'}}}\n",
      "##############################\n",
      "Generating for: synthetic_data/20_data_fields/hosp_1000x20.csv\n",
      "------------------------------\n"
     ]
    },
    {
     "name": "stderr",
     "output_type": "stream",
     "text": [
      "Creating report: 100%|████████████████████████████████████████████████████████████████████████████████████████████████████████████████████████████████████████████████████████████████████████████████████| 4/4 [00:10<00:00,  2.52s/it]\n"
     ]
    },
    {
     "name": "stdout",
     "output_type": "stream",
     "text": [
      "\n",
      "DiagnosticResults:\n",
      "\n",
      "SUCCESS:\n",
      "✓ The synthetic data covers over 90% of the numerical ranges present in the real data\n",
      "✓ Over 90% of the synthetic rows are not copies of the real data\n",
      "✓ The synthetic data follows over 90% of the min/max boundaries set by the real data\n",
      "\n",
      "WARNING:\n",
      "! The synthetic data is missing more than 10% of the categories present in the real data\n",
      "{'diagnostic_report': {'diagnostic_report_obj': <sdmetrics.reports.single_table.diagnostic_report.DiagnosticReport object at 0x147673ac0>,\n",
      "                       'diagnostic_report_time': 10.089614868164062},\n",
      " 'quality_report': None,\n",
      " 'sampling_time': 0.12871599197387695,\n",
      " 'training_time': 1.5737409591674805}\n",
      "{'METADATA_SPEC_VERSION': 'SINGLE_TABLE_V1',\n",
      " 'columns': {'Age0': {'sdtype': 'numerical'},\n",
      "             'Age1': {'sdtype': 'numerical'},\n",
      "             'BMI0': {'sdtype': 'numerical'},\n",
      "             'BMI1': {'sdtype': 'numerical'},\n",
      "             'BloodType0': {'sdtype': 'categorical'},\n",
      "             'BloodType1': {'sdtype': 'categorical'},\n",
      "             'DateOfDiagnosis0': {'sdtype': 'categorical'},\n",
      "             'DateOfDiagnosis1': {'sdtype': 'categorical'},\n",
      "             'Disease0': {'sdtype': 'categorical'},\n",
      "             'Disease1': {'sdtype': 'categorical'},\n",
      "             'Gender0': {'sdtype': 'categorical'},\n",
      "             'Gender1': {'sdtype': 'categorical'},\n",
      "             'NRIC0': {'sdtype': 'categorical'},\n",
      "             'NRIC1': {'sdtype': 'categorical'},\n",
      "             'Name0': {'sdtype': 'categorical'},\n",
      "             'Name1': {'sdtype': 'categorical'},\n",
      "             'Weight0': {'sdtype': 'numerical'},\n",
      "             'Weight1': {'sdtype': 'numerical'},\n",
      "             'Zipcode0': {'sdtype': 'numerical'},\n",
      "             'Zipcode1': {'sdtype': 'numerical'}}}\n",
      "##############################\n",
      "Generating for: synthetic_data/20_data_fields/hosp_10000x20.csv\n",
      "------------------------------\n"
     ]
    },
    {
     "name": "stderr",
     "output_type": "stream",
     "text": [
      "Creating report: 100%|████████████████████████████████████████████████████████████████████████████████████████████████████████████████████████████████████████████████████████████████████████████████████| 4/4 [02:06<00:00, 31.63s/it]\n"
     ]
    },
    {
     "name": "stdout",
     "output_type": "stream",
     "text": [
      "\n",
      "DiagnosticResults:\n",
      "\n",
      "SUCCESS:\n",
      "✓ The synthetic data covers over 90% of the numerical ranges present in the real data\n",
      "✓ Over 90% of the synthetic rows are not copies of the real data\n",
      "✓ The synthetic data follows over 90% of the min/max boundaries set by the real data\n",
      "\n",
      "WARNING:\n",
      "! The synthetic data is missing more than 10% of the categories present in the real data\n",
      "{'diagnostic_report': {'diagnostic_report_obj': <sdmetrics.reports.single_table.diagnostic_report.DiagnosticReport object at 0x144a6b580>,\n",
      "                       'diagnostic_report_time': 126.51141905784607},\n",
      " 'quality_report': None,\n",
      " 'sampling_time': 0.4152340888977051,\n",
      " 'training_time': 4.077377080917358}\n",
      "{'METADATA_SPEC_VERSION': 'SINGLE_TABLE_V1',\n",
      " 'columns': {'Age0': {'sdtype': 'numerical'},\n",
      "             'Age1': {'sdtype': 'numerical'},\n",
      "             'BMI0': {'sdtype': 'numerical'},\n",
      "             'BMI1': {'sdtype': 'numerical'},\n",
      "             'BloodType0': {'sdtype': 'categorical'},\n",
      "             'BloodType1': {'sdtype': 'categorical'},\n",
      "             'DateOfDiagnosis0': {'sdtype': 'categorical'},\n",
      "             'DateOfDiagnosis1': {'sdtype': 'categorical'},\n",
      "             'Disease0': {'sdtype': 'categorical'},\n",
      "             'Disease1': {'sdtype': 'categorical'},\n",
      "             'Gender0': {'sdtype': 'categorical'},\n",
      "             'Gender1': {'sdtype': 'categorical'},\n",
      "             'NRIC0': {'sdtype': 'categorical'},\n",
      "             'NRIC1': {'sdtype': 'categorical'},\n",
      "             'Name0': {'sdtype': 'categorical'},\n",
      "             'Name1': {'sdtype': 'categorical'},\n",
      "             'Weight0': {'sdtype': 'numerical'},\n",
      "             'Weight1': {'sdtype': 'numerical'},\n",
      "             'Zipcode0': {'sdtype': 'numerical'},\n",
      "             'Zipcode1': {'sdtype': 'numerical'}}}\n",
      "##############################\n",
      "Generating for: synthetic_data/20_data_fields/hosp_50000x20.csv\n",
      "------------------------------\n"
     ]
    },
    {
     "name": "stderr",
     "output_type": "stream",
     "text": [
      "Creating report: 100%|████████████████████████████████████████████████████████████████████████████████████████████████████████████████████████████████████████████████████████████████████████████████████| 4/4 [03:36<00:00, 54.15s/it]\n"
     ]
    },
    {
     "name": "stdout",
     "output_type": "stream",
     "text": [
      "\n",
      "DiagnosticResults:\n",
      "\n",
      "SUCCESS:\n",
      "✓ The synthetic data covers over 90% of the numerical ranges present in the real data\n",
      "✓ Over 90% of the synthetic rows are not copies of the real data\n",
      "✓ The synthetic data follows over 90% of the min/max boundaries set by the real data\n",
      "\n",
      "WARNING:\n",
      "! The synthetic data is missing more than 10% of the categories present in the real data\n",
      "{'diagnostic_report': {'diagnostic_report_obj': <sdmetrics.reports.single_table.diagnostic_report.DiagnosticReport object at 0x143f9bb20>,\n",
      "                       'diagnostic_report_time': 216.5890769958496},\n",
      " 'quality_report': None,\n",
      " 'sampling_time': 1.8787572383880615,\n",
      " 'training_time': 14.218127965927124}\n",
      "{'METADATA_SPEC_VERSION': 'SINGLE_TABLE_V1',\n",
      " 'columns': {'Age0': {'sdtype': 'numerical'},\n",
      "             'Age1': {'sdtype': 'numerical'},\n",
      "             'BMI0': {'sdtype': 'numerical'},\n",
      "             'BMI1': {'sdtype': 'numerical'},\n",
      "             'BloodType0': {'sdtype': 'categorical'},\n",
      "             'BloodType1': {'sdtype': 'categorical'},\n",
      "             'DateOfDiagnosis0': {'sdtype': 'categorical'},\n",
      "             'DateOfDiagnosis1': {'sdtype': 'categorical'},\n",
      "             'Disease0': {'sdtype': 'categorical'},\n",
      "             'Disease1': {'sdtype': 'categorical'},\n",
      "             'Gender0': {'sdtype': 'categorical'},\n",
      "             'Gender1': {'sdtype': 'categorical'},\n",
      "             'NRIC0': {'sdtype': 'categorical'},\n",
      "             'NRIC1': {'sdtype': 'categorical'},\n",
      "             'Name0': {'sdtype': 'categorical'},\n",
      "             'Name1': {'sdtype': 'categorical'},\n",
      "             'Weight0': {'sdtype': 'numerical'},\n",
      "             'Weight1': {'sdtype': 'numerical'},\n",
      "             'Zipcode0': {'sdtype': 'numerical'},\n",
      "             'Zipcode1': {'sdtype': 'numerical'}}}\n",
      "##############################\n",
      "Generating for: synthetic_data/20_data_fields/hosp_100000x20.csv\n",
      "------------------------------\n"
     ]
    },
    {
     "name": "stderr",
     "output_type": "stream",
     "text": [
      "Creating report: 100%|████████████████████████████████████████████████████████████████████████████████████████████████████████████████████████████████████████████████████████████████████████████████████| 4/4 [05:22<00:00, 80.57s/it]"
     ]
    },
    {
     "name": "stdout",
     "output_type": "stream",
     "text": [
      "\n",
      "DiagnosticResults:\n",
      "\n",
      "SUCCESS:\n",
      "✓ The synthetic data covers over 90% of the numerical ranges present in the real data\n",
      "✓ Over 90% of the synthetic rows are not copies of the real data\n",
      "✓ The synthetic data follows over 90% of the min/max boundaries set by the real data\n",
      "\n",
      "WARNING:\n",
      "! The synthetic data is missing more than 10% of the categories present in the real data\n",
      "{'diagnostic_report': {'diagnostic_report_obj': <sdmetrics.reports.single_table.diagnostic_report.DiagnosticReport object at 0x143df3550>,\n",
      "                       'diagnostic_report_time': 322.2915871143341},\n",
      " 'quality_report': None,\n",
      " 'sampling_time': 4.26455020904541,\n",
      " 'training_time': 27.464805841445923}\n"
     ]
    },
    {
     "name": "stderr",
     "output_type": "stream",
     "text": [
      "\n"
     ]
    }
   ],
   "source": [
    "for c in str_num_columns:\n",
    "    for r in str_num_rows:\n",
    "        file_name = BASE_MOCK_HOSP_PATH + f\"/{c}_data_fields/hosp_{r}x{c}.csv\"\n",
    "        hosp_df = pd.read_csv(file_name)\n",
    "        hosp_metadata = detect_metadata(hosp_df)\n",
    "        \n",
    "        synthesizer = evaluate_synthesizer(hosp_metadata)\n",
    "\n",
    "        print(\"#\"*30)\n",
    "        print(f\"Generating for: {file_name}\")\n",
    "        print(\"-\"*30)\n",
    "        pprint(get_model_time_score(synthesizer, hosp_metadata, hosp_df, samples=hosp_df.shape[0]))"
   ]
  },
  {
   "cell_type": "markdown",
   "id": "0e043bc5-6249-421d-ac79-fa92947f207c",
   "metadata": {},
   "source": [
    "### 2.3. Real data"
   ]
  },
  {
   "cell_type": "code",
   "execution_count": null,
   "id": "27445bda-a0fd-41cc-8fe5-2b40ee764231",
   "metadata": {},
   "outputs": [],
   "source": [
    "for file_name in REAL_DATA_LIST:\n",
    "    real_df = pd.read_csv(file_name)\n",
    "    real_metadata = detect_metadata(real_df)\n",
    "    \n",
    "    synthesizer = evaluate_synthesizer(real_metadata)\n",
    "\n",
    "    print(\"#\"*30)\n",
    "    print(f\"Generating for: {file_name} {real_df.shape}\")\n",
    "    print(get_model_time_score(synthesizer, real_metadata, real_df, samples=real_df.shape[0]), True, True)\n",
    "    print(\"#\"*30)"
   ]
  },
  {
   "cell_type": "markdown",
   "id": "b4c7a681-4a86-438e-882f-903d67f97680",
   "metadata": {},
   "source": [
    "# 3. TVAE Model"
   ]
  },
  {
   "cell_type": "code",
   "execution_count": 43,
   "id": "5193d1e8-09f1-4a8e-b51a-44a9590d7fe9",
   "metadata": {},
   "outputs": [],
   "source": [
    "evaluate_synthesizer = TVAESynthesizer"
   ]
  },
  {
   "cell_type": "markdown",
   "id": "85eb86bb-6c3f-4d9f-8132-c5b008fe349c",
   "metadata": {},
   "source": [
    "### 3.1. Mock SDV-demo data "
   ]
  },
  {
   "cell_type": "code",
   "execution_count": 44,
   "id": "23056372-2405-4781-9ba1-97811315c08d",
   "metadata": {},
   "outputs": [
    {
     "name": "stdout",
     "output_type": "stream",
     "text": [
      "{\n",
      "    \"METADATA_SPEC_VERSION\": \"SINGLE_TABLE_V1\",\n",
      "    \"columns\": {\n",
      "        \"guest_email\": {\n",
      "            \"sdtype\": \"email\",\n",
      "            \"pii\": true\n",
      "        },\n",
      "        \"has_rewards\": {\n",
      "            \"sdtype\": \"boolean\"\n",
      "        },\n",
      "        \"room_type\": {\n",
      "            \"sdtype\": \"categorical\"\n",
      "        },\n",
      "        \"amenities_fee\": {\n",
      "            \"sdtype\": \"numerical\",\n",
      "            \"computer_representation\": \"Float\"\n",
      "        },\n",
      "        \"checkin_date\": {\n",
      "            \"sdtype\": \"datetime\",\n",
      "            \"datetime_format\": \"%d %b %Y\"\n",
      "        },\n",
      "        \"checkout_date\": {\n",
      "            \"sdtype\": \"datetime\",\n",
      "            \"datetime_format\": \"%d %b %Y\"\n",
      "        },\n",
      "        \"room_rate\": {\n",
      "            \"sdtype\": \"numerical\",\n",
      "            \"computer_representation\": \"Float\"\n",
      "        },\n",
      "        \"billing_address\": {\n",
      "            \"sdtype\": \"address\",\n",
      "            \"pii\": true\n",
      "        },\n",
      "        \"credit_card_number\": {\n",
      "            \"sdtype\": \"credit_card_number\",\n",
      "            \"pii\": true\n",
      "        }\n",
      "    },\n",
      "    \"primary_key\": \"guest_email\"\n",
      "}\n"
     ]
    },
    {
     "name": "stderr",
     "output_type": "stream",
     "text": [
      "Creating report: 100%|████████████████████████████████████████████████████████████████████████████████████████████████████████████████████████████████████████████████████████████████████████████████████| 4/4 [00:00<00:00, 51.81it/s]\n"
     ]
    },
    {
     "name": "stdout",
     "output_type": "stream",
     "text": [
      "\n",
      "Overall Quality Score: 87.83%\n",
      "\n",
      "Properties:\n",
      "Column Shapes: 87.28%\n",
      "Column Pair Trends: 88.38%\n"
     ]
    },
    {
     "name": "stderr",
     "output_type": "stream",
     "text": [
      "Creating report: 100%|████████████████████████████████████████████████████████████████████████████████████████████████████████████████████████████████████████████████████████████████████████████████████| 4/4 [00:02<00:00,  1.99it/s]"
     ]
    },
    {
     "name": "stdout",
     "output_type": "stream",
     "text": [
      "\n",
      "DiagnosticResults:\n",
      "\n",
      "SUCCESS:\n",
      "✓ The synthetic data covers over 90% of the numerical ranges present in the real data\n",
      "✓ The synthetic data covers over 90% of the categories present in the real data\n",
      "✓ Over 90% of the synthetic rows are not copies of the real data\n",
      "✓ The synthetic data follows over 90% of the min/max boundaries set by the real data\n",
      "{'diagnostic_report': {'diagnostic_report_obj': <sdmetrics.reports.single_table.diagnostic_report.DiagnosticReport object at 0x14a8381c0>,\n",
      "                       'diagnostic_report_time': 2.014273166656494},\n",
      " 'quality_report': {'quality_report_obj': <sdmetrics.reports.single_table.quality_report.QualityReport object at 0x149142280>,\n",
      "                    'quality_report_score': 0.8782824635868114,\n",
      "                    'quality_report_time': 0.2190699577331543},\n",
      " 'sampling_time': 0.3153808116912842,\n",
      " 'training_time': 1.3100779056549072}\n"
     ]
    },
    {
     "name": "stderr",
     "output_type": "stream",
     "text": [
      "\n"
     ]
    }
   ],
   "source": [
    "demo_data, demo_metadata = download_demo(\n",
    "    modality='single_table',\n",
    "    dataset_name='fake_hotel_guests'\n",
    ")\n",
    "\n",
    "pprint(demo_metadata)\n",
    "synthesizer = evaluate_synthesizer(demo_metadata)\n",
    "\n",
    "pprint(get_model_time_score(synthesizer, demo_metadata, demo_data, 500, True, True))"
   ]
  },
  {
   "cell_type": "markdown",
   "id": "ebd91806-a82a-485e-9c98-6b861778cde4",
   "metadata": {
    "tags": []
   },
   "source": [
    "### 3.2. Mock hospital data"
   ]
  },
  {
   "cell_type": "code",
   "execution_count": 47,
   "id": "63ac67d3-86cf-4067-80bb-4650b4a473bc",
   "metadata": {},
   "outputs": [
    {
     "name": "stdout",
     "output_type": "stream",
     "text": [
      "{'METADATA_SPEC_VERSION': 'SINGLE_TABLE_V1',\n",
      " 'columns': {'Age': {'sdtype': 'numerical'},\n",
      "             'DateOfDiagnosis': {'sdtype': 'categorical'},\n",
      "             'Gender': {'sdtype': 'categorical'},\n",
      "             'NRIC': {'sdtype': 'categorical'},\n",
      "             'Name': {'sdtype': 'categorical'}}}\n",
      "##############################\n",
      "Generating for: synthetic_data/5_data_fields/hosp_1000x5.csv\n",
      "------------------------------\n"
     ]
    },
    {
     "name": "stderr",
     "output_type": "stream",
     "text": [
      "Creating report: 100%|████████████████████████████████████████████████████████████████████████████████████████████████████████████████████████████████████████████████████████████████████████████████████| 4/4 [00:02<00:00,  1.49it/s]\n"
     ]
    },
    {
     "name": "stdout",
     "output_type": "stream",
     "text": [
      "\n",
      "DiagnosticResults:\n",
      "\n",
      "SUCCESS:\n",
      "✓ The synthetic data covers over 90% of the numerical ranges present in the real data\n",
      "✓ Over 90% of the synthetic rows are not copies of the real data\n",
      "✓ The synthetic data follows over 90% of the min/max boundaries set by the real data\n",
      "\n",
      "WARNING:\n",
      "! The synthetic data is missing more than 10% of the categories present in the real data\n",
      "{'diagnostic_report': {'diagnostic_report_obj': <sdmetrics.reports.single_table.diagnostic_report.DiagnosticReport object at 0x149142250>,\n",
      "                       'diagnostic_report_time': 2.6896071434020996},\n",
      " 'quality_report': None,\n",
      " 'sampling_time': 0.03888201713562012,\n",
      " 'training_time': 0.4524209499359131}\n",
      "{'METADATA_SPEC_VERSION': 'SINGLE_TABLE_V1',\n",
      " 'columns': {'Age': {'sdtype': 'numerical'},\n",
      "             'DateOfDiagnosis': {'sdtype': 'categorical'},\n",
      "             'Gender': {'sdtype': 'categorical'},\n",
      "             'NRIC': {'sdtype': 'categorical'},\n",
      "             'Name': {'sdtype': 'categorical'}}}\n",
      "##############################\n",
      "Generating for: synthetic_data/5_data_fields/hosp_10000x5.csv\n",
      "------------------------------\n"
     ]
    },
    {
     "name": "stderr",
     "output_type": "stream",
     "text": [
      "Creating report: 100%|████████████████████████████████████████████████████████████████████████████████████████████████████████████████████████████████████████████████████████████████████████████████████| 4/4 [00:33<00:00,  8.45s/it]\n"
     ]
    },
    {
     "name": "stdout",
     "output_type": "stream",
     "text": [
      "\n",
      "DiagnosticResults:\n",
      "\n",
      "SUCCESS:\n",
      "✓ The synthetic data covers over 90% of the numerical ranges present in the real data\n",
      "✓ Over 90% of the synthetic rows are not copies of the real data\n",
      "✓ The synthetic data follows over 90% of the min/max boundaries set by the real data\n",
      "\n",
      "WARNING:\n",
      "! The synthetic data is missing more than 10% of the categories present in the real data\n",
      "{'diagnostic_report': {'diagnostic_report_obj': <sdmetrics.reports.single_table.diagnostic_report.DiagnosticReport object at 0x147c67a60>,\n",
      "                       'diagnostic_report_time': 33.789533376693726},\n",
      " 'quality_report': None,\n",
      " 'sampling_time': 0.10407567024230957,\n",
      " 'training_time': 0.760303258895874}\n",
      "{'METADATA_SPEC_VERSION': 'SINGLE_TABLE_V1',\n",
      " 'columns': {'Age': {'sdtype': 'numerical'},\n",
      "             'DateOfDiagnosis': {'sdtype': 'categorical'},\n",
      "             'Gender': {'sdtype': 'categorical'},\n",
      "             'NRIC': {'sdtype': 'categorical'},\n",
      "             'Name': {'sdtype': 'categorical'}}}\n",
      "##############################\n",
      "Generating for: synthetic_data/5_data_fields/hosp_50000x5.csv\n",
      "------------------------------\n"
     ]
    },
    {
     "name": "stderr",
     "output_type": "stream",
     "text": [
      "Creating report: 100%|████████████████████████████████████████████████████████████████████████████████████████████████████████████████████████████████████████████████████████████████████████████████████| 4/4 [01:05<00:00, 16.44s/it]\n"
     ]
    },
    {
     "name": "stdout",
     "output_type": "stream",
     "text": [
      "\n",
      "DiagnosticResults:\n",
      "\n",
      "SUCCESS:\n",
      "✓ The synthetic data covers over 90% of the numerical ranges present in the real data\n",
      "✓ Over 90% of the synthetic rows are not copies of the real data\n",
      "✓ The synthetic data follows over 90% of the min/max boundaries set by the real data\n",
      "\n",
      "WARNING:\n",
      "! The synthetic data is missing more than 10% of the categories present in the real data\n",
      "{'diagnostic_report': {'diagnostic_report_obj': <sdmetrics.reports.single_table.diagnostic_report.DiagnosticReport object at 0x149142ca0>,\n",
      "                       'diagnostic_report_time': 65.77390217781067},\n",
      " 'quality_report': None,\n",
      " 'sampling_time': 0.4225599765777588,\n",
      " 'training_time': 3.0995888710021973}\n",
      "{'METADATA_SPEC_VERSION': 'SINGLE_TABLE_V1',\n",
      " 'columns': {'Age': {'sdtype': 'numerical'},\n",
      "             'DateOfDiagnosis': {'sdtype': 'categorical'},\n",
      "             'Gender': {'sdtype': 'categorical'},\n",
      "             'NRIC': {'sdtype': 'categorical'},\n",
      "             'Name': {'sdtype': 'categorical'}}}\n",
      "##############################\n",
      "Generating for: synthetic_data/5_data_fields/hosp_100000x5.csv\n",
      "------------------------------\n"
     ]
    },
    {
     "name": "stderr",
     "output_type": "stream",
     "text": [
      "Creating report: 100%|████████████████████████████████████████████████████████████████████████████████████████████████████████████████████████████████████████████████████████████████████████████████████| 4/4 [01:54<00:00, 28.71s/it]\n"
     ]
    },
    {
     "name": "stdout",
     "output_type": "stream",
     "text": [
      "\n",
      "DiagnosticResults:\n",
      "\n",
      "SUCCESS:\n",
      "✓ The synthetic data covers over 90% of the numerical ranges present in the real data\n",
      "✓ Over 90% of the synthetic rows are not copies of the real data\n",
      "✓ The synthetic data follows over 90% of the min/max boundaries set by the real data\n",
      "\n",
      "WARNING:\n",
      "! The synthetic data is missing more than 10% of the categories present in the real data\n",
      "{'diagnostic_report': {'diagnostic_report_obj': <sdmetrics.reports.single_table.diagnostic_report.DiagnosticReport object at 0x147b54370>,\n",
      "                       'diagnostic_report_time': 114.83510303497314},\n",
      " 'quality_report': None,\n",
      " 'sampling_time': 0.9915950298309326,\n",
      " 'training_time': 6.494463920593262}\n",
      "{'METADATA_SPEC_VERSION': 'SINGLE_TABLE_V1',\n",
      " 'columns': {'Age0': {'sdtype': 'numerical'},\n",
      "             'BMI0': {'sdtype': 'numerical'},\n",
      "             'BloodType0': {'sdtype': 'categorical'},\n",
      "             'DateOfDiagnosis0': {'sdtype': 'categorical'},\n",
      "             'Disease0': {'sdtype': 'categorical'},\n",
      "             'Gender0': {'sdtype': 'categorical'},\n",
      "             'NRIC0': {'sdtype': 'categorical'},\n",
      "             'Name0': {'sdtype': 'categorical'},\n",
      "             'Weight0': {'sdtype': 'numerical'},\n",
      "             'Zipcode0': {'sdtype': 'numerical'}}}\n",
      "##############################\n",
      "Generating for: synthetic_data/10_data_fields/hosp_1000x10.csv\n",
      "------------------------------\n"
     ]
    },
    {
     "name": "stderr",
     "output_type": "stream",
     "text": [
      "Creating report: 100%|████████████████████████████████████████████████████████████████████████████████████████████████████████████████████████████████████████████████████████████████████████████████████| 4/4 [00:05<00:00,  1.47s/it]\n"
     ]
    },
    {
     "name": "stdout",
     "output_type": "stream",
     "text": [
      "\n",
      "DiagnosticResults:\n",
      "\n",
      "SUCCESS:\n",
      "✓ The synthetic data covers over 90% of the numerical ranges present in the real data\n",
      "✓ Over 90% of the synthetic rows are not copies of the real data\n",
      "✓ The synthetic data follows over 90% of the min/max boundaries set by the real data\n",
      "\n",
      "WARNING:\n",
      "! The synthetic data is missing more than 10% of the categories present in the real data\n",
      "{'diagnostic_report': {'diagnostic_report_obj': <sdmetrics.reports.single_table.diagnostic_report.DiagnosticReport object at 0x147b431c0>,\n",
      "                       'diagnostic_report_time': 5.884649276733398},\n",
      " 'quality_report': None,\n",
      " 'sampling_time': 0.05597209930419922,\n",
      " 'training_time': 0.8592450618743896}\n",
      "{'METADATA_SPEC_VERSION': 'SINGLE_TABLE_V1',\n",
      " 'columns': {'Age0': {'sdtype': 'numerical'},\n",
      "             'BMI0': {'sdtype': 'numerical'},\n",
      "             'BloodType0': {'sdtype': 'categorical'},\n",
      "             'DateOfDiagnosis0': {'sdtype': 'categorical'},\n",
      "             'Disease0': {'sdtype': 'categorical'},\n",
      "             'Gender0': {'sdtype': 'categorical'},\n",
      "             'NRIC0': {'sdtype': 'categorical'},\n",
      "             'Name0': {'sdtype': 'categorical'},\n",
      "             'Weight0': {'sdtype': 'numerical'},\n",
      "             'Zipcode0': {'sdtype': 'numerical'}}}\n",
      "##############################\n",
      "Generating for: synthetic_data/10_data_fields/hosp_10000x10.csv\n",
      "------------------------------\n"
     ]
    },
    {
     "name": "stderr",
     "output_type": "stream",
     "text": [
      "Creating report: 100%|████████████████████████████████████████████████████████████████████████████████████████████████████████████████████████████████████████████████████████████████████████████████████| 4/4 [01:04<00:00, 16.02s/it]\n"
     ]
    },
    {
     "name": "stdout",
     "output_type": "stream",
     "text": [
      "\n",
      "DiagnosticResults:\n",
      "\n",
      "SUCCESS:\n",
      "✓ The synthetic data covers over 90% of the numerical ranges present in the real data\n",
      "✓ Over 90% of the synthetic rows are not copies of the real data\n",
      "✓ The synthetic data follows over 90% of the min/max boundaries set by the real data\n",
      "\n",
      "WARNING:\n",
      "! The synthetic data is missing more than 10% of the categories present in the real data\n",
      "{'diagnostic_report': {'diagnostic_report_obj': <sdmetrics.reports.single_table.diagnostic_report.DiagnosticReport object at 0x1479365b0>,\n",
      "                       'diagnostic_report_time': 64.08899593353271},\n",
      " 'quality_report': None,\n",
      " 'sampling_time': 0.1959390640258789,\n",
      " 'training_time': 2.3670918941497803}\n",
      "{'METADATA_SPEC_VERSION': 'SINGLE_TABLE_V1',\n",
      " 'columns': {'Age0': {'sdtype': 'numerical'},\n",
      "             'BMI0': {'sdtype': 'numerical'},\n",
      "             'BloodType0': {'sdtype': 'categorical'},\n",
      "             'DateOfDiagnosis0': {'sdtype': 'categorical'},\n",
      "             'Disease0': {'sdtype': 'categorical'},\n",
      "             'Gender0': {'sdtype': 'categorical'},\n",
      "             'NRIC0': {'sdtype': 'categorical'},\n",
      "             'Name0': {'sdtype': 'categorical'},\n",
      "             'Weight0': {'sdtype': 'numerical'},\n",
      "             'Zipcode0': {'sdtype': 'numerical'}}}\n",
      "##############################\n",
      "Generating for: synthetic_data/10_data_fields/hosp_50000x10.csv\n",
      "------------------------------\n"
     ]
    },
    {
     "name": "stderr",
     "output_type": "stream",
     "text": [
      "Creating report: 100%|████████████████████████████████████████████████████████████████████████████████████████████████████████████████████████████████████████████████████████████████████████████████████| 4/4 [01:56<00:00, 29.05s/it]\n"
     ]
    },
    {
     "name": "stdout",
     "output_type": "stream",
     "text": [
      "\n",
      "DiagnosticResults:\n",
      "\n",
      "SUCCESS:\n",
      "✓ The synthetic data covers over 90% of the numerical ranges present in the real data\n",
      "✓ Over 90% of the synthetic rows are not copies of the real data\n",
      "✓ The synthetic data follows over 90% of the min/max boundaries set by the real data\n",
      "\n",
      "WARNING:\n",
      "! The synthetic data is missing more than 10% of the categories present in the real data\n",
      "{'diagnostic_report': {'diagnostic_report_obj': <sdmetrics.reports.single_table.diagnostic_report.DiagnosticReport object at 0x147b43dc0>,\n",
      "                       'diagnostic_report_time': 116.22190308570862},\n",
      " 'quality_report': None,\n",
      " 'sampling_time': 0.893563985824585,\n",
      " 'training_time': 6.701810121536255}\n",
      "{'METADATA_SPEC_VERSION': 'SINGLE_TABLE_V1',\n",
      " 'columns': {'Age0': {'sdtype': 'numerical'},\n",
      "             'BMI0': {'sdtype': 'numerical'},\n",
      "             'BloodType0': {'sdtype': 'categorical'},\n",
      "             'DateOfDiagnosis0': {'sdtype': 'categorical'},\n",
      "             'Disease0': {'sdtype': 'categorical'},\n",
      "             'Gender0': {'sdtype': 'categorical'},\n",
      "             'NRIC0': {'sdtype': 'categorical'},\n",
      "             'Name0': {'sdtype': 'categorical'},\n",
      "             'Weight0': {'sdtype': 'numerical'},\n",
      "             'Zipcode0': {'sdtype': 'numerical'}}}\n",
      "##############################\n",
      "Generating for: synthetic_data/10_data_fields/hosp_100000x10.csv\n",
      "------------------------------\n"
     ]
    },
    {
     "name": "stderr",
     "output_type": "stream",
     "text": [
      "Creating report: 100%|████████████████████████████████████████████████████████████████████████████████████████████████████████████████████████████████████████████████████████████████████████████████████| 4/4 [02:54<00:00, 43.54s/it]\n"
     ]
    },
    {
     "name": "stdout",
     "output_type": "stream",
     "text": [
      "\n",
      "DiagnosticResults:\n",
      "\n",
      "SUCCESS:\n",
      "✓ The synthetic data covers over 90% of the numerical ranges present in the real data\n",
      "✓ Over 90% of the synthetic rows are not copies of the real data\n",
      "✓ The synthetic data follows over 90% of the min/max boundaries set by the real data\n",
      "\n",
      "WARNING:\n",
      "! The synthetic data is missing more than 10% of the categories present in the real data\n",
      "{'diagnostic_report': {'diagnostic_report_obj': <sdmetrics.reports.single_table.diagnostic_report.DiagnosticReport object at 0x14a8386d0>,\n",
      "                       'diagnostic_report_time': 174.16585206985474},\n",
      " 'quality_report': None,\n",
      " 'sampling_time': 1.639620065689087,\n",
      " 'training_time': 12.584924936294556}\n",
      "{'METADATA_SPEC_VERSION': 'SINGLE_TABLE_V1',\n",
      " 'columns': {'Age0': {'sdtype': 'numerical'},\n",
      "             'Age1': {'sdtype': 'numerical'},\n",
      "             'BMI0': {'sdtype': 'numerical'},\n",
      "             'BMI1': {'sdtype': 'numerical'},\n",
      "             'BloodType0': {'sdtype': 'categorical'},\n",
      "             'BloodType1': {'sdtype': 'categorical'},\n",
      "             'DateOfDiagnosis0': {'sdtype': 'categorical'},\n",
      "             'DateOfDiagnosis1': {'sdtype': 'categorical'},\n",
      "             'Disease0': {'sdtype': 'categorical'},\n",
      "             'Disease1': {'sdtype': 'categorical'},\n",
      "             'Gender0': {'sdtype': 'categorical'},\n",
      "             'Gender1': {'sdtype': 'categorical'},\n",
      "             'NRIC0': {'sdtype': 'categorical'},\n",
      "             'NRIC1': {'sdtype': 'categorical'},\n",
      "             'Name0': {'sdtype': 'categorical'},\n",
      "             'Name1': {'sdtype': 'categorical'},\n",
      "             'Weight0': {'sdtype': 'numerical'},\n",
      "             'Weight1': {'sdtype': 'numerical'},\n",
      "             'Zipcode0': {'sdtype': 'numerical'},\n",
      "             'Zipcode1': {'sdtype': 'numerical'}}}\n",
      "##############################\n",
      "Generating for: synthetic_data/20_data_fields/hosp_1000x20.csv\n",
      "------------------------------\n"
     ]
    },
    {
     "name": "stderr",
     "output_type": "stream",
     "text": [
      "Creating report: 100%|████████████████████████████████████████████████████████████████████████████████████████████████████████████████████████████████████████████████████████████████████████████████████| 4/4 [00:10<00:00,  2.67s/it]\n"
     ]
    },
    {
     "name": "stdout",
     "output_type": "stream",
     "text": [
      "\n",
      "DiagnosticResults:\n",
      "\n",
      "SUCCESS:\n",
      "✓ The synthetic data covers over 90% of the numerical ranges present in the real data\n",
      "✓ Over 90% of the synthetic rows are not copies of the real data\n",
      "✓ The synthetic data follows over 90% of the min/max boundaries set by the real data\n",
      "\n",
      "WARNING:\n",
      "! The synthetic data is missing more than 10% of the categories present in the real data\n",
      "{'diagnostic_report': {'diagnostic_report_obj': <sdmetrics.reports.single_table.diagnostic_report.DiagnosticReport object at 0x147cb9c40>,\n",
      "                       'diagnostic_report_time': 10.694057941436768},\n",
      " 'quality_report': None,\n",
      " 'sampling_time': 0.11630964279174805,\n",
      " 'training_time': 1.5646450519561768}\n",
      "{'METADATA_SPEC_VERSION': 'SINGLE_TABLE_V1',\n",
      " 'columns': {'Age0': {'sdtype': 'numerical'},\n",
      "             'Age1': {'sdtype': 'numerical'},\n",
      "             'BMI0': {'sdtype': 'numerical'},\n",
      "             'BMI1': {'sdtype': 'numerical'},\n",
      "             'BloodType0': {'sdtype': 'categorical'},\n",
      "             'BloodType1': {'sdtype': 'categorical'},\n",
      "             'DateOfDiagnosis0': {'sdtype': 'categorical'},\n",
      "             'DateOfDiagnosis1': {'sdtype': 'categorical'},\n",
      "             'Disease0': {'sdtype': 'categorical'},\n",
      "             'Disease1': {'sdtype': 'categorical'},\n",
      "             'Gender0': {'sdtype': 'categorical'},\n",
      "             'Gender1': {'sdtype': 'categorical'},\n",
      "             'NRIC0': {'sdtype': 'categorical'},\n",
      "             'NRIC1': {'sdtype': 'categorical'},\n",
      "             'Name0': {'sdtype': 'categorical'},\n",
      "             'Name1': {'sdtype': 'categorical'},\n",
      "             'Weight0': {'sdtype': 'numerical'},\n",
      "             'Weight1': {'sdtype': 'numerical'},\n",
      "             'Zipcode0': {'sdtype': 'numerical'},\n",
      "             'Zipcode1': {'sdtype': 'numerical'}}}\n",
      "##############################\n",
      "Generating for: synthetic_data/20_data_fields/hosp_10000x20.csv\n",
      "------------------------------\n"
     ]
    },
    {
     "name": "stderr",
     "output_type": "stream",
     "text": [
      "Creating report: 100%|████████████████████████████████████████████████████████████████████████████████████████████████████████████████████████████████████████████████████████████████████████████████████| 4/4 [02:06<00:00, 31.66s/it]\n"
     ]
    },
    {
     "name": "stdout",
     "output_type": "stream",
     "text": [
      "\n",
      "DiagnosticResults:\n",
      "\n",
      "SUCCESS:\n",
      "✓ The synthetic data covers over 90% of the numerical ranges present in the real data\n",
      "✓ Over 90% of the synthetic rows are not copies of the real data\n",
      "✓ The synthetic data follows over 90% of the min/max boundaries set by the real data\n",
      "\n",
      "WARNING:\n",
      "! The synthetic data is missing more than 10% of the categories present in the real data\n",
      "{'diagnostic_report': {'diagnostic_report_obj': <sdmetrics.reports.single_table.diagnostic_report.DiagnosticReport object at 0x147b431c0>,\n",
      "                       'diagnostic_report_time': 126.6598219871521},\n",
      " 'quality_report': None,\n",
      " 'sampling_time': 0.40526413917541504,\n",
      " 'training_time': 4.1520397663116455}\n",
      "{'METADATA_SPEC_VERSION': 'SINGLE_TABLE_V1',\n",
      " 'columns': {'Age0': {'sdtype': 'numerical'},\n",
      "             'Age1': {'sdtype': 'numerical'},\n",
      "             'BMI0': {'sdtype': 'numerical'},\n",
      "             'BMI1': {'sdtype': 'numerical'},\n",
      "             'BloodType0': {'sdtype': 'categorical'},\n",
      "             'BloodType1': {'sdtype': 'categorical'},\n",
      "             'DateOfDiagnosis0': {'sdtype': 'categorical'},\n",
      "             'DateOfDiagnosis1': {'sdtype': 'categorical'},\n",
      "             'Disease0': {'sdtype': 'categorical'},\n",
      "             'Disease1': {'sdtype': 'categorical'},\n",
      "             'Gender0': {'sdtype': 'categorical'},\n",
      "             'Gender1': {'sdtype': 'categorical'},\n",
      "             'NRIC0': {'sdtype': 'categorical'},\n",
      "             'NRIC1': {'sdtype': 'categorical'},\n",
      "             'Name0': {'sdtype': 'categorical'},\n",
      "             'Name1': {'sdtype': 'categorical'},\n",
      "             'Weight0': {'sdtype': 'numerical'},\n",
      "             'Weight1': {'sdtype': 'numerical'},\n",
      "             'Zipcode0': {'sdtype': 'numerical'},\n",
      "             'Zipcode1': {'sdtype': 'numerical'}}}\n",
      "##############################\n",
      "Generating for: synthetic_data/20_data_fields/hosp_50000x20.csv\n",
      "------------------------------\n"
     ]
    },
    {
     "name": "stderr",
     "output_type": "stream",
     "text": [
      "Creating report: 100%|████████████████████████████████████████████████████████████████████████████████████████████████████████████████████████████████████████████████████████████████████████████████████| 4/4 [03:37<00:00, 54.47s/it]\n"
     ]
    },
    {
     "name": "stdout",
     "output_type": "stream",
     "text": [
      "\n",
      "DiagnosticResults:\n",
      "\n",
      "SUCCESS:\n",
      "✓ The synthetic data covers over 90% of the numerical ranges present in the real data\n",
      "✓ Over 90% of the synthetic rows are not copies of the real data\n",
      "✓ The synthetic data follows over 90% of the min/max boundaries set by the real data\n",
      "\n",
      "WARNING:\n",
      "! The synthetic data is missing more than 10% of the categories present in the real data\n",
      "{'diagnostic_report': {'diagnostic_report_obj': <sdmetrics.reports.single_table.diagnostic_report.DiagnosticReport object at 0x143e9d310>,\n",
      "                       'diagnostic_report_time': 217.89478302001953},\n",
      " 'quality_report': None,\n",
      " 'sampling_time': 2.0721261501312256,\n",
      " 'training_time': 13.893616199493408}\n",
      "{'METADATA_SPEC_VERSION': 'SINGLE_TABLE_V1',\n",
      " 'columns': {'Age0': {'sdtype': 'numerical'},\n",
      "             'Age1': {'sdtype': 'numerical'},\n",
      "             'BMI0': {'sdtype': 'numerical'},\n",
      "             'BMI1': {'sdtype': 'numerical'},\n",
      "             'BloodType0': {'sdtype': 'categorical'},\n",
      "             'BloodType1': {'sdtype': 'categorical'},\n",
      "             'DateOfDiagnosis0': {'sdtype': 'categorical'},\n",
      "             'DateOfDiagnosis1': {'sdtype': 'categorical'},\n",
      "             'Disease0': {'sdtype': 'categorical'},\n",
      "             'Disease1': {'sdtype': 'categorical'},\n",
      "             'Gender0': {'sdtype': 'categorical'},\n",
      "             'Gender1': {'sdtype': 'categorical'},\n",
      "             'NRIC0': {'sdtype': 'categorical'},\n",
      "             'NRIC1': {'sdtype': 'categorical'},\n",
      "             'Name0': {'sdtype': 'categorical'},\n",
      "             'Name1': {'sdtype': 'categorical'},\n",
      "             'Weight0': {'sdtype': 'numerical'},\n",
      "             'Weight1': {'sdtype': 'numerical'},\n",
      "             'Zipcode0': {'sdtype': 'numerical'},\n",
      "             'Zipcode1': {'sdtype': 'numerical'}}}\n",
      "##############################\n",
      "Generating for: synthetic_data/20_data_fields/hosp_100000x20.csv\n",
      "------------------------------\n"
     ]
    },
    {
     "name": "stderr",
     "output_type": "stream",
     "text": [
      "Creating report: 100%|████████████████████████████████████████████████████████████████████████████████████████████████████████████████████████████████████████████████████████████████████████████████████| 4/4 [05:29<00:00, 82.48s/it]"
     ]
    },
    {
     "name": "stdout",
     "output_type": "stream",
     "text": [
      "\n",
      "DiagnosticResults:\n",
      "\n",
      "SUCCESS:\n",
      "✓ The synthetic data covers over 90% of the numerical ranges present in the real data\n",
      "✓ Over 90% of the synthetic rows are not copies of the real data\n",
      "✓ The synthetic data follows over 90% of the min/max boundaries set by the real data\n",
      "\n",
      "WARNING:\n",
      "! The synthetic data is missing more than 10% of the categories present in the real data\n",
      "{'diagnostic_report': {'diagnostic_report_obj': <sdmetrics.reports.single_table.diagnostic_report.DiagnosticReport object at 0x1479365b0>,\n",
      "                       'diagnostic_report_time': 329.90741181373596},\n",
      " 'quality_report': None,\n",
      " 'sampling_time': 3.8388729095458984,\n",
      " 'training_time': 27.20659303665161}\n"
     ]
    },
    {
     "name": "stderr",
     "output_type": "stream",
     "text": [
      "\n"
     ]
    }
   ],
   "source": [
    "for c in str_num_columns:\n",
    "    for r in str_num_rows:\n",
    "        file_name = BASE_MOCK_HOSP_PATH + f\"/{c}_data_fields/hosp_{r}x{c}.csv\"\n",
    "        hosp_df = pd.read_csv(file_name)\n",
    "        hosp_metadata = detect_metadata(hosp_df)\n",
    "        \n",
    "        synthesizer = evaluate_synthesizer(hosp_metadata)\n",
    "\n",
    "        print(\"#\"*30)\n",
    "        print(f\"Generating for: {file_name}\")\n",
    "        print(\"-\"*30)\n",
    "        pprint(get_model_time_score(synthesizer, hosp_metadata, hosp_df, samples=hosp_df.shape[0]))"
   ]
  },
  {
   "cell_type": "markdown",
   "id": "652f5e31-8e92-4e67-af58-fbec276697b3",
   "metadata": {},
   "source": [
    "### 3.3. Real-data"
   ]
  },
  {
   "cell_type": "code",
   "execution_count": null,
   "id": "4aa60993-5a41-4227-9934-7a313772d77b",
   "metadata": {},
   "outputs": [],
   "source": [
    "for file_name in REAL_DATA_LIST:\n",
    "    real_df = pd.read_csv(file_name)\n",
    "    real_metadata = detect_metadata(real_df)\n",
    "    \n",
    "    synthesizer = evaluate_synthesizer(real_metadata)\n",
    "\n",
    "    print(\"#\"*30)\n",
    "    print(f\"Generating for: {file_name} {real_df.shape}\")\n",
    "    print(get_model_time_score(synthesizer, real_metadata, real_df, samples=real_df.shape[0]), True, True)\n",
    "    print(\"#\"*30)"
   ]
  },
  {
   "cell_type": "code",
   "execution_count": null,
   "id": "9918f821-3277-4869-b5d2-2e2af91806a7",
   "metadata": {},
   "outputs": [],
   "source": []
  },
  {
   "cell_type": "code",
   "execution_count": null,
   "id": "9458addd-8d5f-4a5f-97fd-f5d6e6714747",
   "metadata": {},
   "outputs": [],
   "source": []
  },
  {
   "cell_type": "code",
   "execution_count": null,
   "id": "2d69ea9d-822b-4264-85ce-b1e4259e70d6",
   "metadata": {},
   "outputs": [],
   "source": []
  },
  {
   "cell_type": "code",
   "execution_count": null,
   "id": "7fd7730a-d7da-4ef0-8c88-36c04bb99057",
   "metadata": {},
   "outputs": [],
   "source": []
  },
  {
   "cell_type": "markdown",
   "id": "8a33d9c8-81e5-4880-b280-8ac00d2a4bc9",
   "metadata": {
    "tags": []
   },
   "source": [
    "# Dumps"
   ]
  },
  {
   "cell_type": "code",
   "execution_count": null,
   "id": "e2441620-75e8-4052-ad89-98e0d2669d68",
   "metadata": {},
   "outputs": [],
   "source": [
    "quality_report.get_visualization('Column Shapes')"
   ]
  },
  {
   "cell_type": "code",
   "execution_count": null,
   "id": "b1f7bd2b-b811-41fb-8f83-d92d6c0f16e8",
   "metadata": {},
   "outputs": [],
   "source": [
    "custom_synthesizer = GaussianCopulaSynthesizer(\n",
    "    metadata,\n",
    "    default_distribution='truncnorm',\n",
    "    numerical_distributions={\n",
    "        'checkin_date': 'uniform',\n",
    "        'checkout_date': 'uniform',\n",
    "        'room_rate': 'gaussian_kde'\n",
    "    }\n",
    ")\n",
    "\n",
    "custom_synthesizer.fit(real_data)"
   ]
  },
  {
   "cell_type": "code",
   "execution_count": null,
   "id": "e25dd685-e7a6-4daa-85a3-6ab6550ad3ab",
   "metadata": {},
   "outputs": [],
   "source": [
    "learned_distributions = custom_synthesizer.get_learned_distributions()\n",
    "learned_distributions['has_rewards']"
   ]
  },
  {
   "cell_type": "code",
   "execution_count": null,
   "id": "b387c48f-2555-42fd-b499-71ac1f8db336",
   "metadata": {},
   "outputs": [],
   "source": [
    "synthetic_data_customized = custom_synthesizer.sample(num_rows=500)\n",
    "\n",
    "quality_report = evaluate_quality(\n",
    "    real_data,\n",
    "    synthetic_data_customized,\n",
    "    metadata\n",
    ")"
   ]
  },
  {
   "cell_type": "code",
   "execution_count": null,
   "id": "78200ced-4b88-4fce-a557-03111b1c244b",
   "metadata": {},
   "outputs": [],
   "source": [
    "fig = get_column_plot(\n",
    "    real_data=real_data,\n",
    "    synthetic_data=synthetic_data_customized,\n",
    "    column_name='room_rate',\n",
    "    metadata=metadata\n",
    ")\n",
    "    \n",
    "fig.show()"
   ]
  },
  {
   "cell_type": "code",
   "execution_count": null,
   "id": "70e5c278-c28b-4827-9bc0-d0b512445e47",
   "metadata": {},
   "outputs": [],
   "source": [
    "from sdv.sampling import Condition\n",
    "\n",
    "suite_guests_with_rewards = Condition(\n",
    "    num_rows=250,\n",
    "    column_values={'room_type': 'SUITE', 'has_rewards': True}\n",
    ")\n",
    "\n",
    "suite_guests_without_rewards = Condition(\n",
    "    num_rows=250,\n",
    "    column_values={'room_type': 'SUITE', 'has_rewards': False}\n",
    ")"
   ]
  }
 ],
 "metadata": {
  "kernelspec": {
   "display_name": "Python 3 (ipykernel)",
   "language": "python",
   "name": "python3"
  },
  "language_info": {
   "codemirror_mode": {
    "name": "ipython",
    "version": 3
   },
   "file_extension": ".py",
   "mimetype": "text/x-python",
   "name": "python",
   "nbconvert_exporter": "python",
   "pygments_lexer": "ipython3",
   "version": "3.8.11"
  }
 },
 "nbformat": 4,
 "nbformat_minor": 5
}
