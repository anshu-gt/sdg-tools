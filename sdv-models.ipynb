{
 "cells": [
  {
   "cell_type": "code",
   "execution_count": 1,
   "id": "eba7a1f0-4032-4017-a253-32198652788f",
   "metadata": {},
   "outputs": [],
   "source": [
    "import time\n",
    "import pandas as pd\n",
    "\n",
    "# models \n",
    "from sdv.single_table import GaussianCopulaSynthesizer\n",
    "from sdv.single_table import CTGANSynthesizer\n",
    "from sdv.single_table import TVAESynthesizer\n",
    "\n",
    "# autodetection of metadata\n",
    "from sdv.metadata import SingleTableMetadata\n",
    "\n",
    "# evaluation of synthetic data\n",
    "from sdv.evaluation.single_table import evaluate_quality\n",
    "from sdv.evaluation.single_table import run_diagnostic\n",
    "\n",
    "from sdv.datasets.demo import download_demo\n",
    "\n",
    "# visualisation\n",
    "# from sdv.evaluation.single_table import get_column_plot"
   ]
  },
  {
   "cell_type": "code",
   "execution_count": 2,
   "id": "ec2541a7-e3ef-464d-b8ab-3c07d34367e0",
   "metadata": {},
   "outputs": [],
   "source": [
    "import warnings\n",
    "warnings.filterwarnings('ignore')\n",
    "\n",
    "from pprint import pprint"
   ]
  },
  {
   "cell_type": "markdown",
   "id": "2421a448-def3-4a24-ab4d-307069a6e852",
   "metadata": {},
   "source": [
    "# Notes"
   ]
  },
  {
   "cell_type": "markdown",
   "id": "d174b723-c395-48fa-b9d2-cd72424d7088",
   "metadata": {},
   "source": [
    "### Synthesizers -- models to generate synthetic data \n",
    "\n",
    "Models to generate single table data \n",
    "- Gaussian Copula -- Statistical modelling | most customizable and faster \n",
    "- CTGAN – GAN-based (Deep learning) | high fidelity dataset, training time required\n",
    "- TVAE – variational autoencoder (Deep learning)| high fidelity dataset, training time required\n",
    "\n",
    "Others\n",
    "- PAR  (?) – for sequential\n",
    "- HMA  (?) - for multi-table\n",
    "\n",
    "**Notebook focuses on Gaussian Copula, CTGAN, TVAE** "
   ]
  },
  {
   "cell_type": "markdown",
   "id": "24ae1aff-4d05-4669-ab76-89fd770db090",
   "metadata": {},
   "source": [
    "Inputs required for the synthesizers \n",
    "- Metadata (Required)\n",
    "- Real Data (Required)\n",
    "- Customisable parameters (Optional)"
   ]
  },
  {
   "cell_type": "markdown",
   "id": "c0d4289f-ad7f-4bfe-beab-76b95dcb190b",
   "metadata": {},
   "source": [
    "### Autodetecting metadata "
   ]
  },
  {
   "cell_type": "markdown",
   "id": "8250b2d3-8607-402e-a33a-d061ad51f37e",
   "metadata": {},
   "source": [
    "[From the Doc]\n",
    "The detected metadata is not guaranteed to be accurate or complete. Be sure to carefully inspect the metadata and update information.\n",
    "- Primary keys and other identifiers are not auto-detected. See set_primary_key and add_alternate_keys method to add them.\n",
    "- Dates and sensitive information may be auto-detected incorrectly. See update_column method to update them."
   ]
  },
  {
   "cell_type": "markdown",
   "id": "c9912e51-26c0-461a-a9f7-63cc32645ea0",
   "metadata": {},
   "source": [
    "### Evaluation Report"
   ]
  },
  {
   "cell_type": "markdown",
   "id": "6bd6d530-6ca9-47a4-824f-e0ceefc58f4d",
   "metadata": {},
   "source": [
    "**Quality Report**\n",
    "For checking data  Fidelity:  How well the synthetic data captures mathematical properties from your real data.\n",
    "\n",
    "Evaluates: \n",
    "- Overall score including Column Shapes, Columns Pair Trends\n",
    "- Metrics and score details for Column Shapes, Columns Pair Trends\n",
    "- All scaore range from 0 to 1\n",
    "\n",
    "**Diagnoistic Report** \n",
    "Give a general sense of the strengths and weakness of the synthetic data model. \n",
    "Evaluates: \n",
    "- Overall [diagnosic results](https://docs.sdv.dev/sdmetrics/reports/diagnostic-report/single-table-api#get_results) -- SUCCESS, WARNING, DANGER \n",
    "- Properties -- Syntheiss, Coverage, Boundaries "
   ]
  },
  {
   "cell_type": "markdown",
   "id": "0787a619-a0d9-4e72-87f5-bae6141f5a5d",
   "metadata": {},
   "source": [
    "# Experiments "
   ]
  },
  {
   "cell_type": "markdown",
   "id": "f027881e-8fc4-4ab8-8456-5ce8f36b3a48",
   "metadata": {},
   "source": [
    "**Mock Data**\n",
    "- SDV demo data \n",
    "- simulated_hospital_data with varying: (1) num of columns -- 5, 10, 20 (2) num of rows -- 1k, 10k, 50k, 100k"
   ]
  },
  {
   "cell_type": "code",
   "execution_count": 3,
   "id": "ca0ba74b-656a-4c21-9d96-e6568124e76a",
   "metadata": {},
   "outputs": [],
   "source": [
    "BASE_MOCK_HOSP_PATH = \"synthetic_data\"\n",
    "\n",
    "str_num_rows = [1000, 10000, 50000, 100000]\n",
    "str_num_columns = [5, 10, 20]"
   ]
  },
  {
   "cell_type": "markdown",
   "id": "549cfb35-c9a5-4aac-baed-6c22132d135d",
   "metadata": {},
   "source": [
    "**Real Data** "
   ]
  },
  {
   "cell_type": "code",
   "execution_count": 51,
   "id": "e118be08-db36-44b4-ab3a-bb8cef3e093a",
   "metadata": {},
   "outputs": [],
   "source": [
    "REAL_DATA_LIST = [\"real_data/community_survey.csv\", \"real_data/us_census.csv\"] #\"real_data/time_use.csv\", "
   ]
  },
  {
   "cell_type": "markdown",
   "id": "90df69ca-c2f6-459a-b270-b46a20179ea6",
   "metadata": {},
   "source": [
    "## Utility functions"
   ]
  },
  {
   "cell_type": "code",
   "execution_count": 15,
   "id": "92acf8d2-d7ea-44d6-9bac-ec1bcdd63e6c",
   "metadata": {},
   "outputs": [],
   "source": [
    "def get_model_time_score(synthesizer, metadata, real_data, samples=500, gen_quality_report=False, gen_diagnostic_report=True): \n",
    "    \n",
    "    # ---------------------\n",
    "    # Step 1: Train\n",
    "    # ---------------------\n",
    "    begin_time = time.time()\n",
    "    synthesizer.fit(real_data)\n",
    "    end_time = time.time()\n",
    "    \n",
    "    training_time = end_time - begin_time\n",
    "    \n",
    "    # ---------------------\n",
    "    # Step 2: Sample\n",
    "    # ---------------------\n",
    "    begin_time = time.time()\n",
    "    synthetic_data = synthesizer.sample(num_rows=samples)\n",
    "    end_time = time.time()\n",
    "    \n",
    "    sampling_time = end_time - begin_time\n",
    "    \n",
    "    # ---------------------\n",
    "    # Step 3: Evaluate\n",
    "    # ---------------------\n",
    "\n",
    "    # 1. QUALITY REPORT\n",
    "    # time consuming so keeping conditional\n",
    "    if gen_quality_report:\n",
    "        begin_time = time.time()\n",
    "        quality_report_obj = evaluate_quality(\n",
    "                real_data,\n",
    "                synthetic_data,\n",
    "                metadata\n",
    "            )\n",
    "        end_time = time.time()\n",
    "        \n",
    "        quality_report_time = end_time - begin_time\n",
    "        \n",
    "        quality_report = { \n",
    "            \"quality_report_obj\": quality_report_obj,\n",
    "            \"quality_report_time\": quality_report_time,\n",
    "            \"quality_report_score\": quality_report_obj.get_score()\n",
    "        }\n",
    "        \n",
    "    # 2. DIAGNOSTIC REPORT\n",
    "    if gen_diagnostic_report:\n",
    "        begin_time = time.time()\n",
    "        diagnostic_report_obj = run_diagnostic(\n",
    "                real_data,\n",
    "                synthetic_data,\n",
    "                metadata\n",
    "            )\n",
    "        end_time = time.time()\n",
    "        \n",
    "        diagnostic_report_time = end_time - begin_time\n",
    "        \n",
    "        diagnostic_report = { \n",
    "            \"diagnostic_report_obj\": diagnostic_report_obj,\n",
    "            \"diagnostic_report_time\": diagnostic_report_time\n",
    "            \n",
    "        }\n",
    "        \n",
    "    return {\n",
    "            \"training_time\": training_time,\n",
    "            \"sampling_time\": sampling_time,\n",
    "            \"quality_report\": quality_report if gen_quality_report else None,\n",
    "            \"diagnostic_report\": diagnostic_report if gen_diagnostic_report else None}"
   ]
  },
  {
   "cell_type": "code",
   "execution_count": 10,
   "id": "3aaef70d-b3fb-40dd-b828-5baa96962fc3",
   "metadata": {},
   "outputs": [],
   "source": [
    "def detect_metadata(real_data_df): \n",
    "    metadata = SingleTableMetadata()\n",
    "    metadata.detect_from_dataframe(data=real_data_df)\n",
    "    pprint(metadata.to_dict())\n",
    "#     python_dict = metadata.to_dict()\n",
    "    return metadata"
   ]
  },
  {
   "cell_type": "markdown",
   "id": "10600c2b-c819-48c7-bc0f-deb3914cc588",
   "metadata": {},
   "source": [
    "## Models"
   ]
  },
  {
   "cell_type": "markdown",
   "id": "b0ea82be-c6f7-49d3-9da3-857bba3fcd39",
   "metadata": {},
   "source": [
    "## 1. Gaussian Copula Model "
   ]
  },
  {
   "cell_type": "code",
   "execution_count": 6,
   "id": "f4efa7ea-c152-4610-8d2e-91ba78ce6819",
   "metadata": {},
   "outputs": [],
   "source": [
    "evaluate_synthesizer = GaussianCopulaSynthesizer"
   ]
  },
  {
   "cell_type": "markdown",
   "id": "86960375-21b7-49e4-b960-27aafba3e5b4",
   "metadata": {},
   "source": [
    "### 1.1. Mock SDV demo data"
   ]
  },
  {
   "cell_type": "code",
   "execution_count": 11,
   "id": "21fe5e02-13a8-4282-a793-4165f94aeb26",
   "metadata": {},
   "outputs": [
    {
     "name": "stdout",
     "output_type": "stream",
     "text": [
      "{\n",
      "    \"columns\": {\n",
      "        \"guest_email\": {\n",
      "            \"sdtype\": \"email\",\n",
      "            \"pii\": true\n",
      "        },\n",
      "        \"has_rewards\": {\n",
      "            \"sdtype\": \"boolean\"\n",
      "        },\n",
      "        \"room_type\": {\n",
      "            \"sdtype\": \"categorical\"\n",
      "        },\n",
      "        \"amenities_fee\": {\n",
      "            \"sdtype\": \"numerical\",\n",
      "            \"computer_representation\": \"Float\"\n",
      "        },\n",
      "        \"checkin_date\": {\n",
      "            \"sdtype\": \"datetime\",\n",
      "            \"datetime_format\": \"%d %b %Y\"\n",
      "        },\n",
      "        \"checkout_date\": {\n",
      "            \"sdtype\": \"datetime\",\n",
      "            \"datetime_format\": \"%d %b %Y\"\n",
      "        },\n",
      "        \"room_rate\": {\n",
      "            \"sdtype\": \"numerical\",\n",
      "            \"computer_representation\": \"Float\"\n",
      "        },\n",
      "        \"billing_address\": {\n",
      "            \"sdtype\": \"address\",\n",
      "            \"pii\": true\n",
      "        },\n",
      "        \"credit_card_number\": {\n",
      "            \"sdtype\": \"credit_card_number\",\n",
      "            \"pii\": true\n",
      "        }\n",
      "    },\n",
      "    \"primary_key\": \"guest_email\",\n",
      "    \"METADATA_SPEC_VERSION\": \"SINGLE_TABLE_V1\"\n",
      "}\n"
     ]
    },
    {
     "name": "stderr",
     "output_type": "stream",
     "text": [
      "Creating report: 100%|████████████████████████████████████████████████████████████████████████████████████████████████████████████████████████████████████████████████████████████████████████████████████| 4/4 [00:00<00:00, 47.59it/s]\n"
     ]
    },
    {
     "name": "stdout",
     "output_type": "stream",
     "text": [
      "\n",
      "Overall Quality Score: 87.83%\n",
      "\n",
      "Properties:\n",
      "Column Shapes: 87.28%\n",
      "Column Pair Trends: 88.38%\n"
     ]
    },
    {
     "name": "stderr",
     "output_type": "stream",
     "text": [
      "Creating report: 100%|████████████████████████████████████████████████████████████████████████████████████████████████████████████████████████████████████████████████████████████████████████████████████| 4/4 [00:01<00:00,  2.08it/s]"
     ]
    },
    {
     "name": "stdout",
     "output_type": "stream",
     "text": [
      "\n",
      "DiagnosticResults:\n",
      "\n",
      "SUCCESS:\n",
      "✓ The synthetic data covers over 90% of the numerical ranges present in the real data\n",
      "✓ The synthetic data covers over 90% of the categories present in the real data\n",
      "✓ Over 90% of the synthetic rows are not copies of the real data\n",
      "✓ The synthetic data follows over 90% of the min/max boundaries set by the real data\n",
      "{'diagnostic_report': {'diagnostic_report_obj': <sdmetrics.reports.single_table.diagnostic_report.DiagnosticReport object at 0x144346a60>,\n",
      "                       'diagnostic_report_time': 1.9242639541625977},\n",
      " 'quality_report': {'quality_report_obj': <sdmetrics.reports.single_table.quality_report.QualityReport object at 0x1449c0e20>,\n",
      "                    'quality_report_score': 0.8782824635868114,\n",
      "                    'quality_report_time': 0.22680377960205078},\n",
      " 'sampling_time': 0.36507701873779297,\n",
      " 'training_time': 1.60667085647583}\n"
     ]
    },
    {
     "name": "stderr",
     "output_type": "stream",
     "text": [
      "\n"
     ]
    }
   ],
   "source": [
    "demo_data, demo_metadata = download_demo(\n",
    "    modality='single_table',\n",
    "    dataset_name='fake_hotel_guests'\n",
    ")\n",
    "\n",
    "pprint(demo_metadata)\n",
    "synthesizer = evaluate_synthesizer(demo_metadata, enforce_min_max_values=True, enforce_rounding=False)\n",
    "\n",
    "pprint(get_model_time_score(synthesizer, demo_metadata, demo_data, 500))"
   ]
  },
  {
   "cell_type": "markdown",
   "id": "36ba9e20-8731-4717-98f2-8741af71ab8a",
   "metadata": {},
   "source": [
    "### 1.2. Mock hospital data"
   ]
  },
  {
   "cell_type": "markdown",
   "id": "7155878a-0353-4f45-8575-088a4e4345b2",
   "metadata": {
    "tags": []
   },
   "source": [
    "**Varying number of rows and columns**"
   ]
  },
  {
   "cell_type": "code",
   "execution_count": 16,
   "id": "09f139e5-51c3-433e-8da2-f984ee50e805",
   "metadata": {},
   "outputs": [
    {
     "name": "stdout",
     "output_type": "stream",
     "text": [
      "{'METADATA_SPEC_VERSION': 'SINGLE_TABLE_V1',\n",
      " 'columns': {'Age': {'sdtype': 'numerical'},\n",
      "             'DateOfDiagnosis': {'sdtype': 'categorical'},\n",
      "             'Gender': {'sdtype': 'categorical'},\n",
      "             'NRIC': {'sdtype': 'categorical'},\n",
      "             'Name': {'sdtype': 'categorical'}}}\n",
      "##############################\n",
      "Generating for: synthetic_data/5_data_fields/hosp_1000x5.csv\n",
      "------------------------------\n"
     ]
    },
    {
     "name": "stderr",
     "output_type": "stream",
     "text": [
      "Creating report: 100%|████████████████████████████████████████████████████████████████████████████████████████████████████████████████████████████████████████████████████████████████████████████████████| 4/4 [00:02<00:00,  1.42it/s]\n"
     ]
    },
    {
     "name": "stdout",
     "output_type": "stream",
     "text": [
      "\n",
      "DiagnosticResults:\n",
      "\n",
      "SUCCESS:\n",
      "✓ The synthetic data covers over 90% of the numerical ranges present in the real data\n",
      "✓ Over 90% of the synthetic rows are not copies of the real data\n",
      "✓ The synthetic data follows over 90% of the min/max boundaries set by the real data\n",
      "\n",
      "WARNING:\n",
      "! The synthetic data is missing more than 10% of the categories present in the real data\n",
      "{'diagnostic_report': {'diagnostic_report_obj': <sdmetrics.reports.single_table.diagnostic_report.DiagnosticReport object at 0x146f57bb0>,\n",
      "                       'diagnostic_report_time': 2.83032488822937},\n",
      " 'quality_report': None,\n",
      " 'sampling_time': 0.07252311706542969,\n",
      " 'training_time': 0.4693310260772705}\n",
      "{'METADATA_SPEC_VERSION': 'SINGLE_TABLE_V1',\n",
      " 'columns': {'Age': {'sdtype': 'numerical'},\n",
      "             'DateOfDiagnosis': {'sdtype': 'categorical'},\n",
      "             'Gender': {'sdtype': 'categorical'},\n",
      "             'NRIC': {'sdtype': 'categorical'},\n",
      "             'Name': {'sdtype': 'categorical'}}}\n",
      "##############################\n",
      "Generating for: synthetic_data/5_data_fields/hosp_10000x5.csv\n",
      "------------------------------\n"
     ]
    },
    {
     "name": "stderr",
     "output_type": "stream",
     "text": [
      "Creating report: 100%|████████████████████████████████████████████████████████████████████████████████████████████████████████████████████████████████████████████████████████████████████████████████████| 4/4 [00:34<00:00,  8.61s/it]\n"
     ]
    },
    {
     "name": "stdout",
     "output_type": "stream",
     "text": [
      "\n",
      "DiagnosticResults:\n",
      "\n",
      "SUCCESS:\n",
      "✓ The synthetic data covers over 90% of the numerical ranges present in the real data\n",
      "✓ Over 90% of the synthetic rows are not copies of the real data\n",
      "✓ The synthetic data follows over 90% of the min/max boundaries set by the real data\n",
      "\n",
      "WARNING:\n",
      "! The synthetic data is missing more than 10% of the categories present in the real data\n",
      "{'diagnostic_report': {'diagnostic_report_obj': <sdmetrics.reports.single_table.diagnostic_report.DiagnosticReport object at 0x1476503d0>,\n",
      "                       'diagnostic_report_time': 34.457128047943115},\n",
      " 'quality_report': None,\n",
      " 'sampling_time': 0.14510798454284668,\n",
      " 'training_time': 0.8101482391357422}\n",
      "{'METADATA_SPEC_VERSION': 'SINGLE_TABLE_V1',\n",
      " 'columns': {'Age': {'sdtype': 'numerical'},\n",
      "             'DateOfDiagnosis': {'sdtype': 'categorical'},\n",
      "             'Gender': {'sdtype': 'categorical'},\n",
      "             'NRIC': {'sdtype': 'categorical'},\n",
      "             'Name': {'sdtype': 'categorical'}}}\n",
      "##############################\n",
      "Generating for: synthetic_data/5_data_fields/hosp_50000x5.csv\n",
      "------------------------------\n"
     ]
    },
    {
     "name": "stderr",
     "output_type": "stream",
     "text": [
      "Creating report: 100%|████████████████████████████████████████████████████████████████████████████████████████████████████████████████████████████████████████████████████████████████████████████████████| 4/4 [01:02<00:00, 15.54s/it]\n"
     ]
    },
    {
     "name": "stdout",
     "output_type": "stream",
     "text": [
      "\n",
      "DiagnosticResults:\n",
      "\n",
      "SUCCESS:\n",
      "✓ The synthetic data covers over 90% of the numerical ranges present in the real data\n",
      "✓ Over 90% of the synthetic rows are not copies of the real data\n",
      "✓ The synthetic data follows over 90% of the min/max boundaries set by the real data\n",
      "\n",
      "WARNING:\n",
      "! The synthetic data is missing more than 10% of the categories present in the real data\n",
      "{'diagnostic_report': {'diagnostic_report_obj': <sdmetrics.reports.single_table.diagnostic_report.DiagnosticReport object at 0x144346a60>,\n",
      "                       'diagnostic_report_time': 62.185527086257935},\n",
      " 'quality_report': None,\n",
      " 'sampling_time': 0.4968688488006592,\n",
      " 'training_time': 3.0849459171295166}\n",
      "{'METADATA_SPEC_VERSION': 'SINGLE_TABLE_V1',\n",
      " 'columns': {'Age': {'sdtype': 'numerical'},\n",
      "             'DateOfDiagnosis': {'sdtype': 'categorical'},\n",
      "             'Gender': {'sdtype': 'categorical'},\n",
      "             'NRIC': {'sdtype': 'categorical'},\n",
      "             'Name': {'sdtype': 'categorical'}}}\n",
      "##############################\n",
      "Generating for: synthetic_data/5_data_fields/hosp_100000x5.csv\n",
      "------------------------------\n"
     ]
    },
    {
     "name": "stderr",
     "output_type": "stream",
     "text": [
      "Creating report: 100%|████████████████████████████████████████████████████████████████████████████████████████████████████████████████████████████████████████████████████████████████████████████████████| 4/4 [01:37<00:00, 24.43s/it]\n"
     ]
    },
    {
     "name": "stdout",
     "output_type": "stream",
     "text": [
      "\n",
      "DiagnosticResults:\n",
      "\n",
      "SUCCESS:\n",
      "✓ The synthetic data covers over 90% of the numerical ranges present in the real data\n",
      "✓ Over 90% of the synthetic rows are not copies of the real data\n",
      "✓ The synthetic data follows over 90% of the min/max boundaries set by the real data\n",
      "\n",
      "WARNING:\n",
      "! The synthetic data is missing more than 10% of the categories present in the real data\n",
      "{'diagnostic_report': {'diagnostic_report_obj': <sdmetrics.reports.single_table.diagnostic_report.DiagnosticReport object at 0x147696f40>,\n",
      "                       'diagnostic_report_time': 97.72226524353027},\n",
      " 'quality_report': None,\n",
      " 'sampling_time': 0.8451488018035889,\n",
      " 'training_time': 5.720771074295044}\n",
      "{'METADATA_SPEC_VERSION': 'SINGLE_TABLE_V1',\n",
      " 'columns': {'Age0': {'sdtype': 'numerical'},\n",
      "             'BMI0': {'sdtype': 'numerical'},\n",
      "             'BloodType0': {'sdtype': 'categorical'},\n",
      "             'DateOfDiagnosis0': {'sdtype': 'categorical'},\n",
      "             'Disease0': {'sdtype': 'categorical'},\n",
      "             'Gender0': {'sdtype': 'categorical'},\n",
      "             'NRIC0': {'sdtype': 'categorical'},\n",
      "             'Name0': {'sdtype': 'categorical'},\n",
      "             'Weight0': {'sdtype': 'numerical'},\n",
      "             'Zipcode0': {'sdtype': 'numerical'}}}\n",
      "##############################\n",
      "Generating for: synthetic_data/10_data_fields/hosp_1000x10.csv\n",
      "------------------------------\n"
     ]
    },
    {
     "name": "stderr",
     "output_type": "stream",
     "text": [
      "Creating report: 100%|████████████████████████████████████████████████████████████████████████████████████████████████████████████████████████████████████████████████████████████████████████████████████| 4/4 [00:05<00:00,  1.34s/it]\n"
     ]
    },
    {
     "name": "stdout",
     "output_type": "stream",
     "text": [
      "\n",
      "DiagnosticResults:\n",
      "\n",
      "SUCCESS:\n",
      "✓ The synthetic data covers over 90% of the numerical ranges present in the real data\n",
      "✓ Over 90% of the synthetic rows are not copies of the real data\n",
      "✓ The synthetic data follows over 90% of the min/max boundaries set by the real data\n",
      "\n",
      "WARNING:\n",
      "! The synthetic data is missing more than 10% of the categories present in the real data\n",
      "{'diagnostic_report': {'diagnostic_report_obj': <sdmetrics.reports.single_table.diagnostic_report.DiagnosticReport object at 0x146f42040>,\n",
      "                       'diagnostic_report_time': 5.35106897354126},\n",
      " 'quality_report': None,\n",
      " 'sampling_time': 0.07695269584655762,\n",
      " 'training_time': 0.8008823394775391}\n",
      "{'METADATA_SPEC_VERSION': 'SINGLE_TABLE_V1',\n",
      " 'columns': {'Age0': {'sdtype': 'numerical'},\n",
      "             'BMI0': {'sdtype': 'numerical'},\n",
      "             'BloodType0': {'sdtype': 'categorical'},\n",
      "             'DateOfDiagnosis0': {'sdtype': 'categorical'},\n",
      "             'Disease0': {'sdtype': 'categorical'},\n",
      "             'Gender0': {'sdtype': 'categorical'},\n",
      "             'NRIC0': {'sdtype': 'categorical'},\n",
      "             'Name0': {'sdtype': 'categorical'},\n",
      "             'Weight0': {'sdtype': 'numerical'},\n",
      "             'Zipcode0': {'sdtype': 'numerical'}}}\n",
      "##############################\n",
      "Generating for: synthetic_data/10_data_fields/hosp_10000x10.csv\n",
      "------------------------------\n"
     ]
    },
    {
     "name": "stderr",
     "output_type": "stream",
     "text": [
      "Creating report: 100%|████████████████████████████████████████████████████████████████████████████████████████████████████████████████████████████████████████████████████████████████████████████████████| 4/4 [00:59<00:00, 14.92s/it]\n"
     ]
    },
    {
     "name": "stdout",
     "output_type": "stream",
     "text": [
      "\n",
      "DiagnosticResults:\n",
      "\n",
      "SUCCESS:\n",
      "✓ The synthetic data covers over 90% of the numerical ranges present in the real data\n",
      "✓ Over 90% of the synthetic rows are not copies of the real data\n",
      "✓ The synthetic data follows over 90% of the min/max boundaries set by the real data\n",
      "\n",
      "WARNING:\n",
      "! The synthetic data is missing more than 10% of the categories present in the real data\n",
      "{'diagnostic_report': {'diagnostic_report_obj': <sdmetrics.reports.single_table.diagnostic_report.DiagnosticReport object at 0x146f57c40>,\n",
      "                       'diagnostic_report_time': 59.67865204811096},\n",
      " 'quality_report': None,\n",
      " 'sampling_time': 0.2223680019378662,\n",
      " 'training_time': 1.97564697265625}\n",
      "{'METADATA_SPEC_VERSION': 'SINGLE_TABLE_V1',\n",
      " 'columns': {'Age0': {'sdtype': 'numerical'},\n",
      "             'BMI0': {'sdtype': 'numerical'},\n",
      "             'BloodType0': {'sdtype': 'categorical'},\n",
      "             'DateOfDiagnosis0': {'sdtype': 'categorical'},\n",
      "             'Disease0': {'sdtype': 'categorical'},\n",
      "             'Gender0': {'sdtype': 'categorical'},\n",
      "             'NRIC0': {'sdtype': 'categorical'},\n",
      "             'Name0': {'sdtype': 'categorical'},\n",
      "             'Weight0': {'sdtype': 'numerical'},\n",
      "             'Zipcode0': {'sdtype': 'numerical'}}}\n",
      "##############################\n",
      "Generating for: synthetic_data/10_data_fields/hosp_50000x10.csv\n",
      "------------------------------\n"
     ]
    },
    {
     "name": "stderr",
     "output_type": "stream",
     "text": [
      "Creating report: 100%|████████████████████████████████████████████████████████████████████████████████████████████████████████████████████████████████████████████████████████████████████████████████████| 4/4 [01:42<00:00, 25.56s/it]\n"
     ]
    },
    {
     "name": "stdout",
     "output_type": "stream",
     "text": [
      "\n",
      "DiagnosticResults:\n",
      "\n",
      "SUCCESS:\n",
      "✓ The synthetic data covers over 90% of the numerical ranges present in the real data\n",
      "✓ Over 90% of the synthetic rows are not copies of the real data\n",
      "✓ The synthetic data follows over 90% of the min/max boundaries set by the real data\n",
      "\n",
      "WARNING:\n",
      "! The synthetic data is missing more than 10% of the categories present in the real data\n",
      "{'diagnostic_report': {'diagnostic_report_obj': <sdmetrics.reports.single_table.diagnostic_report.DiagnosticReport object at 0x147cae850>,\n",
      "                       'diagnostic_report_time': 102.24076700210571},\n",
      " 'quality_report': None,\n",
      " 'sampling_time': 0.8990569114685059,\n",
      " 'training_time': 6.716246128082275}\n",
      "{'METADATA_SPEC_VERSION': 'SINGLE_TABLE_V1',\n",
      " 'columns': {'Age0': {'sdtype': 'numerical'},\n",
      "             'BMI0': {'sdtype': 'numerical'},\n",
      "             'BloodType0': {'sdtype': 'categorical'},\n",
      "             'DateOfDiagnosis0': {'sdtype': 'categorical'},\n",
      "             'Disease0': {'sdtype': 'categorical'},\n",
      "             'Gender0': {'sdtype': 'categorical'},\n",
      "             'NRIC0': {'sdtype': 'categorical'},\n",
      "             'Name0': {'sdtype': 'categorical'},\n",
      "             'Weight0': {'sdtype': 'numerical'},\n",
      "             'Zipcode0': {'sdtype': 'numerical'}}}\n",
      "##############################\n",
      "Generating for: synthetic_data/10_data_fields/hosp_100000x10.csv\n",
      "------------------------------\n"
     ]
    },
    {
     "name": "stderr",
     "output_type": "stream",
     "text": [
      "Creating report: 100%|████████████████████████████████████████████████████████████████████████████████████████████████████████████████████████████████████████████████████████████████████████████████████| 4/4 [02:44<00:00, 41.06s/it]\n"
     ]
    },
    {
     "name": "stdout",
     "output_type": "stream",
     "text": [
      "\n",
      "DiagnosticResults:\n",
      "\n",
      "SUCCESS:\n",
      "✓ The synthetic data covers over 90% of the numerical ranges present in the real data\n",
      "✓ Over 90% of the synthetic rows are not copies of the real data\n",
      "✓ The synthetic data follows over 90% of the min/max boundaries set by the real data\n",
      "\n",
      "WARNING:\n",
      "! The synthetic data is missing more than 10% of the categories present in the real data\n",
      "{'diagnostic_report': {'diagnostic_report_obj': <sdmetrics.reports.single_table.diagnostic_report.DiagnosticReport object at 0x1476b3310>,\n",
      "                       'diagnostic_report_time': 164.26127314567566},\n",
      " 'quality_report': None,\n",
      " 'sampling_time': 1.610666036605835,\n",
      " 'training_time': 10.999433040618896}\n",
      "{'METADATA_SPEC_VERSION': 'SINGLE_TABLE_V1',\n",
      " 'columns': {'Age0': {'sdtype': 'numerical'},\n",
      "             'Age1': {'sdtype': 'numerical'},\n",
      "             'BMI0': {'sdtype': 'numerical'},\n",
      "             'BMI1': {'sdtype': 'numerical'},\n",
      "             'BloodType0': {'sdtype': 'categorical'},\n",
      "             'BloodType1': {'sdtype': 'categorical'},\n",
      "             'DateOfDiagnosis0': {'sdtype': 'categorical'},\n",
      "             'DateOfDiagnosis1': {'sdtype': 'categorical'},\n",
      "             'Disease0': {'sdtype': 'categorical'},\n",
      "             'Disease1': {'sdtype': 'categorical'},\n",
      "             'Gender0': {'sdtype': 'categorical'},\n",
      "             'Gender1': {'sdtype': 'categorical'},\n",
      "             'NRIC0': {'sdtype': 'categorical'},\n",
      "             'NRIC1': {'sdtype': 'categorical'},\n",
      "             'Name0': {'sdtype': 'categorical'},\n",
      "             'Name1': {'sdtype': 'categorical'},\n",
      "             'Weight0': {'sdtype': 'numerical'},\n",
      "             'Weight1': {'sdtype': 'numerical'},\n",
      "             'Zipcode0': {'sdtype': 'numerical'},\n",
      "             'Zipcode1': {'sdtype': 'numerical'}}}\n",
      "##############################\n",
      "Generating for: synthetic_data/20_data_fields/hosp_1000x20.csv\n",
      "------------------------------\n"
     ]
    },
    {
     "name": "stderr",
     "output_type": "stream",
     "text": [
      "Creating report: 100%|████████████████████████████████████████████████████████████████████████████████████████████████████████████████████████████████████████████████████████████████████████████████████| 4/4 [00:10<00:00,  2.57s/it]\n"
     ]
    },
    {
     "name": "stdout",
     "output_type": "stream",
     "text": [
      "\n",
      "DiagnosticResults:\n",
      "\n",
      "SUCCESS:\n",
      "✓ The synthetic data covers over 90% of the numerical ranges present in the real data\n",
      "✓ Over 90% of the synthetic rows are not copies of the real data\n",
      "✓ The synthetic data follows over 90% of the min/max boundaries set by the real data\n",
      "\n",
      "WARNING:\n",
      "! The synthetic data is missing more than 10% of the categories present in the real data\n",
      "{'diagnostic_report': {'diagnostic_report_obj': <sdmetrics.reports.single_table.diagnostic_report.DiagnosticReport object at 0x1476b39d0>,\n",
      "                       'diagnostic_report_time': 10.286925792694092},\n",
      " 'quality_report': None,\n",
      " 'sampling_time': 0.13703012466430664,\n",
      " 'training_time': 1.6411948204040527}\n",
      "{'METADATA_SPEC_VERSION': 'SINGLE_TABLE_V1',\n",
      " 'columns': {'Age0': {'sdtype': 'numerical'},\n",
      "             'Age1': {'sdtype': 'numerical'},\n",
      "             'BMI0': {'sdtype': 'numerical'},\n",
      "             'BMI1': {'sdtype': 'numerical'},\n",
      "             'BloodType0': {'sdtype': 'categorical'},\n",
      "             'BloodType1': {'sdtype': 'categorical'},\n",
      "             'DateOfDiagnosis0': {'sdtype': 'categorical'},\n",
      "             'DateOfDiagnosis1': {'sdtype': 'categorical'},\n",
      "             'Disease0': {'sdtype': 'categorical'},\n",
      "             'Disease1': {'sdtype': 'categorical'},\n",
      "             'Gender0': {'sdtype': 'categorical'},\n",
      "             'Gender1': {'sdtype': 'categorical'},\n",
      "             'NRIC0': {'sdtype': 'categorical'},\n",
      "             'NRIC1': {'sdtype': 'categorical'},\n",
      "             'Name0': {'sdtype': 'categorical'},\n",
      "             'Name1': {'sdtype': 'categorical'},\n",
      "             'Weight0': {'sdtype': 'numerical'},\n",
      "             'Weight1': {'sdtype': 'numerical'},\n",
      "             'Zipcode0': {'sdtype': 'numerical'},\n",
      "             'Zipcode1': {'sdtype': 'numerical'}}}\n",
      "##############################\n",
      "Generating for: synthetic_data/20_data_fields/hosp_10000x20.csv\n",
      "------------------------------\n"
     ]
    },
    {
     "name": "stderr",
     "output_type": "stream",
     "text": [
      "Creating report: 100%|████████████████████████████████████████████████████████████████████████████████████████████████████████████████████████████████████████████████████████████████████████████████████| 4/4 [02:03<00:00, 30.84s/it]\n"
     ]
    },
    {
     "name": "stdout",
     "output_type": "stream",
     "text": [
      "\n",
      "DiagnosticResults:\n",
      "\n",
      "SUCCESS:\n",
      "✓ The synthetic data covers over 90% of the numerical ranges present in the real data\n",
      "✓ Over 90% of the synthetic rows are not copies of the real data\n",
      "✓ The synthetic data follows over 90% of the min/max boundaries set by the real data\n",
      "\n",
      "WARNING:\n",
      "! The synthetic data is missing more than 10% of the categories present in the real data\n",
      "{'diagnostic_report': {'diagnostic_report_obj': <sdmetrics.reports.single_table.diagnostic_report.DiagnosticReport object at 0x147c92eb0>,\n",
      "                       'diagnostic_report_time': 123.34596610069275},\n",
      " 'quality_report': None,\n",
      " 'sampling_time': 0.3784189224243164,\n",
      " 'training_time': 3.7650418281555176}\n",
      "{'METADATA_SPEC_VERSION': 'SINGLE_TABLE_V1',\n",
      " 'columns': {'Age0': {'sdtype': 'numerical'},\n",
      "             'Age1': {'sdtype': 'numerical'},\n",
      "             'BMI0': {'sdtype': 'numerical'},\n",
      "             'BMI1': {'sdtype': 'numerical'},\n",
      "             'BloodType0': {'sdtype': 'categorical'},\n",
      "             'BloodType1': {'sdtype': 'categorical'},\n",
      "             'DateOfDiagnosis0': {'sdtype': 'categorical'},\n",
      "             'DateOfDiagnosis1': {'sdtype': 'categorical'},\n",
      "             'Disease0': {'sdtype': 'categorical'},\n",
      "             'Disease1': {'sdtype': 'categorical'},\n",
      "             'Gender0': {'sdtype': 'categorical'},\n",
      "             'Gender1': {'sdtype': 'categorical'},\n",
      "             'NRIC0': {'sdtype': 'categorical'},\n",
      "             'NRIC1': {'sdtype': 'categorical'},\n",
      "             'Name0': {'sdtype': 'categorical'},\n",
      "             'Name1': {'sdtype': 'categorical'},\n",
      "             'Weight0': {'sdtype': 'numerical'},\n",
      "             'Weight1': {'sdtype': 'numerical'},\n",
      "             'Zipcode0': {'sdtype': 'numerical'},\n",
      "             'Zipcode1': {'sdtype': 'numerical'}}}\n",
      "##############################\n",
      "Generating for: synthetic_data/20_data_fields/hosp_50000x20.csv\n",
      "------------------------------\n"
     ]
    },
    {
     "name": "stderr",
     "output_type": "stream",
     "text": [
      "Creating report: 100%|████████████████████████████████████████████████████████████████████████████████████████████████████████████████████████████████████████████████████████████████████████████████████| 4/4 [03:41<00:00, 55.47s/it]\n"
     ]
    },
    {
     "name": "stdout",
     "output_type": "stream",
     "text": [
      "\n",
      "DiagnosticResults:\n",
      "\n",
      "SUCCESS:\n",
      "✓ The synthetic data covers over 90% of the numerical ranges present in the real data\n",
      "✓ Over 90% of the synthetic rows are not copies of the real data\n",
      "✓ The synthetic data follows over 90% of the min/max boundaries set by the real data\n",
      "\n",
      "WARNING:\n",
      "! The synthetic data is missing more than 10% of the categories present in the real data\n",
      "{'diagnostic_report': {'diagnostic_report_obj': <sdmetrics.reports.single_table.diagnostic_report.DiagnosticReport object at 0x1476b1070>,\n",
      "                       'diagnostic_report_time': 221.89803791046143},\n",
      " 'quality_report': None,\n",
      " 'sampling_time': 1.8327300548553467,\n",
      " 'training_time': 13.411086797714233}\n",
      "{'METADATA_SPEC_VERSION': 'SINGLE_TABLE_V1',\n",
      " 'columns': {'Age0': {'sdtype': 'numerical'},\n",
      "             'Age1': {'sdtype': 'numerical'},\n",
      "             'BMI0': {'sdtype': 'numerical'},\n",
      "             'BMI1': {'sdtype': 'numerical'},\n",
      "             'BloodType0': {'sdtype': 'categorical'},\n",
      "             'BloodType1': {'sdtype': 'categorical'},\n",
      "             'DateOfDiagnosis0': {'sdtype': 'categorical'},\n",
      "             'DateOfDiagnosis1': {'sdtype': 'categorical'},\n",
      "             'Disease0': {'sdtype': 'categorical'},\n",
      "             'Disease1': {'sdtype': 'categorical'},\n",
      "             'Gender0': {'sdtype': 'categorical'},\n",
      "             'Gender1': {'sdtype': 'categorical'},\n",
      "             'NRIC0': {'sdtype': 'categorical'},\n",
      "             'NRIC1': {'sdtype': 'categorical'},\n",
      "             'Name0': {'sdtype': 'categorical'},\n",
      "             'Name1': {'sdtype': 'categorical'},\n",
      "             'Weight0': {'sdtype': 'numerical'},\n",
      "             'Weight1': {'sdtype': 'numerical'},\n",
      "             'Zipcode0': {'sdtype': 'numerical'},\n",
      "             'Zipcode1': {'sdtype': 'numerical'}}}\n",
      "##############################\n",
      "Generating for: synthetic_data/20_data_fields/hosp_100000x20.csv\n",
      "------------------------------\n"
     ]
    },
    {
     "name": "stderr",
     "output_type": "stream",
     "text": [
      "Creating report: 100%|████████████████████████████████████████████████████████████████████████████████████████████████████████████████████████████████████████████████████████████████████████████████████| 4/4 [05:37<00:00, 84.35s/it]"
     ]
    },
    {
     "name": "stdout",
     "output_type": "stream",
     "text": [
      "\n",
      "DiagnosticResults:\n",
      "\n",
      "SUCCESS:\n",
      "✓ The synthetic data covers over 90% of the numerical ranges present in the real data\n",
      "✓ Over 90% of the synthetic rows are not copies of the real data\n",
      "✓ The synthetic data follows over 90% of the min/max boundaries set by the real data\n",
      "\n",
      "WARNING:\n",
      "! The synthetic data is missing more than 10% of the categories present in the real data\n",
      "{'diagnostic_report': {'diagnostic_report_obj': <sdmetrics.reports.single_table.diagnostic_report.DiagnosticReport object at 0x145f0e9d0>,\n",
      "                       'diagnostic_report_time': 337.39805579185486},\n",
      " 'quality_report': None,\n",
      " 'sampling_time': 3.803658962249756,\n",
      " 'training_time': 26.336549758911133}\n"
     ]
    },
    {
     "name": "stderr",
     "output_type": "stream",
     "text": [
      "\n"
     ]
    }
   ],
   "source": [
    "for c in str_num_columns:\n",
    "    for r in str_num_rows:        \n",
    "        file_name = BASE_MOCK_HOSP_PATH + f\"/{c}_data_fields/hosp_{r}x{c}.csv\"\n",
    "            \n",
    "        hosp_df = pd.read_csv(file_name)\n",
    "        hosp_metadata = detect_metadata(hosp_df)\n",
    "        \n",
    "        synthesizer = evaluate_synthesizer(hosp_metadata, enforce_min_max_values=True, enforce_rounding=False)\n",
    "\n",
    "        print(\"#\"*30)\n",
    "        print(f\"Generating for: {file_name}\")\n",
    "        print(\"-\"*30)\n",
    "        pprint(get_model_time_score(synthesizer, hosp_metadata, hosp_df, samples=hosp_df.shape[0]))"
   ]
  },
  {
   "cell_type": "markdown",
   "id": "dbcfa6ee-3fcb-4ccb-875a-f249dcddde7e",
   "metadata": {},
   "source": [
    "### 1.3. Real-world data"
   ]
  },
  {
   "cell_type": "code",
   "execution_count": 56,
   "id": "b4795bdc-41f8-4502-ac92-ab5fa2ca9f34",
   "metadata": {},
   "outputs": [],
   "source": [
    "# for file_name in REAL_DATA_LIST:\n",
    "#     real_df = pd.read_csv(file_name)\n",
    "#     real_metadata = detect_metadata(real_df)\n",
    "    \n",
    "#     synthesizer = evaluate_synthesizer(real_metadata)\n",
    "\n",
    "#     print(\"#\"*30)\n",
    "#     print(f\"Generating for: {file_name} {real_df.shape}\")\n",
    "#     print(get_model_time_score(synthesizer, real_metadata, real_df, samples=real_df.shape[0]))\n",
    "#     print(\"#\"*30)"
   ]
  },
  {
   "cell_type": "markdown",
   "id": "71c792e7-b03a-4233-84d6-6b7f4947fa77",
   "metadata": {},
   "source": [
    "# 2. CTGAN Model"
   ]
  },
  {
   "cell_type": "code",
   "execution_count": 17,
   "id": "9f7aa2bd-5184-4b3d-9a19-6efdf0280cf0",
   "metadata": {},
   "outputs": [],
   "source": [
    "evaluate_synthesizer = CTGANSynthesizer"
   ]
  },
  {
   "cell_type": "markdown",
   "id": "5c350807-882c-4f5e-990a-654da0b6ff59",
   "metadata": {},
   "source": [
    "### 2.1. Mock SDV-demo Data"
   ]
  },
  {
   "cell_type": "code",
   "execution_count": 18,
   "id": "dc74a70a-6d73-4461-9ddc-894026fd1c22",
   "metadata": {},
   "outputs": [
    {
     "name": "stdout",
     "output_type": "stream",
     "text": [
      "{\n",
      "    \"columns\": {\n",
      "        \"guest_email\": {\n",
      "            \"sdtype\": \"email\",\n",
      "            \"pii\": true\n",
      "        },\n",
      "        \"has_rewards\": {\n",
      "            \"sdtype\": \"boolean\"\n",
      "        },\n",
      "        \"room_type\": {\n",
      "            \"sdtype\": \"categorical\"\n",
      "        },\n",
      "        \"amenities_fee\": {\n",
      "            \"sdtype\": \"numerical\",\n",
      "            \"computer_representation\": \"Float\"\n",
      "        },\n",
      "        \"checkin_date\": {\n",
      "            \"sdtype\": \"datetime\",\n",
      "            \"datetime_format\": \"%d %b %Y\"\n",
      "        },\n",
      "        \"checkout_date\": {\n",
      "            \"sdtype\": \"datetime\",\n",
      "            \"datetime_format\": \"%d %b %Y\"\n",
      "        },\n",
      "        \"room_rate\": {\n",
      "            \"sdtype\": \"numerical\",\n",
      "            \"computer_representation\": \"Float\"\n",
      "        },\n",
      "        \"billing_address\": {\n",
      "            \"sdtype\": \"address\",\n",
      "            \"pii\": true\n",
      "        },\n",
      "        \"credit_card_number\": {\n",
      "            \"sdtype\": \"credit_card_number\",\n",
      "            \"pii\": true\n",
      "        }\n",
      "    },\n",
      "    \"primary_key\": \"guest_email\",\n",
      "    \"METADATA_SPEC_VERSION\": \"SINGLE_TABLE_V1\"\n",
      "}\n"
     ]
    },
    {
     "name": "stderr",
     "output_type": "stream",
     "text": [
      "Creating report: 100%|████████████████████████████████████████████████████████████████████████████████████████████████████████████████████████████████████████████████████████████████████████████████████| 4/4 [00:01<00:00,  2.06it/s]"
     ]
    },
    {
     "name": "stdout",
     "output_type": "stream",
     "text": [
      "\n",
      "DiagnosticResults:\n",
      "\n",
      "SUCCESS:\n",
      "✓ The synthetic data covers over 90% of the numerical ranges present in the real data\n",
      "✓ The synthetic data covers over 90% of the categories present in the real data\n",
      "✓ Over 90% of the synthetic rows are not copies of the real data\n",
      "\n",
      "WARNING:\n",
      "! More than 10% the synthetic data does not follow the min/max boundaries set by the real data\n",
      "{'diagnostic_report': {'diagnostic_report_obj': <sdmetrics.reports.single_table.diagnostic_report.DiagnosticReport object at 0x14769bee0>,\n",
      "                       'diagnostic_report_time': 1.9457759857177734},\n",
      " 'quality_report': None,\n",
      " 'sampling_time': 0.3443422317504883,\n",
      " 'training_time': 66.81222605705261}\n"
     ]
    },
    {
     "name": "stderr",
     "output_type": "stream",
     "text": [
      "\n"
     ]
    }
   ],
   "source": [
    "demo_data, demo_metadata = download_demo(\n",
    "    modality='single_table',\n",
    "    dataset_name='fake_hotel_guests'\n",
    ")\n",
    "\n",
    "pprint(demo_metadata)\n",
    "synthesizer = evaluate_synthesizer(demo_metadata, enforce_min_max_values=True, enforce_rounding=False)\n",
    "\n",
    "pprint(get_model_time_score(synthesizer, demo_metadata, demo_data, 500))"
   ]
  },
  {
   "cell_type": "markdown",
   "id": "5f9575b4-7d1d-4be4-8b76-14531ebee7f6",
   "metadata": {},
   "source": [
    "### 2.2. Mock hospital data "
   ]
  },
  {
   "cell_type": "code",
   "execution_count": 19,
   "id": "dedd9fa0-9be3-4532-be39-859fe771c7d6",
   "metadata": {},
   "outputs": [
    {
     "name": "stdout",
     "output_type": "stream",
     "text": [
      "{'METADATA_SPEC_VERSION': 'SINGLE_TABLE_V1',\n",
      " 'columns': {'Age': {'sdtype': 'numerical'},\n",
      "             'DateOfDiagnosis': {'sdtype': 'categorical'},\n",
      "             'Gender': {'sdtype': 'categorical'},\n",
      "             'NRIC': {'sdtype': 'categorical'},\n",
      "             'Name': {'sdtype': 'categorical'}}}\n",
      "##############################\n",
      "Generating for: synthetic_data/5_data_fields/hosp_1000x5.csv\n",
      "------------------------------\n"
     ]
    },
    {
     "name": "stderr",
     "output_type": "stream",
     "text": [
      "Creating report: 100%|████████████████████████████████████████████████████████████████████████████████████████████████████████████████████████████████████████████████████████████████████████████████████| 4/4 [00:02<00:00,  1.47it/s]\n"
     ]
    },
    {
     "name": "stdout",
     "output_type": "stream",
     "text": [
      "\n",
      "DiagnosticResults:\n",
      "\n",
      "SUCCESS:\n",
      "✓ The synthetic data covers over 90% of the numerical ranges present in the real data\n",
      "✓ Over 90% of the synthetic rows are not copies of the real data\n",
      "✓ The synthetic data follows over 90% of the min/max boundaries set by the real data\n",
      "\n",
      "WARNING:\n",
      "! The synthetic data is missing more than 10% of the categories present in the real data\n",
      "{'diagnostic_report': {'diagnostic_report_obj': <sdmetrics.reports.single_table.diagnostic_report.DiagnosticReport object at 0x1458b7fd0>,\n",
      "                       'diagnostic_report_time': 2.733616828918457},\n",
      " 'quality_report': None,\n",
      " 'sampling_time': 0.26647305488586426,\n",
      " 'training_time': 556.220388174057}\n",
      "{'METADATA_SPEC_VERSION': 'SINGLE_TABLE_V1',\n",
      " 'columns': {'Age': {'sdtype': 'numerical'},\n",
      "             'DateOfDiagnosis': {'sdtype': 'categorical'},\n",
      "             'Gender': {'sdtype': 'categorical'},\n",
      "             'NRIC': {'sdtype': 'categorical'},\n",
      "             'Name': {'sdtype': 'categorical'}}}\n",
      "##############################\n",
      "Generating for: synthetic_data/5_data_fields/hosp_10000x5.csv\n",
      "------------------------------\n"
     ]
    },
    {
     "ename": "KeyboardInterrupt",
     "evalue": "",
     "output_type": "error",
     "traceback": [
      "\u001b[0;31m---------------------------------------------------------------------------\u001b[0m",
      "\u001b[0;31mKeyboardInterrupt\u001b[0m                         Traceback (most recent call last)",
      "Input \u001b[0;32mIn [19]\u001b[0m, in \u001b[0;36m<cell line: 1>\u001b[0;34m()\u001b[0m\n\u001b[1;32m     10\u001b[0m \u001b[38;5;28mprint\u001b[39m(\u001b[38;5;124mf\u001b[39m\u001b[38;5;124m\"\u001b[39m\u001b[38;5;124mGenerating for: \u001b[39m\u001b[38;5;132;01m{\u001b[39;00mfile_name\u001b[38;5;132;01m}\u001b[39;00m\u001b[38;5;124m\"\u001b[39m)\n\u001b[1;32m     11\u001b[0m \u001b[38;5;28mprint\u001b[39m(\u001b[38;5;124m\"\u001b[39m\u001b[38;5;124m-\u001b[39m\u001b[38;5;124m\"\u001b[39m\u001b[38;5;241m*\u001b[39m\u001b[38;5;241m30\u001b[39m)\n\u001b[0;32m---> 12\u001b[0m pprint(\u001b[43mget_model_time_score\u001b[49m\u001b[43m(\u001b[49m\u001b[43msynthesizer\u001b[49m\u001b[43m,\u001b[49m\u001b[43m \u001b[49m\u001b[43mhosp_metadata\u001b[49m\u001b[43m,\u001b[49m\u001b[43m \u001b[49m\u001b[43mhosp_df\u001b[49m\u001b[43m,\u001b[49m\u001b[43m \u001b[49m\u001b[43msamples\u001b[49m\u001b[38;5;241;43m=\u001b[39;49m\u001b[43mhosp_df\u001b[49m\u001b[38;5;241;43m.\u001b[39;49m\u001b[43mshape\u001b[49m\u001b[43m[\u001b[49m\u001b[38;5;241;43m0\u001b[39;49m\u001b[43m]\u001b[49m\u001b[43m)\u001b[49m)\n",
      "Input \u001b[0;32mIn [15]\u001b[0m, in \u001b[0;36mget_model_time_score\u001b[0;34m(synthesizer, metadata, real_data, samples, gen_quality_report, gen_diagnostic_report)\u001b[0m\n\u001b[1;32m      1\u001b[0m \u001b[38;5;28;01mdef\u001b[39;00m \u001b[38;5;21mget_model_time_score\u001b[39m(synthesizer, metadata, real_data, samples\u001b[38;5;241m=\u001b[39m\u001b[38;5;241m500\u001b[39m, gen_quality_report\u001b[38;5;241m=\u001b[39m\u001b[38;5;28;01mFalse\u001b[39;00m, gen_diagnostic_report\u001b[38;5;241m=\u001b[39m\u001b[38;5;28;01mTrue\u001b[39;00m): \n\u001b[1;32m      2\u001b[0m     \n\u001b[1;32m      3\u001b[0m     \u001b[38;5;66;03m# ---------------------\u001b[39;00m\n\u001b[1;32m      4\u001b[0m     \u001b[38;5;66;03m# Step 1: Train\u001b[39;00m\n\u001b[1;32m      5\u001b[0m     \u001b[38;5;66;03m# ---------------------\u001b[39;00m\n\u001b[1;32m      6\u001b[0m     begin_time \u001b[38;5;241m=\u001b[39m time\u001b[38;5;241m.\u001b[39mtime()\n\u001b[0;32m----> 7\u001b[0m     \u001b[43msynthesizer\u001b[49m\u001b[38;5;241;43m.\u001b[39;49m\u001b[43mfit\u001b[49m\u001b[43m(\u001b[49m\u001b[43mreal_data\u001b[49m\u001b[43m)\u001b[49m\n\u001b[1;32m      8\u001b[0m     end_time \u001b[38;5;241m=\u001b[39m time\u001b[38;5;241m.\u001b[39mtime()\n\u001b[1;32m     10\u001b[0m     training_time \u001b[38;5;241m=\u001b[39m end_time \u001b[38;5;241m-\u001b[39m begin_time\n",
      "File \u001b[0;32m~/.pyenv/versions/3.8.11/lib/python3.8/site-packages/sdv/single_table/base.py:457\u001b[0m, in \u001b[0;36mBaseSynthesizer.fit\u001b[0;34m(self, data)\u001b[0m\n\u001b[1;32m    455\u001b[0m \u001b[38;5;28mself\u001b[39m\u001b[38;5;241m.\u001b[39m_random_state_set \u001b[38;5;241m=\u001b[39m \u001b[38;5;28;01mFalse\u001b[39;00m\n\u001b[1;32m    456\u001b[0m processed_data \u001b[38;5;241m=\u001b[39m \u001b[38;5;28mself\u001b[39m\u001b[38;5;241m.\u001b[39m_preprocess(data)\n\u001b[0;32m--> 457\u001b[0m \u001b[38;5;28;43mself\u001b[39;49m\u001b[38;5;241;43m.\u001b[39;49m\u001b[43mfit_processed_data\u001b[49m\u001b[43m(\u001b[49m\u001b[43mprocessed_data\u001b[49m\u001b[43m)\u001b[49m\n",
      "File \u001b[0;32m~/.pyenv/versions/3.8.11/lib/python3.8/site-packages/sdv/single_table/base.py:441\u001b[0m, in \u001b[0;36mBaseSynthesizer.fit_processed_data\u001b[0;34m(self, processed_data)\u001b[0m\n\u001b[1;32m    434\u001b[0m \u001b[38;5;28;01mdef\u001b[39;00m \u001b[38;5;21mfit_processed_data\u001b[39m(\u001b[38;5;28mself\u001b[39m, processed_data):\n\u001b[1;32m    435\u001b[0m     \u001b[38;5;124;03m\"\"\"Fit this model to the transformed data.\u001b[39;00m\n\u001b[1;32m    436\u001b[0m \n\u001b[1;32m    437\u001b[0m \u001b[38;5;124;03m    Args:\u001b[39;00m\n\u001b[1;32m    438\u001b[0m \u001b[38;5;124;03m        processed_data (pandas.DataFrame):\u001b[39;00m\n\u001b[1;32m    439\u001b[0m \u001b[38;5;124;03m            The transformed data used to fit the model to.\u001b[39;00m\n\u001b[1;32m    440\u001b[0m \u001b[38;5;124;03m    \"\"\"\u001b[39;00m\n\u001b[0;32m--> 441\u001b[0m     \u001b[38;5;28;43mself\u001b[39;49m\u001b[38;5;241;43m.\u001b[39;49m\u001b[43m_fit\u001b[49m\u001b[43m(\u001b[49m\u001b[43mprocessed_data\u001b[49m\u001b[43m)\u001b[49m\n\u001b[1;32m    442\u001b[0m     \u001b[38;5;28mself\u001b[39m\u001b[38;5;241m.\u001b[39m_fitted \u001b[38;5;241m=\u001b[39m \u001b[38;5;28;01mTrue\u001b[39;00m\n\u001b[1;32m    443\u001b[0m     \u001b[38;5;28mself\u001b[39m\u001b[38;5;241m.\u001b[39m_fitted_date \u001b[38;5;241m=\u001b[39m datetime\u001b[38;5;241m.\u001b[39mdatetime\u001b[38;5;241m.\u001b[39mtoday()\u001b[38;5;241m.\u001b[39mstrftime(\u001b[38;5;124m'\u001b[39m\u001b[38;5;124m%\u001b[39m\u001b[38;5;124mY-\u001b[39m\u001b[38;5;124m%\u001b[39m\u001b[38;5;124mm-\u001b[39m\u001b[38;5;132;01m%d\u001b[39;00m\u001b[38;5;124m'\u001b[39m)\n",
      "File \u001b[0;32m~/.pyenv/versions/3.8.11/lib/python3.8/site-packages/sdv/single_table/ctgan.py:114\u001b[0m, in \u001b[0;36mCTGANSynthesizer._fit\u001b[0;34m(self, processed_data)\u001b[0m\n\u001b[1;32m    112\u001b[0m discrete_columns \u001b[38;5;241m=\u001b[39m detect_discrete_columns(\u001b[38;5;28mself\u001b[39m\u001b[38;5;241m.\u001b[39mget_metadata(), processed_data)\n\u001b[1;32m    113\u001b[0m \u001b[38;5;28mself\u001b[39m\u001b[38;5;241m.\u001b[39m_model \u001b[38;5;241m=\u001b[39m CTGAN(\u001b[38;5;241m*\u001b[39m\u001b[38;5;241m*\u001b[39m\u001b[38;5;28mself\u001b[39m\u001b[38;5;241m.\u001b[39m_model_kwargs)\n\u001b[0;32m--> 114\u001b[0m \u001b[38;5;28;43mself\u001b[39;49m\u001b[38;5;241;43m.\u001b[39;49m\u001b[43m_model\u001b[49m\u001b[38;5;241;43m.\u001b[39;49m\u001b[43mfit\u001b[49m\u001b[43m(\u001b[49m\u001b[43mprocessed_data\u001b[49m\u001b[43m,\u001b[49m\u001b[43m \u001b[49m\u001b[43mdiscrete_columns\u001b[49m\u001b[38;5;241;43m=\u001b[39;49m\u001b[43mdiscrete_columns\u001b[49m\u001b[43m)\u001b[49m\n",
      "File \u001b[0;32m~/.pyenv/versions/3.8.11/lib/python3.8/site-packages/ctgan/synthesizers/base.py:50\u001b[0m, in \u001b[0;36mrandom_state.<locals>.wrapper\u001b[0;34m(self, *args, **kwargs)\u001b[0m\n\u001b[1;32m     48\u001b[0m \u001b[38;5;28;01mdef\u001b[39;00m \u001b[38;5;21mwrapper\u001b[39m(\u001b[38;5;28mself\u001b[39m, \u001b[38;5;241m*\u001b[39margs, \u001b[38;5;241m*\u001b[39m\u001b[38;5;241m*\u001b[39mkwargs):\n\u001b[1;32m     49\u001b[0m     \u001b[38;5;28;01mif\u001b[39;00m \u001b[38;5;28mself\u001b[39m\u001b[38;5;241m.\u001b[39mrandom_states \u001b[38;5;129;01mis\u001b[39;00m \u001b[38;5;28;01mNone\u001b[39;00m:\n\u001b[0;32m---> 50\u001b[0m         \u001b[38;5;28;01mreturn\u001b[39;00m \u001b[43mfunction\u001b[49m\u001b[43m(\u001b[49m\u001b[38;5;28;43mself\u001b[39;49m\u001b[43m,\u001b[49m\u001b[43m \u001b[49m\u001b[38;5;241;43m*\u001b[39;49m\u001b[43margs\u001b[49m\u001b[43m,\u001b[49m\u001b[43m \u001b[49m\u001b[38;5;241;43m*\u001b[39;49m\u001b[38;5;241;43m*\u001b[39;49m\u001b[43mkwargs\u001b[49m\u001b[43m)\u001b[49m\n\u001b[1;32m     52\u001b[0m     \u001b[38;5;28;01melse\u001b[39;00m:\n\u001b[1;32m     53\u001b[0m         \u001b[38;5;28;01mwith\u001b[39;00m set_random_states(\u001b[38;5;28mself\u001b[39m\u001b[38;5;241m.\u001b[39mrandom_states, \u001b[38;5;28mself\u001b[39m\u001b[38;5;241m.\u001b[39mset_random_state):\n",
      "File \u001b[0;32m~/.pyenv/versions/3.8.11/lib/python3.8/site-packages/ctgan/synthesizers/ctgan.py:385\u001b[0m, in \u001b[0;36mCTGAN.fit\u001b[0;34m(self, train_data, discrete_columns, epochs)\u001b[0m\n\u001b[1;32m    382\u001b[0m loss_d \u001b[38;5;241m=\u001b[39m \u001b[38;5;241m-\u001b[39m(torch\u001b[38;5;241m.\u001b[39mmean(y_real) \u001b[38;5;241m-\u001b[39m torch\u001b[38;5;241m.\u001b[39mmean(y_fake))\n\u001b[1;32m    384\u001b[0m optimizerD\u001b[38;5;241m.\u001b[39mzero_grad()\n\u001b[0;32m--> 385\u001b[0m \u001b[43mpen\u001b[49m\u001b[38;5;241;43m.\u001b[39;49m\u001b[43mbackward\u001b[49m\u001b[43m(\u001b[49m\u001b[43mretain_graph\u001b[49m\u001b[38;5;241;43m=\u001b[39;49m\u001b[38;5;28;43;01mTrue\u001b[39;49;00m\u001b[43m)\u001b[49m\n\u001b[1;32m    386\u001b[0m loss_d\u001b[38;5;241m.\u001b[39mbackward()\n\u001b[1;32m    387\u001b[0m optimizerD\u001b[38;5;241m.\u001b[39mstep()\n",
      "File \u001b[0;32m~/.pyenv/versions/3.8.11/lib/python3.8/site-packages/torch/_tensor.py:396\u001b[0m, in \u001b[0;36mTensor.backward\u001b[0;34m(self, gradient, retain_graph, create_graph, inputs)\u001b[0m\n\u001b[1;32m    387\u001b[0m \u001b[38;5;28;01mif\u001b[39;00m has_torch_function_unary(\u001b[38;5;28mself\u001b[39m):\n\u001b[1;32m    388\u001b[0m     \u001b[38;5;28;01mreturn\u001b[39;00m handle_torch_function(\n\u001b[1;32m    389\u001b[0m         Tensor\u001b[38;5;241m.\u001b[39mbackward,\n\u001b[1;32m    390\u001b[0m         (\u001b[38;5;28mself\u001b[39m,),\n\u001b[0;32m   (...)\u001b[0m\n\u001b[1;32m    394\u001b[0m         create_graph\u001b[38;5;241m=\u001b[39mcreate_graph,\n\u001b[1;32m    395\u001b[0m         inputs\u001b[38;5;241m=\u001b[39minputs)\n\u001b[0;32m--> 396\u001b[0m \u001b[43mtorch\u001b[49m\u001b[38;5;241;43m.\u001b[39;49m\u001b[43mautograd\u001b[49m\u001b[38;5;241;43m.\u001b[39;49m\u001b[43mbackward\u001b[49m\u001b[43m(\u001b[49m\u001b[38;5;28;43mself\u001b[39;49m\u001b[43m,\u001b[49m\u001b[43m \u001b[49m\u001b[43mgradient\u001b[49m\u001b[43m,\u001b[49m\u001b[43m \u001b[49m\u001b[43mretain_graph\u001b[49m\u001b[43m,\u001b[49m\u001b[43m \u001b[49m\u001b[43mcreate_graph\u001b[49m\u001b[43m,\u001b[49m\u001b[43m \u001b[49m\u001b[43minputs\u001b[49m\u001b[38;5;241;43m=\u001b[39;49m\u001b[43minputs\u001b[49m\u001b[43m)\u001b[49m\n",
      "File \u001b[0;32m~/.pyenv/versions/3.8.11/lib/python3.8/site-packages/torch/autograd/__init__.py:173\u001b[0m, in \u001b[0;36mbackward\u001b[0;34m(tensors, grad_tensors, retain_graph, create_graph, grad_variables, inputs)\u001b[0m\n\u001b[1;32m    168\u001b[0m     retain_graph \u001b[38;5;241m=\u001b[39m create_graph\n\u001b[1;32m    170\u001b[0m \u001b[38;5;66;03m# The reason we repeat same the comment below is that\u001b[39;00m\n\u001b[1;32m    171\u001b[0m \u001b[38;5;66;03m# some Python versions print out the first line of a multi-line function\u001b[39;00m\n\u001b[1;32m    172\u001b[0m \u001b[38;5;66;03m# calls in the traceback and some print out the last line\u001b[39;00m\n\u001b[0;32m--> 173\u001b[0m \u001b[43mVariable\u001b[49m\u001b[38;5;241;43m.\u001b[39;49m\u001b[43m_execution_engine\u001b[49m\u001b[38;5;241;43m.\u001b[39;49m\u001b[43mrun_backward\u001b[49m\u001b[43m(\u001b[49m\u001b[43m  \u001b[49m\u001b[38;5;66;43;03m# Calls into the C++ engine to run the backward pass\u001b[39;49;00m\n\u001b[1;32m    174\u001b[0m \u001b[43m    \u001b[49m\u001b[43mtensors\u001b[49m\u001b[43m,\u001b[49m\u001b[43m \u001b[49m\u001b[43mgrad_tensors_\u001b[49m\u001b[43m,\u001b[49m\u001b[43m \u001b[49m\u001b[43mretain_graph\u001b[49m\u001b[43m,\u001b[49m\u001b[43m \u001b[49m\u001b[43mcreate_graph\u001b[49m\u001b[43m,\u001b[49m\u001b[43m \u001b[49m\u001b[43minputs\u001b[49m\u001b[43m,\u001b[49m\n\u001b[1;32m    175\u001b[0m \u001b[43m    \u001b[49m\u001b[43mallow_unreachable\u001b[49m\u001b[38;5;241;43m=\u001b[39;49m\u001b[38;5;28;43;01mTrue\u001b[39;49;00m\u001b[43m,\u001b[49m\u001b[43m \u001b[49m\u001b[43maccumulate_grad\u001b[49m\u001b[38;5;241;43m=\u001b[39;49m\u001b[38;5;28;43;01mTrue\u001b[39;49;00m\u001b[43m)\u001b[49m\n",
      "\u001b[0;31mKeyboardInterrupt\u001b[0m: "
     ]
    }
   ],
   "source": [
    "for c in str_num_columns:\n",
    "    for r in [1000, 10000]: #str_num_rows:\n",
    "        file_name = BASE_MOCK_HOSP_PATH + f\"/{c}_data_fields/hosp_{r}x{c}.csv\"\n",
    "        hosp_df = pd.read_csv(file_name)\n",
    "        hosp_metadata = detect_metadata(hosp_df)\n",
    "        \n",
    "        synthesizer = evaluate_synthesizer(hosp_metadata, enforce_min_max_values=True, enforce_rounding=False)\n",
    "\n",
    "        print(\"#\"*30)\n",
    "        print(f\"Generating for: {file_name}\")\n",
    "        print(\"-\"*30)\n",
    "        pprint(get_model_time_score(synthesizer, hosp_metadata, hosp_df, samples=hosp_df.shape[0]))"
   ]
  },
  {
   "cell_type": "markdown",
   "id": "0e043bc5-6249-421d-ac79-fa92947f207c",
   "metadata": {},
   "source": [
    "### 2.3. Real data"
   ]
  },
  {
   "cell_type": "code",
   "execution_count": null,
   "id": "27445bda-a0fd-41cc-8fe5-2b40ee764231",
   "metadata": {},
   "outputs": [],
   "source": [
    "# for file_name in REAL_DATA_LIST:\n",
    "#     real_df = pd.read_csv(file_name)\n",
    "#     real_metadata = detect_metadata(real_df)\n",
    "    \n",
    "#     synthesizer = evaluate_synthesizer(real_metadata)\n",
    "\n",
    "#     print(\"#\"*30)\n",
    "#     print(f\"Generating for: {file_name} {real_df.shape}\")\n",
    "#     print(get_model_time_score(synthesizer, real_metadata, real_df, samples=real_df.shape[0]))\n",
    "#     print(\"#\"*30)"
   ]
  },
  {
   "cell_type": "markdown",
   "id": "b4c7a681-4a86-438e-882f-903d67f97680",
   "metadata": {},
   "source": [
    "# 3. TVAE Model"
   ]
  },
  {
   "cell_type": "code",
   "execution_count": 20,
   "id": "5193d1e8-09f1-4a8e-b51a-44a9590d7fe9",
   "metadata": {},
   "outputs": [],
   "source": [
    "evaluate_synthesizer = TVAESynthesizer"
   ]
  },
  {
   "cell_type": "markdown",
   "id": "85eb86bb-6c3f-4d9f-8132-c5b008fe349c",
   "metadata": {},
   "source": [
    "### 3.1. Mock SDV-demo data "
   ]
  },
  {
   "cell_type": "code",
   "execution_count": 21,
   "id": "23056372-2405-4781-9ba1-97811315c08d",
   "metadata": {},
   "outputs": [
    {
     "name": "stdout",
     "output_type": "stream",
     "text": [
      "{\n",
      "    \"columns\": {\n",
      "        \"guest_email\": {\n",
      "            \"sdtype\": \"email\",\n",
      "            \"pii\": true\n",
      "        },\n",
      "        \"has_rewards\": {\n",
      "            \"sdtype\": \"boolean\"\n",
      "        },\n",
      "        \"room_type\": {\n",
      "            \"sdtype\": \"categorical\"\n",
      "        },\n",
      "        \"amenities_fee\": {\n",
      "            \"sdtype\": \"numerical\",\n",
      "            \"computer_representation\": \"Float\"\n",
      "        },\n",
      "        \"checkin_date\": {\n",
      "            \"sdtype\": \"datetime\",\n",
      "            \"datetime_format\": \"%d %b %Y\"\n",
      "        },\n",
      "        \"checkout_date\": {\n",
      "            \"sdtype\": \"datetime\",\n",
      "            \"datetime_format\": \"%d %b %Y\"\n",
      "        },\n",
      "        \"room_rate\": {\n",
      "            \"sdtype\": \"numerical\",\n",
      "            \"computer_representation\": \"Float\"\n",
      "        },\n",
      "        \"billing_address\": {\n",
      "            \"sdtype\": \"address\",\n",
      "            \"pii\": true\n",
      "        },\n",
      "        \"credit_card_number\": {\n",
      "            \"sdtype\": \"credit_card_number\",\n",
      "            \"pii\": true\n",
      "        }\n",
      "    },\n",
      "    \"primary_key\": \"guest_email\",\n",
      "    \"METADATA_SPEC_VERSION\": \"SINGLE_TABLE_V1\"\n",
      "}\n"
     ]
    },
    {
     "name": "stderr",
     "output_type": "stream",
     "text": [
      "Creating report: 100%|████████████████████████████████████████████████████████████████████████████████████████████████████████████████████████████████████████████████████████████████████████████████████| 4/4 [00:02<00:00,  1.87it/s]"
     ]
    },
    {
     "name": "stdout",
     "output_type": "stream",
     "text": [
      "\n",
      "DiagnosticResults:\n",
      "\n",
      "SUCCESS:\n",
      "✓ The synthetic data follows over 90% of the min/max boundaries set by the real data\n",
      "\n",
      "WARNING:\n",
      "! The synthetic data is missing more than 10% of the numerical ranges present in the real data\n",
      "! The synthetic data is missing more than 10% of the categories present in the real data\n",
      "! More than 10% of the synthetic rows are copies of the real data\n",
      "{'diagnostic_report': {'diagnostic_report_obj': <sdmetrics.reports.single_table.diagnostic_report.DiagnosticReport object at 0x146f3ac10>,\n",
      "                       'diagnostic_report_time': 2.1494181156158447},\n",
      " 'quality_report': None,\n",
      " 'sampling_time': 0.3445770740509033,\n",
      " 'training_time': 30.49004077911377}\n"
     ]
    },
    {
     "name": "stderr",
     "output_type": "stream",
     "text": [
      "\n"
     ]
    }
   ],
   "source": [
    "demo_data, demo_metadata = download_demo(\n",
    "    modality='single_table',\n",
    "    dataset_name='fake_hotel_guests'\n",
    ")\n",
    "\n",
    "pprint(demo_metadata)\n",
    "synthesizer = evaluate_synthesizer(demo_metadata, enforce_min_max_values=True, enforce_rounding=False)\n",
    "\n",
    "pprint(get_model_time_score(synthesizer, demo_metadata, demo_data, 500))"
   ]
  },
  {
   "cell_type": "markdown",
   "id": "ebd91806-a82a-485e-9c98-6b861778cde4",
   "metadata": {
    "tags": []
   },
   "source": [
    "### 3.2. Mock hospital data"
   ]
  },
  {
   "cell_type": "code",
   "execution_count": 22,
   "id": "63ac67d3-86cf-4067-80bb-4650b4a473bc",
   "metadata": {},
   "outputs": [
    {
     "name": "stdout",
     "output_type": "stream",
     "text": [
      "{'METADATA_SPEC_VERSION': 'SINGLE_TABLE_V1',\n",
      " 'columns': {'Age': {'sdtype': 'numerical'},\n",
      "             'DateOfDiagnosis': {'sdtype': 'categorical'},\n",
      "             'Gender': {'sdtype': 'categorical'},\n",
      "             'NRIC': {'sdtype': 'categorical'},\n",
      "             'Name': {'sdtype': 'categorical'}}}\n",
      "##############################\n",
      "Generating for: synthetic_data/5_data_fields/hosp_1000x5.csv\n",
      "------------------------------\n"
     ]
    },
    {
     "name": "stderr",
     "output_type": "stream",
     "text": [
      "Creating report: 100%|████████████████████████████████████████████████████████████████████████████████████████████████████████████████████████████████████████████████████████████████████████████████████| 4/4 [00:03<00:00,  1.12it/s]\n"
     ]
    },
    {
     "name": "stdout",
     "output_type": "stream",
     "text": [
      "\n",
      "DiagnosticResults:\n",
      "\n",
      "SUCCESS:\n",
      "✓ The synthetic data covers over 90% of the numerical ranges present in the real data\n",
      "✓ Over 90% of the synthetic rows are not copies of the real data\n",
      "✓ The synthetic data follows over 90% of the min/max boundaries set by the real data\n",
      "\n",
      "DANGER:\n",
      "x The synthetic data is missing more than 50% of the categories present in the real data\n",
      "{'diagnostic_report': {'diagnostic_report_obj': <sdmetrics.reports.single_table.diagnostic_report.DiagnosticReport object at 0x143944700>,\n",
      "                       'diagnostic_report_time': 3.571470260620117},\n",
      " 'quality_report': None,\n",
      " 'sampling_time': 0.08768272399902344,\n",
      " 'training_time': 26.401947021484375}\n",
      "{'METADATA_SPEC_VERSION': 'SINGLE_TABLE_V1',\n",
      " 'columns': {'Age': {'sdtype': 'numerical'},\n",
      "             'DateOfDiagnosis': {'sdtype': 'categorical'},\n",
      "             'Gender': {'sdtype': 'categorical'},\n",
      "             'NRIC': {'sdtype': 'categorical'},\n",
      "             'Name': {'sdtype': 'categorical'}}}\n",
      "##############################\n",
      "Generating for: synthetic_data/5_data_fields/hosp_10000x5.csv\n",
      "------------------------------\n"
     ]
    },
    {
     "name": "stderr",
     "output_type": "stream",
     "text": [
      "Creating report: 100%|████████████████████████████████████████████████████████████████████████████████████████████████████████████████████████████████████████████████████████████████████████████████████| 4/4 [00:31<00:00,  7.76s/it]"
     ]
    },
    {
     "name": "stdout",
     "output_type": "stream",
     "text": [
      "\n",
      "DiagnosticResults:\n",
      "\n",
      "SUCCESS:\n",
      "✓ The synthetic data covers over 90% of the numerical ranges present in the real data\n",
      "✓ Over 90% of the synthetic rows are not copies of the real data\n",
      "✓ The synthetic data follows over 90% of the min/max boundaries set by the real data\n",
      "\n",
      "DANGER:\n",
      "x The synthetic data is missing more than 50% of the categories present in the real data\n",
      "{'diagnostic_report': {'diagnostic_report_obj': <sdmetrics.reports.single_table.diagnostic_report.DiagnosticReport object at 0x1490ba6d0>,\n",
      "                       'diagnostic_report_time': 31.03897500038147},\n",
      " 'quality_report': None,\n",
      " 'sampling_time': 12.799145936965942,\n",
      " 'training_time': 22312.21906399727}\n"
     ]
    },
    {
     "name": "stderr",
     "output_type": "stream",
     "text": [
      "\n"
     ]
    }
   ],
   "source": [
    "for c in [5]:\n",
    "    for r in  [1000, 10000]:\n",
    "        file_name = BASE_MOCK_HOSP_PATH + f\"/{c}_data_fields/hosp_{r}x{c}.csv\"\n",
    "        hosp_df = pd.read_csv(file_name)\n",
    "        hosp_metadata = detect_metadata(hosp_df)\n",
    "        \n",
    "        synthesizer = evaluate_synthesizer(hosp_metadata, enforce_min_max_values=True, enforce_rounding=False)\n",
    "\n",
    "        print(\"#\"*30)\n",
    "        print(f\"Generating for: {file_name}\")\n",
    "        print(\"-\"*30)\n",
    "        pprint(get_model_time_score(synthesizer, hosp_metadata, hosp_df, samples=hosp_df.shape[0]))"
   ]
  },
  {
   "cell_type": "markdown",
   "id": "acf47ef9-c12a-414a-9839-dc8945a57af6",
   "metadata": {},
   "source": [
    "# TVAE (quality)"
   ]
  },
  {
   "cell_type": "code",
   "execution_count": 27,
   "id": "060b0acc-a9e6-487e-acf8-a0930c683bf2",
   "metadata": {},
   "outputs": [
    {
     "name": "stdout",
     "output_type": "stream",
     "text": [
      "{'METADATA_SPEC_VERSION': 'SINGLE_TABLE_V1',\n",
      " 'columns': {'Age': {'sdtype': 'numerical'},\n",
      "             'DateOfDiagnosis': {'sdtype': 'categorical'},\n",
      "             'Gender': {'sdtype': 'categorical'},\n",
      "             'NRIC': {'sdtype': 'categorical'},\n",
      "             'Name': {'sdtype': 'categorical'}}}\n",
      "##############################\n",
      "Generating for: synthetic_data/5_data_fields/hosp_1000x5.csv\n",
      "------------------------------\n"
     ]
    },
    {
     "name": "stderr",
     "output_type": "stream",
     "text": [
      "Creating report: 100%|████████████████████████████████████████████████████████████████████████████████████████████████████████████████████████████████████████████████████████████████████████████████████| 4/4 [00:10<00:00,  2.66s/it]\n"
     ]
    },
    {
     "name": "stdout",
     "output_type": "stream",
     "text": [
      "\n",
      "Overall Quality Score: 26.27%\n",
      "\n",
      "Properties:\n",
      "Column Shapes: 40.94%\n",
      "Column Pair Trends: 11.6%\n"
     ]
    },
    {
     "name": "stderr",
     "output_type": "stream",
     "text": [
      "Creating report: 100%|████████████████████████████████████████████████████████████████████████████████████████████████████████████████████████████████████████████████████████████████████████████████████| 4/4 [00:02<00:00,  1.57it/s]\n"
     ]
    },
    {
     "name": "stdout",
     "output_type": "stream",
     "text": [
      "\n",
      "DiagnosticResults:\n",
      "\n",
      "SUCCESS:\n",
      "✓ The synthetic data covers over 90% of the numerical ranges present in the real data\n",
      "✓ Over 90% of the synthetic rows are not copies of the real data\n",
      "✓ The synthetic data follows over 90% of the min/max boundaries set by the real data\n",
      "\n",
      "DANGER:\n",
      "x The synthetic data is missing more than 50% of the categories present in the real data\n",
      "{'diagnostic_report': {'diagnostic_report_obj': <sdmetrics.reports.single_table.diagnostic_report.DiagnosticReport object at 0x147650be0>,\n",
      "                       'diagnostic_report_time': 2.549103021621704},\n",
      " 'quality_report': {'quality_report_obj': <sdmetrics.reports.single_table.quality_report.QualityReport object at 0x147626ee0>,\n",
      "                    'quality_report_score': 0.2627000000000052,\n",
      "                    'quality_report_time': 11.189966917037964},\n",
      " 'sampling_time': 0.061669111251831055,\n",
      " 'training_time': 23.604692935943604}\n",
      "{'METADATA_SPEC_VERSION': 'SINGLE_TABLE_V1',\n",
      " 'columns': {'Age': {'sdtype': 'numerical'},\n",
      "             'DateOfDiagnosis': {'sdtype': 'categorical'},\n",
      "             'Gender': {'sdtype': 'categorical'},\n",
      "             'NRIC': {'sdtype': 'categorical'},\n",
      "             'Name': {'sdtype': 'categorical'}}}\n",
      "##############################\n",
      "Generating for: synthetic_data/5_data_fields/hosp_10000x5.csv\n",
      "------------------------------\n"
     ]
    },
    {
     "ename": "KeyboardInterrupt",
     "evalue": "",
     "output_type": "error",
     "traceback": [
      "\u001b[0;31m---------------------------------------------------------------------------\u001b[0m",
      "\u001b[0;31mKeyboardInterrupt\u001b[0m                         Traceback (most recent call last)",
      "Input \u001b[0;32mIn [27]\u001b[0m, in \u001b[0;36m<cell line: 2>\u001b[0;34m()\u001b[0m\n\u001b[1;32m     11\u001b[0m \u001b[38;5;28mprint\u001b[39m(\u001b[38;5;124mf\u001b[39m\u001b[38;5;124m\"\u001b[39m\u001b[38;5;124mGenerating for: \u001b[39m\u001b[38;5;132;01m{\u001b[39;00mfile_name\u001b[38;5;132;01m}\u001b[39;00m\u001b[38;5;124m\"\u001b[39m)\n\u001b[1;32m     12\u001b[0m \u001b[38;5;28mprint\u001b[39m(\u001b[38;5;124m\"\u001b[39m\u001b[38;5;124m-\u001b[39m\u001b[38;5;124m\"\u001b[39m\u001b[38;5;241m*\u001b[39m\u001b[38;5;241m30\u001b[39m)\n\u001b[0;32m---> 13\u001b[0m pprint(\u001b[43mget_model_time_score\u001b[49m\u001b[43m(\u001b[49m\u001b[43msynthesizer\u001b[49m\u001b[43m,\u001b[49m\u001b[43m \u001b[49m\u001b[43mhosp_metadata\u001b[49m\u001b[43m,\u001b[49m\u001b[43m \u001b[49m\u001b[43mhosp_df\u001b[49m\u001b[43m,\u001b[49m\u001b[43m \u001b[49m\u001b[43mhosp_df\u001b[49m\u001b[38;5;241;43m.\u001b[39;49m\u001b[43mshape\u001b[49m\u001b[43m[\u001b[49m\u001b[38;5;241;43m0\u001b[39;49m\u001b[43m]\u001b[49m\u001b[43m,\u001b[49m\u001b[43m \u001b[49m\u001b[38;5;28;43;01mTrue\u001b[39;49;00m\u001b[43m,\u001b[49m\u001b[43m \u001b[49m\u001b[38;5;28;43;01mTrue\u001b[39;49;00m\u001b[43m)\u001b[49m)\n",
      "Input \u001b[0;32mIn [15]\u001b[0m, in \u001b[0;36mget_model_time_score\u001b[0;34m(synthesizer, metadata, real_data, samples, gen_quality_report, gen_diagnostic_report)\u001b[0m\n\u001b[1;32m      1\u001b[0m \u001b[38;5;28;01mdef\u001b[39;00m \u001b[38;5;21mget_model_time_score\u001b[39m(synthesizer, metadata, real_data, samples\u001b[38;5;241m=\u001b[39m\u001b[38;5;241m500\u001b[39m, gen_quality_report\u001b[38;5;241m=\u001b[39m\u001b[38;5;28;01mFalse\u001b[39;00m, gen_diagnostic_report\u001b[38;5;241m=\u001b[39m\u001b[38;5;28;01mTrue\u001b[39;00m): \n\u001b[1;32m      2\u001b[0m     \n\u001b[1;32m      3\u001b[0m     \u001b[38;5;66;03m# ---------------------\u001b[39;00m\n\u001b[1;32m      4\u001b[0m     \u001b[38;5;66;03m# Step 1: Train\u001b[39;00m\n\u001b[1;32m      5\u001b[0m     \u001b[38;5;66;03m# ---------------------\u001b[39;00m\n\u001b[1;32m      6\u001b[0m     begin_time \u001b[38;5;241m=\u001b[39m time\u001b[38;5;241m.\u001b[39mtime()\n\u001b[0;32m----> 7\u001b[0m     \u001b[43msynthesizer\u001b[49m\u001b[38;5;241;43m.\u001b[39;49m\u001b[43mfit\u001b[49m\u001b[43m(\u001b[49m\u001b[43mreal_data\u001b[49m\u001b[43m)\u001b[49m\n\u001b[1;32m      8\u001b[0m     end_time \u001b[38;5;241m=\u001b[39m time\u001b[38;5;241m.\u001b[39mtime()\n\u001b[1;32m     10\u001b[0m     training_time \u001b[38;5;241m=\u001b[39m end_time \u001b[38;5;241m-\u001b[39m begin_time\n",
      "File \u001b[0;32m~/.pyenv/versions/3.8.11/lib/python3.8/site-packages/sdv/single_table/base.py:457\u001b[0m, in \u001b[0;36mBaseSynthesizer.fit\u001b[0;34m(self, data)\u001b[0m\n\u001b[1;32m    455\u001b[0m \u001b[38;5;28mself\u001b[39m\u001b[38;5;241m.\u001b[39m_random_state_set \u001b[38;5;241m=\u001b[39m \u001b[38;5;28;01mFalse\u001b[39;00m\n\u001b[1;32m    456\u001b[0m processed_data \u001b[38;5;241m=\u001b[39m \u001b[38;5;28mself\u001b[39m\u001b[38;5;241m.\u001b[39m_preprocess(data)\n\u001b[0;32m--> 457\u001b[0m \u001b[38;5;28;43mself\u001b[39;49m\u001b[38;5;241;43m.\u001b[39;49m\u001b[43mfit_processed_data\u001b[49m\u001b[43m(\u001b[49m\u001b[43mprocessed_data\u001b[49m\u001b[43m)\u001b[49m\n",
      "File \u001b[0;32m~/.pyenv/versions/3.8.11/lib/python3.8/site-packages/sdv/single_table/base.py:441\u001b[0m, in \u001b[0;36mBaseSynthesizer.fit_processed_data\u001b[0;34m(self, processed_data)\u001b[0m\n\u001b[1;32m    434\u001b[0m \u001b[38;5;28;01mdef\u001b[39;00m \u001b[38;5;21mfit_processed_data\u001b[39m(\u001b[38;5;28mself\u001b[39m, processed_data):\n\u001b[1;32m    435\u001b[0m     \u001b[38;5;124;03m\"\"\"Fit this model to the transformed data.\u001b[39;00m\n\u001b[1;32m    436\u001b[0m \n\u001b[1;32m    437\u001b[0m \u001b[38;5;124;03m    Args:\u001b[39;00m\n\u001b[1;32m    438\u001b[0m \u001b[38;5;124;03m        processed_data (pandas.DataFrame):\u001b[39;00m\n\u001b[1;32m    439\u001b[0m \u001b[38;5;124;03m            The transformed data used to fit the model to.\u001b[39;00m\n\u001b[1;32m    440\u001b[0m \u001b[38;5;124;03m    \"\"\"\u001b[39;00m\n\u001b[0;32m--> 441\u001b[0m     \u001b[38;5;28;43mself\u001b[39;49m\u001b[38;5;241;43m.\u001b[39;49m\u001b[43m_fit\u001b[49m\u001b[43m(\u001b[49m\u001b[43mprocessed_data\u001b[49m\u001b[43m)\u001b[49m\n\u001b[1;32m    442\u001b[0m     \u001b[38;5;28mself\u001b[39m\u001b[38;5;241m.\u001b[39m_fitted \u001b[38;5;241m=\u001b[39m \u001b[38;5;28;01mTrue\u001b[39;00m\n\u001b[1;32m    443\u001b[0m     \u001b[38;5;28mself\u001b[39m\u001b[38;5;241m.\u001b[39m_fitted_date \u001b[38;5;241m=\u001b[39m datetime\u001b[38;5;241m.\u001b[39mdatetime\u001b[38;5;241m.\u001b[39mtoday()\u001b[38;5;241m.\u001b[39mstrftime(\u001b[38;5;124m'\u001b[39m\u001b[38;5;124m%\u001b[39m\u001b[38;5;124mY-\u001b[39m\u001b[38;5;124m%\u001b[39m\u001b[38;5;124mm-\u001b[39m\u001b[38;5;132;01m%d\u001b[39;00m\u001b[38;5;124m'\u001b[39m)\n",
      "File \u001b[0;32m~/.pyenv/versions/3.8.11/lib/python3.8/site-packages/sdv/single_table/ctgan.py:209\u001b[0m, in \u001b[0;36mTVAESynthesizer._fit\u001b[0;34m(self, processed_data)\u001b[0m\n\u001b[1;32m    207\u001b[0m discrete_columns \u001b[38;5;241m=\u001b[39m detect_discrete_columns(\u001b[38;5;28mself\u001b[39m\u001b[38;5;241m.\u001b[39mget_metadata(), processed_data)\n\u001b[1;32m    208\u001b[0m \u001b[38;5;28mself\u001b[39m\u001b[38;5;241m.\u001b[39m_model \u001b[38;5;241m=\u001b[39m TVAE(\u001b[38;5;241m*\u001b[39m\u001b[38;5;241m*\u001b[39m\u001b[38;5;28mself\u001b[39m\u001b[38;5;241m.\u001b[39m_model_kwargs)\n\u001b[0;32m--> 209\u001b[0m \u001b[38;5;28;43mself\u001b[39;49m\u001b[38;5;241;43m.\u001b[39;49m\u001b[43m_model\u001b[49m\u001b[38;5;241;43m.\u001b[39;49m\u001b[43mfit\u001b[49m\u001b[43m(\u001b[49m\u001b[43mprocessed_data\u001b[49m\u001b[43m,\u001b[49m\u001b[43m \u001b[49m\u001b[43mdiscrete_columns\u001b[49m\u001b[38;5;241;43m=\u001b[39;49m\u001b[43mdiscrete_columns\u001b[49m\u001b[43m)\u001b[49m\n",
      "File \u001b[0;32m~/.pyenv/versions/3.8.11/lib/python3.8/site-packages/ctgan/synthesizers/base.py:50\u001b[0m, in \u001b[0;36mrandom_state.<locals>.wrapper\u001b[0;34m(self, *args, **kwargs)\u001b[0m\n\u001b[1;32m     48\u001b[0m \u001b[38;5;28;01mdef\u001b[39;00m \u001b[38;5;21mwrapper\u001b[39m(\u001b[38;5;28mself\u001b[39m, \u001b[38;5;241m*\u001b[39margs, \u001b[38;5;241m*\u001b[39m\u001b[38;5;241m*\u001b[39mkwargs):\n\u001b[1;32m     49\u001b[0m     \u001b[38;5;28;01mif\u001b[39;00m \u001b[38;5;28mself\u001b[39m\u001b[38;5;241m.\u001b[39mrandom_states \u001b[38;5;129;01mis\u001b[39;00m \u001b[38;5;28;01mNone\u001b[39;00m:\n\u001b[0;32m---> 50\u001b[0m         \u001b[38;5;28;01mreturn\u001b[39;00m \u001b[43mfunction\u001b[49m\u001b[43m(\u001b[49m\u001b[38;5;28;43mself\u001b[39;49m\u001b[43m,\u001b[49m\u001b[43m \u001b[49m\u001b[38;5;241;43m*\u001b[39;49m\u001b[43margs\u001b[49m\u001b[43m,\u001b[49m\u001b[43m \u001b[49m\u001b[38;5;241;43m*\u001b[39;49m\u001b[38;5;241;43m*\u001b[39;49m\u001b[43mkwargs\u001b[49m\u001b[43m)\u001b[49m\n\u001b[1;32m     52\u001b[0m     \u001b[38;5;28;01melse\u001b[39;00m:\n\u001b[1;32m     53\u001b[0m         \u001b[38;5;28;01mwith\u001b[39;00m set_random_states(\u001b[38;5;28mself\u001b[39m\u001b[38;5;241m.\u001b[39mrandom_states, \u001b[38;5;28mself\u001b[39m\u001b[38;5;241m.\u001b[39mset_random_state):\n",
      "File \u001b[0;32m~/.pyenv/versions/3.8.11/lib/python3.8/site-packages/ctgan/synthesizers/tvae.py:166\u001b[0m, in \u001b[0;36mTVAE.fit\u001b[0;34m(self, train_data, discrete_columns)\u001b[0m\n\u001b[1;32m    164\u001b[0m optimizerAE\u001b[38;5;241m.\u001b[39mzero_grad()\n\u001b[1;32m    165\u001b[0m real \u001b[38;5;241m=\u001b[39m data[\u001b[38;5;241m0\u001b[39m]\u001b[38;5;241m.\u001b[39mto(\u001b[38;5;28mself\u001b[39m\u001b[38;5;241m.\u001b[39m_device)\n\u001b[0;32m--> 166\u001b[0m mu, std, logvar \u001b[38;5;241m=\u001b[39m \u001b[43mencoder\u001b[49m\u001b[43m(\u001b[49m\u001b[43mreal\u001b[49m\u001b[43m)\u001b[49m\n\u001b[1;32m    167\u001b[0m eps \u001b[38;5;241m=\u001b[39m torch\u001b[38;5;241m.\u001b[39mrandn_like(std)\n\u001b[1;32m    168\u001b[0m emb \u001b[38;5;241m=\u001b[39m eps \u001b[38;5;241m*\u001b[39m std \u001b[38;5;241m+\u001b[39m mu\n",
      "File \u001b[0;32m~/.pyenv/versions/3.8.11/lib/python3.8/site-packages/torch/nn/modules/module.py:1130\u001b[0m, in \u001b[0;36mModule._call_impl\u001b[0;34m(self, *input, **kwargs)\u001b[0m\n\u001b[1;32m   1126\u001b[0m \u001b[38;5;66;03m# If we don't have any hooks, we want to skip the rest of the logic in\u001b[39;00m\n\u001b[1;32m   1127\u001b[0m \u001b[38;5;66;03m# this function, and just call forward.\u001b[39;00m\n\u001b[1;32m   1128\u001b[0m \u001b[38;5;28;01mif\u001b[39;00m \u001b[38;5;129;01mnot\u001b[39;00m (\u001b[38;5;28mself\u001b[39m\u001b[38;5;241m.\u001b[39m_backward_hooks \u001b[38;5;129;01mor\u001b[39;00m \u001b[38;5;28mself\u001b[39m\u001b[38;5;241m.\u001b[39m_forward_hooks \u001b[38;5;129;01mor\u001b[39;00m \u001b[38;5;28mself\u001b[39m\u001b[38;5;241m.\u001b[39m_forward_pre_hooks \u001b[38;5;129;01mor\u001b[39;00m _global_backward_hooks\n\u001b[1;32m   1129\u001b[0m         \u001b[38;5;129;01mor\u001b[39;00m _global_forward_hooks \u001b[38;5;129;01mor\u001b[39;00m _global_forward_pre_hooks):\n\u001b[0;32m-> 1130\u001b[0m     \u001b[38;5;28;01mreturn\u001b[39;00m \u001b[43mforward_call\u001b[49m\u001b[43m(\u001b[49m\u001b[38;5;241;43m*\u001b[39;49m\u001b[38;5;28;43minput\u001b[39;49m\u001b[43m,\u001b[49m\u001b[43m \u001b[49m\u001b[38;5;241;43m*\u001b[39;49m\u001b[38;5;241;43m*\u001b[39;49m\u001b[43mkwargs\u001b[49m\u001b[43m)\u001b[49m\n\u001b[1;32m   1131\u001b[0m \u001b[38;5;66;03m# Do not call functions when jit is used\u001b[39;00m\n\u001b[1;32m   1132\u001b[0m full_backward_hooks, non_full_backward_hooks \u001b[38;5;241m=\u001b[39m [], []\n",
      "File \u001b[0;32m~/.pyenv/versions/3.8.11/lib/python3.8/site-packages/ctgan/synthesizers/tvae.py:43\u001b[0m, in \u001b[0;36mEncoder.forward\u001b[0;34m(self, input_)\u001b[0m\n\u001b[1;32m     41\u001b[0m \u001b[38;5;28;01mdef\u001b[39;00m \u001b[38;5;21mforward\u001b[39m(\u001b[38;5;28mself\u001b[39m, input_):\n\u001b[1;32m     42\u001b[0m     \u001b[38;5;124;03m\"\"\"Encode the passed `input_`.\"\"\"\u001b[39;00m\n\u001b[0;32m---> 43\u001b[0m     feature \u001b[38;5;241m=\u001b[39m \u001b[38;5;28;43mself\u001b[39;49m\u001b[38;5;241;43m.\u001b[39;49m\u001b[43mseq\u001b[49m\u001b[43m(\u001b[49m\u001b[43minput_\u001b[49m\u001b[43m)\u001b[49m\n\u001b[1;32m     44\u001b[0m     mu \u001b[38;5;241m=\u001b[39m \u001b[38;5;28mself\u001b[39m\u001b[38;5;241m.\u001b[39mfc1(feature)\n\u001b[1;32m     45\u001b[0m     logvar \u001b[38;5;241m=\u001b[39m \u001b[38;5;28mself\u001b[39m\u001b[38;5;241m.\u001b[39mfc2(feature)\n",
      "File \u001b[0;32m~/.pyenv/versions/3.8.11/lib/python3.8/site-packages/torch/nn/modules/module.py:1130\u001b[0m, in \u001b[0;36mModule._call_impl\u001b[0;34m(self, *input, **kwargs)\u001b[0m\n\u001b[1;32m   1126\u001b[0m \u001b[38;5;66;03m# If we don't have any hooks, we want to skip the rest of the logic in\u001b[39;00m\n\u001b[1;32m   1127\u001b[0m \u001b[38;5;66;03m# this function, and just call forward.\u001b[39;00m\n\u001b[1;32m   1128\u001b[0m \u001b[38;5;28;01mif\u001b[39;00m \u001b[38;5;129;01mnot\u001b[39;00m (\u001b[38;5;28mself\u001b[39m\u001b[38;5;241m.\u001b[39m_backward_hooks \u001b[38;5;129;01mor\u001b[39;00m \u001b[38;5;28mself\u001b[39m\u001b[38;5;241m.\u001b[39m_forward_hooks \u001b[38;5;129;01mor\u001b[39;00m \u001b[38;5;28mself\u001b[39m\u001b[38;5;241m.\u001b[39m_forward_pre_hooks \u001b[38;5;129;01mor\u001b[39;00m _global_backward_hooks\n\u001b[1;32m   1129\u001b[0m         \u001b[38;5;129;01mor\u001b[39;00m _global_forward_hooks \u001b[38;5;129;01mor\u001b[39;00m _global_forward_pre_hooks):\n\u001b[0;32m-> 1130\u001b[0m     \u001b[38;5;28;01mreturn\u001b[39;00m \u001b[43mforward_call\u001b[49m\u001b[43m(\u001b[49m\u001b[38;5;241;43m*\u001b[39;49m\u001b[38;5;28;43minput\u001b[39;49m\u001b[43m,\u001b[49m\u001b[43m \u001b[49m\u001b[38;5;241;43m*\u001b[39;49m\u001b[38;5;241;43m*\u001b[39;49m\u001b[43mkwargs\u001b[49m\u001b[43m)\u001b[49m\n\u001b[1;32m   1131\u001b[0m \u001b[38;5;66;03m# Do not call functions when jit is used\u001b[39;00m\n\u001b[1;32m   1132\u001b[0m full_backward_hooks, non_full_backward_hooks \u001b[38;5;241m=\u001b[39m [], []\n",
      "File \u001b[0;32m~/.pyenv/versions/3.8.11/lib/python3.8/site-packages/torch/nn/modules/container.py:139\u001b[0m, in \u001b[0;36mSequential.forward\u001b[0;34m(self, input)\u001b[0m\n\u001b[1;32m    137\u001b[0m \u001b[38;5;28;01mdef\u001b[39;00m \u001b[38;5;21mforward\u001b[39m(\u001b[38;5;28mself\u001b[39m, \u001b[38;5;28minput\u001b[39m):\n\u001b[1;32m    138\u001b[0m     \u001b[38;5;28;01mfor\u001b[39;00m module \u001b[38;5;129;01min\u001b[39;00m \u001b[38;5;28mself\u001b[39m:\n\u001b[0;32m--> 139\u001b[0m         \u001b[38;5;28minput\u001b[39m \u001b[38;5;241m=\u001b[39m \u001b[43mmodule\u001b[49m\u001b[43m(\u001b[49m\u001b[38;5;28;43minput\u001b[39;49m\u001b[43m)\u001b[49m\n\u001b[1;32m    140\u001b[0m     \u001b[38;5;28;01mreturn\u001b[39;00m \u001b[38;5;28minput\u001b[39m\n",
      "File \u001b[0;32m~/.pyenv/versions/3.8.11/lib/python3.8/site-packages/torch/nn/modules/module.py:1130\u001b[0m, in \u001b[0;36mModule._call_impl\u001b[0;34m(self, *input, **kwargs)\u001b[0m\n\u001b[1;32m   1126\u001b[0m \u001b[38;5;66;03m# If we don't have any hooks, we want to skip the rest of the logic in\u001b[39;00m\n\u001b[1;32m   1127\u001b[0m \u001b[38;5;66;03m# this function, and just call forward.\u001b[39;00m\n\u001b[1;32m   1128\u001b[0m \u001b[38;5;28;01mif\u001b[39;00m \u001b[38;5;129;01mnot\u001b[39;00m (\u001b[38;5;28mself\u001b[39m\u001b[38;5;241m.\u001b[39m_backward_hooks \u001b[38;5;129;01mor\u001b[39;00m \u001b[38;5;28mself\u001b[39m\u001b[38;5;241m.\u001b[39m_forward_hooks \u001b[38;5;129;01mor\u001b[39;00m \u001b[38;5;28mself\u001b[39m\u001b[38;5;241m.\u001b[39m_forward_pre_hooks \u001b[38;5;129;01mor\u001b[39;00m _global_backward_hooks\n\u001b[1;32m   1129\u001b[0m         \u001b[38;5;129;01mor\u001b[39;00m _global_forward_hooks \u001b[38;5;129;01mor\u001b[39;00m _global_forward_pre_hooks):\n\u001b[0;32m-> 1130\u001b[0m     \u001b[38;5;28;01mreturn\u001b[39;00m \u001b[43mforward_call\u001b[49m\u001b[43m(\u001b[49m\u001b[38;5;241;43m*\u001b[39;49m\u001b[38;5;28;43minput\u001b[39;49m\u001b[43m,\u001b[49m\u001b[43m \u001b[49m\u001b[38;5;241;43m*\u001b[39;49m\u001b[38;5;241;43m*\u001b[39;49m\u001b[43mkwargs\u001b[49m\u001b[43m)\u001b[49m\n\u001b[1;32m   1131\u001b[0m \u001b[38;5;66;03m# Do not call functions when jit is used\u001b[39;00m\n\u001b[1;32m   1132\u001b[0m full_backward_hooks, non_full_backward_hooks \u001b[38;5;241m=\u001b[39m [], []\n",
      "File \u001b[0;32m~/.pyenv/versions/3.8.11/lib/python3.8/site-packages/torch/nn/modules/linear.py:114\u001b[0m, in \u001b[0;36mLinear.forward\u001b[0;34m(self, input)\u001b[0m\n\u001b[1;32m    113\u001b[0m \u001b[38;5;28;01mdef\u001b[39;00m \u001b[38;5;21mforward\u001b[39m(\u001b[38;5;28mself\u001b[39m, \u001b[38;5;28minput\u001b[39m: Tensor) \u001b[38;5;241m-\u001b[39m\u001b[38;5;241m>\u001b[39m Tensor:\n\u001b[0;32m--> 114\u001b[0m     \u001b[38;5;28;01mreturn\u001b[39;00m \u001b[43mF\u001b[49m\u001b[38;5;241;43m.\u001b[39;49m\u001b[43mlinear\u001b[49m\u001b[43m(\u001b[49m\u001b[38;5;28;43minput\u001b[39;49m\u001b[43m,\u001b[49m\u001b[43m \u001b[49m\u001b[38;5;28;43mself\u001b[39;49m\u001b[38;5;241;43m.\u001b[39;49m\u001b[43mweight\u001b[49m\u001b[43m,\u001b[49m\u001b[43m \u001b[49m\u001b[38;5;28;43mself\u001b[39;49m\u001b[38;5;241;43m.\u001b[39;49m\u001b[43mbias\u001b[49m\u001b[43m)\u001b[49m\n",
      "\u001b[0;31mKeyboardInterrupt\u001b[0m: "
     ]
    }
   ],
   "source": [
    "# duplicate\n",
    "for c in [5]:\n",
    "    for r in  [1000, 10000]:\n",
    "        file_name = BASE_MOCK_HOSP_PATH + f\"/{c}_data_fields/hosp_{r}x{c}.csv\"\n",
    "        hosp_df = pd.read_csv(file_name)\n",
    "        hosp_metadata = detect_metadata(hosp_df)\n",
    "        \n",
    "        synthesizer = evaluate_synthesizer(hosp_metadata, enforce_min_max_values=True, enforce_rounding=False)\n",
    "\n",
    "        print(\"#\"*30)\n",
    "        print(f\"Generating for: {file_name}\")\n",
    "        print(\"-\"*30)\n",
    "        pprint(get_model_time_score(synthesizer, hosp_metadata, hosp_df, hosp_df.shape[0], True, True))"
   ]
  },
  {
   "cell_type": "markdown",
   "id": "eac92fac-d4e3-4313-996a-c2ccffabb3d6",
   "metadata": {},
   "source": [
    "# CTGAN (quality)"
   ]
  },
  {
   "cell_type": "code",
   "execution_count": 28,
   "id": "09162261-5061-4a2a-9f10-43e78b3cbb9b",
   "metadata": {},
   "outputs": [
    {
     "name": "stdout",
     "output_type": "stream",
     "text": [
      "{'METADATA_SPEC_VERSION': 'SINGLE_TABLE_V1',\n",
      " 'columns': {'Age': {'sdtype': 'numerical'},\n",
      "             'DateOfDiagnosis': {'sdtype': 'categorical'},\n",
      "             'Gender': {'sdtype': 'categorical'},\n",
      "             'NRIC': {'sdtype': 'categorical'},\n",
      "             'Name': {'sdtype': 'categorical'}}}\n",
      "##############################\n",
      "Generating for: synthetic_data/5_data_fields/hosp_1000x5.csv\n",
      "------------------------------\n"
     ]
    },
    {
     "name": "stderr",
     "output_type": "stream",
     "text": [
      "Creating report: 100%|████████████████████████████████████████████████████████████████████████████████████████████████████████████████████████████████████████████████████████████████████████████████████| 4/4 [00:06<00:00,  1.54s/it]\n"
     ]
    },
    {
     "name": "stdout",
     "output_type": "stream",
     "text": [
      "\n",
      "Overall Quality Score: 46.57%\n",
      "\n",
      "Properties:\n",
      "Column Shapes: 71.18%\n",
      "Column Pair Trends: 21.97%\n"
     ]
    },
    {
     "name": "stderr",
     "output_type": "stream",
     "text": [
      "Creating report: 100%|████████████████████████████████████████████████████████████████████████████████████████████████████████████████████████████████████████████████████████████████████████████████████| 4/4 [00:02<00:00,  1.41it/s]\n"
     ]
    },
    {
     "name": "stdout",
     "output_type": "stream",
     "text": [
      "\n",
      "DiagnosticResults:\n",
      "\n",
      "SUCCESS:\n",
      "✓ The synthetic data covers over 90% of the numerical ranges present in the real data\n",
      "✓ Over 90% of the synthetic rows are not copies of the real data\n",
      "✓ The synthetic data follows over 90% of the min/max boundaries set by the real data\n",
      "\n",
      "WARNING:\n",
      "! The synthetic data is missing more than 10% of the categories present in the real data\n",
      "{'diagnostic_report': {'diagnostic_report_obj': <sdmetrics.reports.single_table.diagnostic_report.DiagnosticReport object at 0x14434c7f0>,\n",
      "                       'diagnostic_report_time': 2.8496294021606445},\n",
      " 'quality_report': {'quality_report_obj': <sdmetrics.reports.single_table.quality_report.QualityReport object at 0x1499bad00>,\n",
      "                    'quality_report_score': 0.4657499999999999,\n",
      "                    'quality_report_time': 7.034662246704102},\n",
      " 'sampling_time': 0.2557530403137207,\n",
      " 'training_time': 549.3154628276825}\n",
      "{'METADATA_SPEC_VERSION': 'SINGLE_TABLE_V1',\n",
      " 'columns': {'Age': {'sdtype': 'numerical'},\n",
      "             'DateOfDiagnosis': {'sdtype': 'categorical'},\n",
      "             'Gender': {'sdtype': 'categorical'},\n",
      "             'NRIC': {'sdtype': 'categorical'},\n",
      "             'Name': {'sdtype': 'categorical'}}}\n",
      "##############################\n",
      "Generating for: synthetic_data/5_data_fields/hosp_10000x5.csv\n",
      "------------------------------\n"
     ]
    },
    {
     "ename": "KeyboardInterrupt",
     "evalue": "",
     "output_type": "error",
     "traceback": [
      "\u001b[0;31m---------------------------------------------------------------------------\u001b[0m",
      "\u001b[0;31mKeyboardInterrupt\u001b[0m                         Traceback (most recent call last)",
      "Input \u001b[0;32mIn [28]\u001b[0m, in \u001b[0;36m<cell line: 3>\u001b[0;34m()\u001b[0m\n\u001b[1;32m     12\u001b[0m \u001b[38;5;28mprint\u001b[39m(\u001b[38;5;124mf\u001b[39m\u001b[38;5;124m\"\u001b[39m\u001b[38;5;124mGenerating for: \u001b[39m\u001b[38;5;132;01m{\u001b[39;00mfile_name\u001b[38;5;132;01m}\u001b[39;00m\u001b[38;5;124m\"\u001b[39m)\n\u001b[1;32m     13\u001b[0m \u001b[38;5;28mprint\u001b[39m(\u001b[38;5;124m\"\u001b[39m\u001b[38;5;124m-\u001b[39m\u001b[38;5;124m\"\u001b[39m\u001b[38;5;241m*\u001b[39m\u001b[38;5;241m30\u001b[39m)\n\u001b[0;32m---> 14\u001b[0m pprint(\u001b[43mget_model_time_score\u001b[49m\u001b[43m(\u001b[49m\u001b[43msynthesizer\u001b[49m\u001b[43m,\u001b[49m\u001b[43m \u001b[49m\u001b[43mhosp_metadata\u001b[49m\u001b[43m,\u001b[49m\u001b[43m \u001b[49m\u001b[43mhosp_df\u001b[49m\u001b[43m,\u001b[49m\u001b[43m \u001b[49m\u001b[43mhosp_df\u001b[49m\u001b[38;5;241;43m.\u001b[39;49m\u001b[43mshape\u001b[49m\u001b[43m[\u001b[49m\u001b[38;5;241;43m0\u001b[39;49m\u001b[43m]\u001b[49m\u001b[43m,\u001b[49m\u001b[43m \u001b[49m\u001b[38;5;28;43;01mTrue\u001b[39;49;00m\u001b[43m,\u001b[49m\u001b[43m \u001b[49m\u001b[38;5;28;43;01mTrue\u001b[39;49;00m\u001b[43m)\u001b[49m)\n",
      "Input \u001b[0;32mIn [15]\u001b[0m, in \u001b[0;36mget_model_time_score\u001b[0;34m(synthesizer, metadata, real_data, samples, gen_quality_report, gen_diagnostic_report)\u001b[0m\n\u001b[1;32m      1\u001b[0m \u001b[38;5;28;01mdef\u001b[39;00m \u001b[38;5;21mget_model_time_score\u001b[39m(synthesizer, metadata, real_data, samples\u001b[38;5;241m=\u001b[39m\u001b[38;5;241m500\u001b[39m, gen_quality_report\u001b[38;5;241m=\u001b[39m\u001b[38;5;28;01mFalse\u001b[39;00m, gen_diagnostic_report\u001b[38;5;241m=\u001b[39m\u001b[38;5;28;01mTrue\u001b[39;00m): \n\u001b[1;32m      2\u001b[0m     \n\u001b[1;32m      3\u001b[0m     \u001b[38;5;66;03m# ---------------------\u001b[39;00m\n\u001b[1;32m      4\u001b[0m     \u001b[38;5;66;03m# Step 1: Train\u001b[39;00m\n\u001b[1;32m      5\u001b[0m     \u001b[38;5;66;03m# ---------------------\u001b[39;00m\n\u001b[1;32m      6\u001b[0m     begin_time \u001b[38;5;241m=\u001b[39m time\u001b[38;5;241m.\u001b[39mtime()\n\u001b[0;32m----> 7\u001b[0m     \u001b[43msynthesizer\u001b[49m\u001b[38;5;241;43m.\u001b[39;49m\u001b[43mfit\u001b[49m\u001b[43m(\u001b[49m\u001b[43mreal_data\u001b[49m\u001b[43m)\u001b[49m\n\u001b[1;32m      8\u001b[0m     end_time \u001b[38;5;241m=\u001b[39m time\u001b[38;5;241m.\u001b[39mtime()\n\u001b[1;32m     10\u001b[0m     training_time \u001b[38;5;241m=\u001b[39m end_time \u001b[38;5;241m-\u001b[39m begin_time\n",
      "File \u001b[0;32m~/.pyenv/versions/3.8.11/lib/python3.8/site-packages/sdv/single_table/base.py:457\u001b[0m, in \u001b[0;36mBaseSynthesizer.fit\u001b[0;34m(self, data)\u001b[0m\n\u001b[1;32m    455\u001b[0m \u001b[38;5;28mself\u001b[39m\u001b[38;5;241m.\u001b[39m_random_state_set \u001b[38;5;241m=\u001b[39m \u001b[38;5;28;01mFalse\u001b[39;00m\n\u001b[1;32m    456\u001b[0m processed_data \u001b[38;5;241m=\u001b[39m \u001b[38;5;28mself\u001b[39m\u001b[38;5;241m.\u001b[39m_preprocess(data)\n\u001b[0;32m--> 457\u001b[0m \u001b[38;5;28;43mself\u001b[39;49m\u001b[38;5;241;43m.\u001b[39;49m\u001b[43mfit_processed_data\u001b[49m\u001b[43m(\u001b[49m\u001b[43mprocessed_data\u001b[49m\u001b[43m)\u001b[49m\n",
      "File \u001b[0;32m~/.pyenv/versions/3.8.11/lib/python3.8/site-packages/sdv/single_table/base.py:441\u001b[0m, in \u001b[0;36mBaseSynthesizer.fit_processed_data\u001b[0;34m(self, processed_data)\u001b[0m\n\u001b[1;32m    434\u001b[0m \u001b[38;5;28;01mdef\u001b[39;00m \u001b[38;5;21mfit_processed_data\u001b[39m(\u001b[38;5;28mself\u001b[39m, processed_data):\n\u001b[1;32m    435\u001b[0m     \u001b[38;5;124;03m\"\"\"Fit this model to the transformed data.\u001b[39;00m\n\u001b[1;32m    436\u001b[0m \n\u001b[1;32m    437\u001b[0m \u001b[38;5;124;03m    Args:\u001b[39;00m\n\u001b[1;32m    438\u001b[0m \u001b[38;5;124;03m        processed_data (pandas.DataFrame):\u001b[39;00m\n\u001b[1;32m    439\u001b[0m \u001b[38;5;124;03m            The transformed data used to fit the model to.\u001b[39;00m\n\u001b[1;32m    440\u001b[0m \u001b[38;5;124;03m    \"\"\"\u001b[39;00m\n\u001b[0;32m--> 441\u001b[0m     \u001b[38;5;28;43mself\u001b[39;49m\u001b[38;5;241;43m.\u001b[39;49m\u001b[43m_fit\u001b[49m\u001b[43m(\u001b[49m\u001b[43mprocessed_data\u001b[49m\u001b[43m)\u001b[49m\n\u001b[1;32m    442\u001b[0m     \u001b[38;5;28mself\u001b[39m\u001b[38;5;241m.\u001b[39m_fitted \u001b[38;5;241m=\u001b[39m \u001b[38;5;28;01mTrue\u001b[39;00m\n\u001b[1;32m    443\u001b[0m     \u001b[38;5;28mself\u001b[39m\u001b[38;5;241m.\u001b[39m_fitted_date \u001b[38;5;241m=\u001b[39m datetime\u001b[38;5;241m.\u001b[39mdatetime\u001b[38;5;241m.\u001b[39mtoday()\u001b[38;5;241m.\u001b[39mstrftime(\u001b[38;5;124m'\u001b[39m\u001b[38;5;124m%\u001b[39m\u001b[38;5;124mY-\u001b[39m\u001b[38;5;124m%\u001b[39m\u001b[38;5;124mm-\u001b[39m\u001b[38;5;132;01m%d\u001b[39;00m\u001b[38;5;124m'\u001b[39m)\n",
      "File \u001b[0;32m~/.pyenv/versions/3.8.11/lib/python3.8/site-packages/sdv/single_table/ctgan.py:114\u001b[0m, in \u001b[0;36mCTGANSynthesizer._fit\u001b[0;34m(self, processed_data)\u001b[0m\n\u001b[1;32m    112\u001b[0m discrete_columns \u001b[38;5;241m=\u001b[39m detect_discrete_columns(\u001b[38;5;28mself\u001b[39m\u001b[38;5;241m.\u001b[39mget_metadata(), processed_data)\n\u001b[1;32m    113\u001b[0m \u001b[38;5;28mself\u001b[39m\u001b[38;5;241m.\u001b[39m_model \u001b[38;5;241m=\u001b[39m CTGAN(\u001b[38;5;241m*\u001b[39m\u001b[38;5;241m*\u001b[39m\u001b[38;5;28mself\u001b[39m\u001b[38;5;241m.\u001b[39m_model_kwargs)\n\u001b[0;32m--> 114\u001b[0m \u001b[38;5;28;43mself\u001b[39;49m\u001b[38;5;241;43m.\u001b[39;49m\u001b[43m_model\u001b[49m\u001b[38;5;241;43m.\u001b[39;49m\u001b[43mfit\u001b[49m\u001b[43m(\u001b[49m\u001b[43mprocessed_data\u001b[49m\u001b[43m,\u001b[49m\u001b[43m \u001b[49m\u001b[43mdiscrete_columns\u001b[49m\u001b[38;5;241;43m=\u001b[39;49m\u001b[43mdiscrete_columns\u001b[49m\u001b[43m)\u001b[49m\n",
      "File \u001b[0;32m~/.pyenv/versions/3.8.11/lib/python3.8/site-packages/ctgan/synthesizers/base.py:50\u001b[0m, in \u001b[0;36mrandom_state.<locals>.wrapper\u001b[0;34m(self, *args, **kwargs)\u001b[0m\n\u001b[1;32m     48\u001b[0m \u001b[38;5;28;01mdef\u001b[39;00m \u001b[38;5;21mwrapper\u001b[39m(\u001b[38;5;28mself\u001b[39m, \u001b[38;5;241m*\u001b[39margs, \u001b[38;5;241m*\u001b[39m\u001b[38;5;241m*\u001b[39mkwargs):\n\u001b[1;32m     49\u001b[0m     \u001b[38;5;28;01mif\u001b[39;00m \u001b[38;5;28mself\u001b[39m\u001b[38;5;241m.\u001b[39mrandom_states \u001b[38;5;129;01mis\u001b[39;00m \u001b[38;5;28;01mNone\u001b[39;00m:\n\u001b[0;32m---> 50\u001b[0m         \u001b[38;5;28;01mreturn\u001b[39;00m \u001b[43mfunction\u001b[49m\u001b[43m(\u001b[49m\u001b[38;5;28;43mself\u001b[39;49m\u001b[43m,\u001b[49m\u001b[43m \u001b[49m\u001b[38;5;241;43m*\u001b[39;49m\u001b[43margs\u001b[49m\u001b[43m,\u001b[49m\u001b[43m \u001b[49m\u001b[38;5;241;43m*\u001b[39;49m\u001b[38;5;241;43m*\u001b[39;49m\u001b[43mkwargs\u001b[49m\u001b[43m)\u001b[49m\n\u001b[1;32m     52\u001b[0m     \u001b[38;5;28;01melse\u001b[39;00m:\n\u001b[1;32m     53\u001b[0m         \u001b[38;5;28;01mwith\u001b[39;00m set_random_states(\u001b[38;5;28mself\u001b[39m\u001b[38;5;241m.\u001b[39mrandom_states, \u001b[38;5;28mself\u001b[39m\u001b[38;5;241m.\u001b[39mset_random_state):\n",
      "File \u001b[0;32m~/.pyenv/versions/3.8.11/lib/python3.8/site-packages/ctgan/synthesizers/ctgan.py:417\u001b[0m, in \u001b[0;36mCTGAN.fit\u001b[0;34m(self, train_data, discrete_columns, epochs)\u001b[0m\n\u001b[1;32m    415\u001b[0m     optimizerG\u001b[38;5;241m.\u001b[39mzero_grad()\n\u001b[1;32m    416\u001b[0m     loss_g\u001b[38;5;241m.\u001b[39mbackward()\n\u001b[0;32m--> 417\u001b[0m     \u001b[43moptimizerG\u001b[49m\u001b[38;5;241;43m.\u001b[39;49m\u001b[43mstep\u001b[49m\u001b[43m(\u001b[49m\u001b[43m)\u001b[49m\n\u001b[1;32m    419\u001b[0m \u001b[38;5;28;01mif\u001b[39;00m \u001b[38;5;28mself\u001b[39m\u001b[38;5;241m.\u001b[39m_verbose:\n\u001b[1;32m    420\u001b[0m     \u001b[38;5;28mprint\u001b[39m(\u001b[38;5;124mf\u001b[39m\u001b[38;5;124m'\u001b[39m\u001b[38;5;124mEpoch \u001b[39m\u001b[38;5;132;01m{\u001b[39;00mi\u001b[38;5;241m+\u001b[39m\u001b[38;5;241m1\u001b[39m\u001b[38;5;132;01m}\u001b[39;00m\u001b[38;5;124m, Loss G: \u001b[39m\u001b[38;5;132;01m{\u001b[39;00mloss_g\u001b[38;5;241m.\u001b[39mdetach()\u001b[38;5;241m.\u001b[39mcpu()\u001b[38;5;132;01m:\u001b[39;00m\u001b[38;5;124m .4f\u001b[39m\u001b[38;5;132;01m}\u001b[39;00m\u001b[38;5;124m,\u001b[39m\u001b[38;5;124m'\u001b[39m  \u001b[38;5;66;03m# noqa: T001\u001b[39;00m\n\u001b[1;32m    421\u001b[0m           \u001b[38;5;124mf\u001b[39m\u001b[38;5;124m'\u001b[39m\u001b[38;5;124mLoss D: \u001b[39m\u001b[38;5;132;01m{\u001b[39;00mloss_d\u001b[38;5;241m.\u001b[39mdetach()\u001b[38;5;241m.\u001b[39mcpu()\u001b[38;5;132;01m:\u001b[39;00m\u001b[38;5;124m .4f\u001b[39m\u001b[38;5;132;01m}\u001b[39;00m\u001b[38;5;124m'\u001b[39m,\n\u001b[1;32m    422\u001b[0m           flush\u001b[38;5;241m=\u001b[39m\u001b[38;5;28;01mTrue\u001b[39;00m)\n",
      "File \u001b[0;32m~/.pyenv/versions/3.8.11/lib/python3.8/site-packages/torch/optim/optimizer.py:113\u001b[0m, in \u001b[0;36mOptimizer._hook_for_profile.<locals>.profile_hook_step.<locals>.wrapper\u001b[0;34m(*args, **kwargs)\u001b[0m\n\u001b[1;32m    111\u001b[0m profile_name \u001b[38;5;241m=\u001b[39m \u001b[38;5;124m\"\u001b[39m\u001b[38;5;124mOptimizer.step#\u001b[39m\u001b[38;5;132;01m{}\u001b[39;00m\u001b[38;5;124m.step\u001b[39m\u001b[38;5;124m\"\u001b[39m\u001b[38;5;241m.\u001b[39mformat(obj\u001b[38;5;241m.\u001b[39m\u001b[38;5;18m__class__\u001b[39m\u001b[38;5;241m.\u001b[39m\u001b[38;5;18m__name__\u001b[39m)\n\u001b[1;32m    112\u001b[0m \u001b[38;5;28;01mwith\u001b[39;00m torch\u001b[38;5;241m.\u001b[39mautograd\u001b[38;5;241m.\u001b[39mprofiler\u001b[38;5;241m.\u001b[39mrecord_function(profile_name):\n\u001b[0;32m--> 113\u001b[0m     \u001b[38;5;28;01mreturn\u001b[39;00m \u001b[43mfunc\u001b[49m\u001b[43m(\u001b[49m\u001b[38;5;241;43m*\u001b[39;49m\u001b[43margs\u001b[49m\u001b[43m,\u001b[49m\u001b[43m \u001b[49m\u001b[38;5;241;43m*\u001b[39;49m\u001b[38;5;241;43m*\u001b[39;49m\u001b[43mkwargs\u001b[49m\u001b[43m)\u001b[49m\n",
      "File \u001b[0;32m~/.pyenv/versions/3.8.11/lib/python3.8/site-packages/torch/autograd/grad_mode.py:27\u001b[0m, in \u001b[0;36m_DecoratorContextManager.__call__.<locals>.decorate_context\u001b[0;34m(*args, **kwargs)\u001b[0m\n\u001b[1;32m     24\u001b[0m \u001b[38;5;129m@functools\u001b[39m\u001b[38;5;241m.\u001b[39mwraps(func)\n\u001b[1;32m     25\u001b[0m \u001b[38;5;28;01mdef\u001b[39;00m \u001b[38;5;21mdecorate_context\u001b[39m(\u001b[38;5;241m*\u001b[39margs, \u001b[38;5;241m*\u001b[39m\u001b[38;5;241m*\u001b[39mkwargs):\n\u001b[1;32m     26\u001b[0m     \u001b[38;5;28;01mwith\u001b[39;00m \u001b[38;5;28mself\u001b[39m\u001b[38;5;241m.\u001b[39mclone():\n\u001b[0;32m---> 27\u001b[0m         \u001b[38;5;28;01mreturn\u001b[39;00m \u001b[43mfunc\u001b[49m\u001b[43m(\u001b[49m\u001b[38;5;241;43m*\u001b[39;49m\u001b[43margs\u001b[49m\u001b[43m,\u001b[49m\u001b[43m \u001b[49m\u001b[38;5;241;43m*\u001b[39;49m\u001b[38;5;241;43m*\u001b[39;49m\u001b[43mkwargs\u001b[49m\u001b[43m)\u001b[49m\n",
      "File \u001b[0;32m~/.pyenv/versions/3.8.11/lib/python3.8/site-packages/torch/optim/adam.py:157\u001b[0m, in \u001b[0;36mAdam.step\u001b[0;34m(self, closure)\u001b[0m\n\u001b[1;32m    153\u001b[0m                 max_exp_avg_sqs\u001b[38;5;241m.\u001b[39mappend(state[\u001b[38;5;124m'\u001b[39m\u001b[38;5;124mmax_exp_avg_sq\u001b[39m\u001b[38;5;124m'\u001b[39m])\n\u001b[1;32m    155\u001b[0m             state_steps\u001b[38;5;241m.\u001b[39mappend(state[\u001b[38;5;124m'\u001b[39m\u001b[38;5;124mstep\u001b[39m\u001b[38;5;124m'\u001b[39m])\n\u001b[0;32m--> 157\u001b[0m     \u001b[43madam\u001b[49m\u001b[43m(\u001b[49m\u001b[43mparams_with_grad\u001b[49m\u001b[43m,\u001b[49m\n\u001b[1;32m    158\u001b[0m \u001b[43m         \u001b[49m\u001b[43mgrads\u001b[49m\u001b[43m,\u001b[49m\n\u001b[1;32m    159\u001b[0m \u001b[43m         \u001b[49m\u001b[43mexp_avgs\u001b[49m\u001b[43m,\u001b[49m\n\u001b[1;32m    160\u001b[0m \u001b[43m         \u001b[49m\u001b[43mexp_avg_sqs\u001b[49m\u001b[43m,\u001b[49m\n\u001b[1;32m    161\u001b[0m \u001b[43m         \u001b[49m\u001b[43mmax_exp_avg_sqs\u001b[49m\u001b[43m,\u001b[49m\n\u001b[1;32m    162\u001b[0m \u001b[43m         \u001b[49m\u001b[43mstate_steps\u001b[49m\u001b[43m,\u001b[49m\n\u001b[1;32m    163\u001b[0m \u001b[43m         \u001b[49m\u001b[43mamsgrad\u001b[49m\u001b[38;5;241;43m=\u001b[39;49m\u001b[43mgroup\u001b[49m\u001b[43m[\u001b[49m\u001b[38;5;124;43m'\u001b[39;49m\u001b[38;5;124;43mamsgrad\u001b[39;49m\u001b[38;5;124;43m'\u001b[39;49m\u001b[43m]\u001b[49m\u001b[43m,\u001b[49m\n\u001b[1;32m    164\u001b[0m \u001b[43m         \u001b[49m\u001b[43mbeta1\u001b[49m\u001b[38;5;241;43m=\u001b[39;49m\u001b[43mbeta1\u001b[49m\u001b[43m,\u001b[49m\n\u001b[1;32m    165\u001b[0m \u001b[43m         \u001b[49m\u001b[43mbeta2\u001b[49m\u001b[38;5;241;43m=\u001b[39;49m\u001b[43mbeta2\u001b[49m\u001b[43m,\u001b[49m\n\u001b[1;32m    166\u001b[0m \u001b[43m         \u001b[49m\u001b[43mlr\u001b[49m\u001b[38;5;241;43m=\u001b[39;49m\u001b[43mgroup\u001b[49m\u001b[43m[\u001b[49m\u001b[38;5;124;43m'\u001b[39;49m\u001b[38;5;124;43mlr\u001b[39;49m\u001b[38;5;124;43m'\u001b[39;49m\u001b[43m]\u001b[49m\u001b[43m,\u001b[49m\n\u001b[1;32m    167\u001b[0m \u001b[43m         \u001b[49m\u001b[43mweight_decay\u001b[49m\u001b[38;5;241;43m=\u001b[39;49m\u001b[43mgroup\u001b[49m\u001b[43m[\u001b[49m\u001b[38;5;124;43m'\u001b[39;49m\u001b[38;5;124;43mweight_decay\u001b[39;49m\u001b[38;5;124;43m'\u001b[39;49m\u001b[43m]\u001b[49m\u001b[43m,\u001b[49m\n\u001b[1;32m    168\u001b[0m \u001b[43m         \u001b[49m\u001b[43meps\u001b[49m\u001b[38;5;241;43m=\u001b[39;49m\u001b[43mgroup\u001b[49m\u001b[43m[\u001b[49m\u001b[38;5;124;43m'\u001b[39;49m\u001b[38;5;124;43meps\u001b[39;49m\u001b[38;5;124;43m'\u001b[39;49m\u001b[43m]\u001b[49m\u001b[43m,\u001b[49m\n\u001b[1;32m    169\u001b[0m \u001b[43m         \u001b[49m\u001b[43mmaximize\u001b[49m\u001b[38;5;241;43m=\u001b[39;49m\u001b[43mgroup\u001b[49m\u001b[43m[\u001b[49m\u001b[38;5;124;43m'\u001b[39;49m\u001b[38;5;124;43mmaximize\u001b[39;49m\u001b[38;5;124;43m'\u001b[39;49m\u001b[43m]\u001b[49m\u001b[43m,\u001b[49m\n\u001b[1;32m    170\u001b[0m \u001b[43m         \u001b[49m\u001b[43mforeach\u001b[49m\u001b[38;5;241;43m=\u001b[39;49m\u001b[43mgroup\u001b[49m\u001b[43m[\u001b[49m\u001b[38;5;124;43m'\u001b[39;49m\u001b[38;5;124;43mforeach\u001b[39;49m\u001b[38;5;124;43m'\u001b[39;49m\u001b[43m]\u001b[49m\u001b[43m,\u001b[49m\n\u001b[1;32m    171\u001b[0m \u001b[43m         \u001b[49m\u001b[43mcapturable\u001b[49m\u001b[38;5;241;43m=\u001b[39;49m\u001b[43mgroup\u001b[49m\u001b[43m[\u001b[49m\u001b[38;5;124;43m'\u001b[39;49m\u001b[38;5;124;43mcapturable\u001b[39;49m\u001b[38;5;124;43m'\u001b[39;49m\u001b[43m]\u001b[49m\u001b[43m)\u001b[49m\n\u001b[1;32m    173\u001b[0m \u001b[38;5;28;01mreturn\u001b[39;00m loss\n",
      "File \u001b[0;32m~/.pyenv/versions/3.8.11/lib/python3.8/site-packages/torch/optim/adam.py:213\u001b[0m, in \u001b[0;36madam\u001b[0;34m(params, grads, exp_avgs, exp_avg_sqs, max_exp_avg_sqs, state_steps, foreach, capturable, amsgrad, beta1, beta2, lr, weight_decay, eps, maximize)\u001b[0m\n\u001b[1;32m    210\u001b[0m \u001b[38;5;28;01melse\u001b[39;00m:\n\u001b[1;32m    211\u001b[0m     func \u001b[38;5;241m=\u001b[39m _single_tensor_adam\n\u001b[0;32m--> 213\u001b[0m \u001b[43mfunc\u001b[49m\u001b[43m(\u001b[49m\u001b[43mparams\u001b[49m\u001b[43m,\u001b[49m\n\u001b[1;32m    214\u001b[0m \u001b[43m     \u001b[49m\u001b[43mgrads\u001b[49m\u001b[43m,\u001b[49m\n\u001b[1;32m    215\u001b[0m \u001b[43m     \u001b[49m\u001b[43mexp_avgs\u001b[49m\u001b[43m,\u001b[49m\n\u001b[1;32m    216\u001b[0m \u001b[43m     \u001b[49m\u001b[43mexp_avg_sqs\u001b[49m\u001b[43m,\u001b[49m\n\u001b[1;32m    217\u001b[0m \u001b[43m     \u001b[49m\u001b[43mmax_exp_avg_sqs\u001b[49m\u001b[43m,\u001b[49m\n\u001b[1;32m    218\u001b[0m \u001b[43m     \u001b[49m\u001b[43mstate_steps\u001b[49m\u001b[43m,\u001b[49m\n\u001b[1;32m    219\u001b[0m \u001b[43m     \u001b[49m\u001b[43mamsgrad\u001b[49m\u001b[38;5;241;43m=\u001b[39;49m\u001b[43mamsgrad\u001b[49m\u001b[43m,\u001b[49m\n\u001b[1;32m    220\u001b[0m \u001b[43m     \u001b[49m\u001b[43mbeta1\u001b[49m\u001b[38;5;241;43m=\u001b[39;49m\u001b[43mbeta1\u001b[49m\u001b[43m,\u001b[49m\n\u001b[1;32m    221\u001b[0m \u001b[43m     \u001b[49m\u001b[43mbeta2\u001b[49m\u001b[38;5;241;43m=\u001b[39;49m\u001b[43mbeta2\u001b[49m\u001b[43m,\u001b[49m\n\u001b[1;32m    222\u001b[0m \u001b[43m     \u001b[49m\u001b[43mlr\u001b[49m\u001b[38;5;241;43m=\u001b[39;49m\u001b[43mlr\u001b[49m\u001b[43m,\u001b[49m\n\u001b[1;32m    223\u001b[0m \u001b[43m     \u001b[49m\u001b[43mweight_decay\u001b[49m\u001b[38;5;241;43m=\u001b[39;49m\u001b[43mweight_decay\u001b[49m\u001b[43m,\u001b[49m\n\u001b[1;32m    224\u001b[0m \u001b[43m     \u001b[49m\u001b[43meps\u001b[49m\u001b[38;5;241;43m=\u001b[39;49m\u001b[43meps\u001b[49m\u001b[43m,\u001b[49m\n\u001b[1;32m    225\u001b[0m \u001b[43m     \u001b[49m\u001b[43mmaximize\u001b[49m\u001b[38;5;241;43m=\u001b[39;49m\u001b[43mmaximize\u001b[49m\u001b[43m,\u001b[49m\n\u001b[1;32m    226\u001b[0m \u001b[43m     \u001b[49m\u001b[43mcapturable\u001b[49m\u001b[38;5;241;43m=\u001b[39;49m\u001b[43mcapturable\u001b[49m\u001b[43m)\u001b[49m\n",
      "File \u001b[0;32m~/.pyenv/versions/3.8.11/lib/python3.8/site-packages/torch/optim/adam.py:307\u001b[0m, in \u001b[0;36m_single_tensor_adam\u001b[0;34m(params, grads, exp_avgs, exp_avg_sqs, max_exp_avg_sqs, state_steps, amsgrad, beta1, beta2, lr, weight_decay, eps, maximize, capturable)\u001b[0m\n\u001b[1;32m    304\u001b[0m \u001b[38;5;28;01melse\u001b[39;00m:\n\u001b[1;32m    305\u001b[0m     denom \u001b[38;5;241m=\u001b[39m (exp_avg_sq\u001b[38;5;241m.\u001b[39msqrt() \u001b[38;5;241m/\u001b[39m bias_correction2_sqrt)\u001b[38;5;241m.\u001b[39madd_(eps)\n\u001b[0;32m--> 307\u001b[0m \u001b[43mparam\u001b[49m\u001b[38;5;241;43m.\u001b[39;49m\u001b[43maddcdiv_\u001b[49m\u001b[43m(\u001b[49m\u001b[43mexp_avg\u001b[49m\u001b[43m,\u001b[49m\u001b[43m \u001b[49m\u001b[43mdenom\u001b[49m\u001b[43m,\u001b[49m\u001b[43m \u001b[49m\u001b[43mvalue\u001b[49m\u001b[38;5;241;43m=\u001b[39;49m\u001b[38;5;241;43m-\u001b[39;49m\u001b[43mstep_size\u001b[49m\u001b[43m)\u001b[49m\n",
      "\u001b[0;31mKeyboardInterrupt\u001b[0m: "
     ]
    }
   ],
   "source": [
    "evaluate_synthesizer = CTGANSynthesizer\n",
    "# duplicate\n",
    "for c in [5]:\n",
    "    for r in  [1000, 10000]:\n",
    "        file_name = BASE_MOCK_HOSP_PATH + f\"/{c}_data_fields/hosp_{r}x{c}.csv\"\n",
    "        hosp_df = pd.read_csv(file_name)\n",
    "        hosp_metadata = detect_metadata(hosp_df)\n",
    "        \n",
    "        synthesizer = evaluate_synthesizer(hosp_metadata, enforce_min_max_values=True, enforce_rounding=False)\n",
    "\n",
    "        print(\"#\"*30)\n",
    "        print(f\"Generating for: {file_name}\")\n",
    "        print(\"-\"*30)\n",
    "        pprint(get_model_time_score(synthesizer, hosp_metadata, hosp_df, hosp_df.shape[0], True, True))"
   ]
  },
  {
   "cell_type": "markdown",
   "id": "252d8d2c-b7cd-4a01-820c-592e5913577b",
   "metadata": {},
   "source": [
    "# Gaussina Copula "
   ]
  },
  {
   "cell_type": "code",
   "execution_count": 29,
   "id": "78f32108-a4b1-478d-9d4f-9ebc2c417c88",
   "metadata": {},
   "outputs": [
    {
     "name": "stdout",
     "output_type": "stream",
     "text": [
      "{'METADATA_SPEC_VERSION': 'SINGLE_TABLE_V1',\n",
      " 'columns': {'Age': {'sdtype': 'numerical'},\n",
      "             'DateOfDiagnosis': {'sdtype': 'categorical'},\n",
      "             'Gender': {'sdtype': 'categorical'},\n",
      "             'NRIC': {'sdtype': 'categorical'},\n",
      "             'Name': {'sdtype': 'categorical'}}}\n",
      "##############################\n",
      "Generating for: synthetic_data/5_data_fields/hosp_1000x5.csv\n",
      "------------------------------\n"
     ]
    },
    {
     "name": "stderr",
     "output_type": "stream",
     "text": [
      "Creating report: 100%|████████████████████████████████████████████████████████████████████████████████████████████████████████████████████████████████████████████████████████████████████████████████████| 4/4 [00:06<00:00,  1.72s/it]\n"
     ]
    },
    {
     "name": "stdout",
     "output_type": "stream",
     "text": [
      "\n",
      "Overall Quality Score: 50.5%\n",
      "\n",
      "Properties:\n",
      "Column Shapes: 77.28%\n",
      "Column Pair Trends: 23.72%\n"
     ]
    },
    {
     "name": "stderr",
     "output_type": "stream",
     "text": [
      "Creating report: 100%|████████████████████████████████████████████████████████████████████████████████████████████████████████████████████████████████████████████████████████████████████████████████████| 4/4 [00:03<00:00,  1.05it/s]\n"
     ]
    },
    {
     "name": "stdout",
     "output_type": "stream",
     "text": [
      "\n",
      "DiagnosticResults:\n",
      "\n",
      "SUCCESS:\n",
      "✓ The synthetic data covers over 90% of the numerical ranges present in the real data\n",
      "✓ Over 90% of the synthetic rows are not copies of the real data\n",
      "✓ The synthetic data follows over 90% of the min/max boundaries set by the real data\n",
      "\n",
      "WARNING:\n",
      "! The synthetic data is missing more than 10% of the categories present in the real data\n",
      "{'diagnostic_report': {'diagnostic_report_obj': <sdmetrics.reports.single_table.diagnostic_report.DiagnosticReport object at 0x14ab27f70>,\n",
      "                       'diagnostic_report_time': 3.8298580646514893},\n",
      " 'quality_report': {'quality_report_obj': <sdmetrics.reports.single_table.quality_report.QualityReport object at 0x14ab30c10>,\n",
      "                    'quality_report_score': 0.5049999999999999,\n",
      "                    'quality_report_time': 7.656247138977051},\n",
      " 'sampling_time': 0.08017420768737793,\n",
      " 'training_time': 0.5256392955780029}\n",
      "{'METADATA_SPEC_VERSION': 'SINGLE_TABLE_V1',\n",
      " 'columns': {'Age': {'sdtype': 'numerical'},\n",
      "             'DateOfDiagnosis': {'sdtype': 'categorical'},\n",
      "             'Gender': {'sdtype': 'categorical'},\n",
      "             'NRIC': {'sdtype': 'categorical'},\n",
      "             'Name': {'sdtype': 'categorical'}}}\n",
      "##############################\n",
      "Generating for: synthetic_data/5_data_fields/hosp_10000x5.csv\n",
      "------------------------------\n"
     ]
    },
    {
     "name": "stderr",
     "output_type": "stream",
     "text": [
      "Creating report: 100%|███████████████████████████████████████████████████████████████████████████████████████████████████████████████████████████████████████████████████████████████████████████████████| 4/4 [38:39<00:00, 579.84s/it]\n"
     ]
    },
    {
     "name": "stdout",
     "output_type": "stream",
     "text": [
      "\n",
      "Overall Quality Score: 51.62%\n",
      "\n",
      "Properties:\n",
      "Column Shapes: 77.91%\n",
      "Column Pair Trends: 25.33%\n"
     ]
    },
    {
     "name": "stderr",
     "output_type": "stream",
     "text": [
      "Creating report: 100%|██████████████████████████████████████████████████████████████████████████████████████████████████████████████████████████████████████████████████████████████████████████████████| 4/4 [00:32<00:00,  8.10s/it]"
     ]
    },
    {
     "name": "stdout",
     "output_type": "stream",
     "text": [
      "\n",
      "DiagnosticResults:\n",
      "\n",
      "SUCCESS:\n",
      "✓ The synthetic data covers over 90% of the numerical ranges present in the real data\n",
      "✓ Over 90% of the synthetic rows are not copies of the real data\n",
      "✓ The synthetic data follows over 90% of the min/max boundaries set by the real data\n",
      "\n",
      "WARNING:\n",
      "! The synthetic data is missing more than 10% of the categories present in the real data\n",
      "{'diagnostic_report': {'diagnostic_report_obj': <sdmetrics.reports.single_table.diagnostic_report.DiagnosticReport object at 0x143f9e880>,\n",
      "                       'diagnostic_report_time': 32.387190103530884},\n",
      " 'quality_report': {'quality_report_obj': <sdmetrics.reports.single_table.quality_report.QualityReport object at 0x14ab78310>,\n",
      "                    'quality_report_score': 0.5162100000000078,\n",
      "                    'quality_report_time': 2325.6293292045593},\n",
      " 'sampling_time': 0.138502836227417,\n",
      " 'training_time': 0.842177152633667}\n"
     ]
    },
    {
     "name": "stderr",
     "output_type": "stream",
     "text": [
      "\n"
     ]
    }
   ],
   "source": [
    "evaluate_synthesizer = GaussianCopulaSynthesizer\n",
    "# duplicate\n",
    "for c in [5]:\n",
    "    for r in  [1000, 10000]:\n",
    "        file_name = BASE_MOCK_HOSP_PATH + f\"/{c}_data_fields/hosp_{r}x{c}.csv\"\n",
    "        hosp_df = pd.read_csv(file_name)\n",
    "        hosp_metadata = detect_metadata(hosp_df)\n",
    "        \n",
    "        synthesizer = evaluate_synthesizer(hosp_metadata, enforce_min_max_values=True, enforce_rounding=False)\n",
    "\n",
    "        print(\"#\"*30)\n",
    "        print(f\"Generating for: {file_name}\")\n",
    "        print(\"-\"*30)\n",
    "        pprint(get_model_time_score(synthesizer, hosp_metadata, hosp_df, hosp_df.shape[0], True, True))"
   ]
  },
  {
   "cell_type": "markdown",
   "id": "652f5e31-8e92-4e67-af58-fbec276697b3",
   "metadata": {},
   "source": [
    "### 3.3. Real-data"
   ]
  },
  {
   "cell_type": "code",
   "execution_count": null,
   "id": "4aa60993-5a41-4227-9934-7a313772d77b",
   "metadata": {},
   "outputs": [],
   "source": [
    "# for file_name in REAL_DATA_LIST:\n",
    "#     real_df = pd.read_csv(file_name)\n",
    "#     real_metadata = detect_metadata(real_df)\n",
    "    \n",
    "#     synthesizer = evaluate_synthesizer(real_metadata)\n",
    "\n",
    "#     print(\"#\"*30)\n",
    "#     print(f\"Generating for: {file_name} {real_df.shape}\")\n",
    "#     print(get_model_time_score(synthesizer, real_metadata, real_df, samples=real_df.shape[0]))\n",
    "#     print(\"#\"*30)"
   ]
  },
  {
   "cell_type": "code",
   "execution_count": null,
   "id": "9918f821-3277-4869-b5d2-2e2af91806a7",
   "metadata": {},
   "outputs": [],
   "source": []
  },
  {
   "cell_type": "code",
   "execution_count": null,
   "id": "9458addd-8d5f-4a5f-97fd-f5d6e6714747",
   "metadata": {},
   "outputs": [],
   "source": []
  },
  {
   "cell_type": "code",
   "execution_count": null,
   "id": "2d69ea9d-822b-4264-85ce-b1e4259e70d6",
   "metadata": {},
   "outputs": [],
   "source": []
  },
  {
   "cell_type": "code",
   "execution_count": null,
   "id": "7fd7730a-d7da-4ef0-8c88-36c04bb99057",
   "metadata": {},
   "outputs": [],
   "source": []
  },
  {
   "cell_type": "markdown",
   "id": "8a33d9c8-81e5-4880-b280-8ac00d2a4bc9",
   "metadata": {
    "tags": []
   },
   "source": [
    "# Dumps"
   ]
  },
  {
   "cell_type": "code",
   "execution_count": null,
   "id": "e2441620-75e8-4052-ad89-98e0d2669d68",
   "metadata": {},
   "outputs": [],
   "source": [
    "quality_report.get_visualization('Column Shapes')"
   ]
  },
  {
   "cell_type": "code",
   "execution_count": null,
   "id": "b1f7bd2b-b811-41fb-8f83-d92d6c0f16e8",
   "metadata": {},
   "outputs": [],
   "source": [
    "custom_synthesizer = GaussianCopulaSynthesizer(\n",
    "    metadata,\n",
    "    default_distribution='truncnorm',\n",
    "    numerical_distributions={\n",
    "        'checkin_date': 'uniform',\n",
    "        'checkout_date': 'uniform',\n",
    "        'room_rate': 'gaussian_kde'\n",
    "    }\n",
    ")\n",
    "\n",
    "custom_synthesizer.fit(real_data)"
   ]
  },
  {
   "cell_type": "code",
   "execution_count": null,
   "id": "e25dd685-e7a6-4daa-85a3-6ab6550ad3ab",
   "metadata": {},
   "outputs": [],
   "source": [
    "learned_distributions = custom_synthesizer.get_learned_distributions()\n",
    "learned_distributions['has_rewards']"
   ]
  },
  {
   "cell_type": "code",
   "execution_count": null,
   "id": "b387c48f-2555-42fd-b499-71ac1f8db336",
   "metadata": {},
   "outputs": [],
   "source": [
    "synthetic_data_customized = custom_synthesizer.sample(num_rows=500)\n",
    "\n",
    "quality_report = evaluate_quality(\n",
    "    real_data,\n",
    "    synthetic_data_customized,\n",
    "    metadata\n",
    ")"
   ]
  },
  {
   "cell_type": "code",
   "execution_count": null,
   "id": "78200ced-4b88-4fce-a557-03111b1c244b",
   "metadata": {},
   "outputs": [],
   "source": [
    "fig = get_column_plot(\n",
    "    real_data=real_data,\n",
    "    synthetic_data=synthetic_data_customized,\n",
    "    column_name='room_rate',\n",
    "    metadata=metadata\n",
    ")\n",
    "    \n",
    "fig.show()"
   ]
  },
  {
   "cell_type": "code",
   "execution_count": null,
   "id": "70e5c278-c28b-4827-9bc0-d0b512445e47",
   "metadata": {},
   "outputs": [],
   "source": [
    "from sdv.sampling import Condition\n",
    "\n",
    "suite_guests_with_rewards = Condition(\n",
    "    num_rows=250,\n",
    "    column_values={'room_type': 'SUITE', 'has_rewards': True}\n",
    ")\n",
    "\n",
    "suite_guests_without_rewards = Condition(\n",
    "    num_rows=250,\n",
    "    column_values={'room_type': 'SUITE', 'has_rewards': False}\n",
    ")"
   ]
  }
 ],
 "metadata": {
  "kernelspec": {
   "display_name": "Python 3 (ipykernel)",
   "language": "python",
   "name": "python3"
  },
  "language_info": {
   "codemirror_mode": {
    "name": "ipython",
    "version": 3
   },
   "file_extension": ".py",
   "mimetype": "text/x-python",
   "name": "python",
   "nbconvert_exporter": "python",
   "pygments_lexer": "ipython3",
   "version": "3.8.11"
  }
 },
 "nbformat": 4,
 "nbformat_minor": 5
}
