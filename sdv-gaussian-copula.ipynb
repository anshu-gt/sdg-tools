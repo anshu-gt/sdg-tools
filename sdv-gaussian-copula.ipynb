{
 "cells": [
  {
   "cell_type": "code",
   "execution_count": 28,
   "id": "eba7a1f0-4032-4017-a253-32198652788f",
   "metadata": {},
   "outputs": [],
   "source": [
    "import time\n",
    "import pandas as pd\n",
    "\n",
    "# models \n",
    "from sdv.single_table import GaussianCopulaSynthesizer\n",
    "from sdv.single_table import CTGANSynthesizer\n",
    "from sdv.single_table import TVAESynthesizer\n",
    "\n",
    "# autodetection of metadata\n",
    "from sdv.metadata import SingleTableMetadata\n",
    "\n",
    "# evaluation of synthetic data\n",
    "from sdv.evaluation.single_table import evaluate_quality\n",
    "from sdv.evaluation.single_table import run_diagnostic\n",
    "\n",
    "from sdv.datasets.demo import download_demo\n",
    "\n",
    "# visualisation\n",
    "# from sdv.evaluation.single_table import get_column_plot"
   ]
  },
  {
   "cell_type": "code",
   "execution_count": 11,
   "id": "ec2541a7-e3ef-464d-b8ab-3c07d34367e0",
   "metadata": {},
   "outputs": [],
   "source": [
    "import warnings\n",
    "warnings.filterwarnings('ignore')\n",
    "\n",
    "from pprint import pprint"
   ]
  },
  {
   "cell_type": "markdown",
   "id": "2421a448-def3-4a24-ab4d-307069a6e852",
   "metadata": {},
   "source": [
    "# Notes"
   ]
  },
  {
   "cell_type": "markdown",
   "id": "d174b723-c395-48fa-b9d2-cd72424d7088",
   "metadata": {},
   "source": [
    "### Synthesizers -- models to generate synthetic data \n",
    "\n",
    "Models to generate single table data \n",
    "- Gaussian Copula -- Statistical modelling | most customizable and faster \n",
    "- CTGAN – GAN-based (Deep learning) | high fidelity dataset, training time required\n",
    "- TVAE – variational autoencoder (Deep learning)| high fidelity dataset, training time required\n",
    "\n",
    "Others\n",
    "- PAR  (?) – for sequential\n",
    "- HMA  (?) - for multi-table\n",
    "\n",
    "**Notebook focuses on Gaussian Copula, CTGAN, TVAE** "
   ]
  },
  {
   "cell_type": "markdown",
   "id": "24ae1aff-4d05-4669-ab76-89fd770db090",
   "metadata": {},
   "source": [
    "Inputs required for the synthesizers \n",
    "- Metadata (Required)\n",
    "- Real Data (Required)\n",
    "- Customisable parameters (Optional)"
   ]
  },
  {
   "cell_type": "markdown",
   "id": "c0d4289f-ad7f-4bfe-beab-76b95dcb190b",
   "metadata": {},
   "source": [
    "### Autodetecting metadata "
   ]
  },
  {
   "cell_type": "markdown",
   "id": "8250b2d3-8607-402e-a33a-d061ad51f37e",
   "metadata": {},
   "source": [
    "[From the Doc]\n",
    "The detected metadata is not guaranteed to be accurate or complete. Be sure to carefully inspect the metadata and update information.\n",
    "- Primary keys and other identifiers are not auto-detected. See set_primary_key and add_alternate_keys method to add them.\n",
    "- Dates and sensitive information may be auto-detected incorrectly. See update_column method to update them."
   ]
  },
  {
   "cell_type": "markdown",
   "id": "c9912e51-26c0-461a-a9f7-63cc32645ea0",
   "metadata": {},
   "source": [
    "### Evaluation Report"
   ]
  },
  {
   "cell_type": "markdown",
   "id": "6bd6d530-6ca9-47a4-824f-e0ceefc58f4d",
   "metadata": {},
   "source": [
    "**Quality Report**\n",
    "For checking data  Fidelity:  How well the synthetic data captures mathematical properties from your real data.\n",
    "\n",
    "Evaluates: \n",
    "- Overall score including Column Shapes, Columns Pair Trends\n",
    "- Metrics and score details for Column Shapes, Columns Pair Trends\n",
    "- All scaore range from 0 to 1\n",
    "\n",
    "**Diagnoistic Report** \n",
    "Give a general sense of the strengths and weakness of the synthetic data model. \n",
    "Evaluates: \n",
    "- Overall [diagnosic results](https://docs.sdv.dev/sdmetrics/reports/diagnostic-report/single-table-api#get_results) -- SUCCESS, WARNING, DANGER \n",
    "- Properties -- Syntheiss, Coverage, Boundaries "
   ]
  },
  {
   "cell_type": "markdown",
   "id": "0787a619-a0d9-4e72-87f5-bae6141f5a5d",
   "metadata": {},
   "source": [
    "# Experiments "
   ]
  },
  {
   "cell_type": "markdown",
   "id": "f027881e-8fc4-4ab8-8456-5ce8f36b3a48",
   "metadata": {},
   "source": [
    "**Mock Data**\n",
    "- SDV demo data \n",
    "- simulated_hospital_data with varying: (1) num of columns -- 5, 10, 20 (2) num of rows -- 1k, 10k, 50k, 100k"
   ]
  },
  {
   "cell_type": "code",
   "execution_count": 33,
   "id": "ca0ba74b-656a-4c21-9d96-e6568124e76a",
   "metadata": {},
   "outputs": [],
   "source": [
    "BASE_MOCK_HOSP_PATh = \"synthetic_data/clean/\"\n",
    "\n",
    "str_num_rows = [1000, 10000, 50000, 100000]\n",
    "str_num_columns = [5, 10, 20]"
   ]
  },
  {
   "cell_type": "markdown",
   "id": "549cfb35-c9a5-4aac-baed-6c22132d135d",
   "metadata": {},
   "source": [
    "**Real Data** (TODO)\n",
    "\n",
    "Output sample size is set the same as the input dataset size. "
   ]
  },
  {
   "cell_type": "code",
   "execution_count": 32,
   "id": "e118be08-db36-44b4-ab3a-bb8cef3e093a",
   "metadata": {},
   "outputs": [],
   "source": [
    "REAL_DATA_LIST = [\"real_data/time_use.csv\", \"real_data/time_use.csv\", \"real_data/community_survey.csv\", \"real_data/census_tract_data.csv\"] "
   ]
  },
  {
   "cell_type": "markdown",
   "id": "90df69ca-c2f6-459a-b270-b46a20179ea6",
   "metadata": {},
   "source": [
    "## Utility functions"
   ]
  },
  {
   "cell_type": "code",
   "execution_count": 14,
   "id": "92acf8d2-d7ea-44d6-9bac-ec1bcdd63e6c",
   "metadata": {},
   "outputs": [],
   "source": [
    "def get_model_time_score(synthesizer, metadata, real_data, samples=500, gen_quality_report=False, gen_diagnostic_report=True): \n",
    "    \n",
    "    # ---------------------\n",
    "    # Step 1: Train\n",
    "    # ---------------------\n",
    "    begin_time = time.time()\n",
    "    synthesizer = GaussianCopulaSynthesizer(metadata, enforce_min_max_values=True, enforce_rounding=False)\n",
    "    synthesizer.fit(real_data)\n",
    "    end_time = time.time()\n",
    "    \n",
    "    training_time = end_time - begin_time\n",
    "    \n",
    "    # ---------------------\n",
    "    # Step 2: Sample\n",
    "    # ---------------------\n",
    "    begin_time = time.time()\n",
    "    synthetic_data = synthesizer.sample(num_rows=samples)\n",
    "    end_time = time.time()\n",
    "    \n",
    "    sampling_time = end_time - begin_time\n",
    "    \n",
    "    # ---------------------\n",
    "    # Step 3: Evaluate\n",
    "    # ---------------------\n",
    "\n",
    "    # 1. QUALITY REPORT\n",
    "    # time consuming so keeping conditional\n",
    "    if gen_quality_report:\n",
    "        begin_time = time.time()\n",
    "        quality_report_obj = evaluate_quality(\n",
    "                real_data,\n",
    "                synthetic_data,\n",
    "                metadata\n",
    "            )\n",
    "        end_time = time.time()\n",
    "        \n",
    "        quality_report_time = end_time - begin_time\n",
    "        \n",
    "        quality_report = { \n",
    "            \"quality_report_obj\": quality_report_obj,\n",
    "            \"quality_report_time\": quality_report_time,\n",
    "            \"quality_report_score\": quality_report_obj.get_score()\n",
    "        }\n",
    "        \n",
    "    # 2. DIAGNOSTIC REPORT\n",
    "    if gen_diagnostic_report:\n",
    "        begin_time = time.time()\n",
    "        diagnostic_report_obj = run_diagnostic(\n",
    "                real_data,\n",
    "                synthetic_data,\n",
    "                metadata\n",
    "            )\n",
    "        end_time = time.time()\n",
    "        \n",
    "        diagnostic_report_time = end_time - begin_time\n",
    "        \n",
    "        diagnostic_report = { \n",
    "            \"diagnostic_report_obj\": diagnostic_report_obj,\n",
    "            \"diagnostic_report_time\": diagnostic_report_time\n",
    "            \n",
    "        }\n",
    "        \n",
    "    return {\n",
    "            \"training_time\": training_time,\n",
    "            \"sampling_time\": sampling_time,\n",
    "            \"quality_report\": quality_report if gen_quality_report else None,\n",
    "            \"diagnostic_report\": diagnostic_report}"
   ]
  },
  {
   "cell_type": "code",
   "execution_count": 22,
   "id": "3aaef70d-b3fb-40dd-b828-5baa96962fc3",
   "metadata": {},
   "outputs": [],
   "source": [
    "def detect_metadata(real_data_df): \n",
    "    metadata = SingleTableMetadata()\n",
    "    metadata.detect_from_dataframe(data=real_data_df)\n",
    "    pprint(metadata.to_dict())\n",
    "#     python_dict = metadata.to_dict()\n",
    "    return metadata"
   ]
  },
  {
   "cell_type": "markdown",
   "id": "b0ea82be-c6f7-49d3-9da3-857bba3fcd39",
   "metadata": {},
   "source": [
    "# 1. Gaussian Copula Model "
   ]
  },
  {
   "cell_type": "code",
   "execution_count": 35,
   "id": "f4efa7ea-c152-4610-8d2e-91ba78ce6819",
   "metadata": {},
   "outputs": [],
   "source": [
    "evaluate_synthesizer = GaussianCopulaSynthesizer"
   ]
  },
  {
   "cell_type": "markdown",
   "id": "86960375-21b7-49e4-b960-27aafba3e5b4",
   "metadata": {},
   "source": [
    "### 1.1. Mock SDV demo data"
   ]
  },
  {
   "cell_type": "code",
   "execution_count": null,
   "id": "21fe5e02-13a8-4282-a793-4165f94aeb26",
   "metadata": {},
   "outputs": [],
   "source": [
    "demo_data, demo_metadata = download_demo(\n",
    "    modality='single_table',\n",
    "    dataset_name='fake_hotel_guests'\n",
    ")\n",
    "\n",
    "pprint(demo_metadata)\n",
    "synthesizer = evaluate_synthesizer(demo_metadata)\n",
    "\n",
    "pprint(get_model_time_score(synthesizer, demo_metadata, real_demo_data, 500, True, True))"
   ]
  },
  {
   "cell_type": "markdown",
   "id": "36ba9e20-8731-4717-98f2-8741af71ab8a",
   "metadata": {},
   "source": [
    "### 1.2. Mock hospital data"
   ]
  },
  {
   "cell_type": "markdown",
   "id": "7155878a-0353-4f45-8575-088a4e4345b2",
   "metadata": {
    "tags": []
   },
   "source": [
    "**Varying number of rows and columns**"
   ]
  },
  {
   "cell_type": "code",
   "execution_count": null,
   "id": "09f139e5-51c3-433e-8da2-f984ee50e805",
   "metadata": {},
   "outputs": [],
   "source": [
    "for c in str_num_columns:\n",
    "    for r in str_num_rows:\n",
    "        file_name = BASE_MOCK_HOSP_PATh + f\"{c}_data_fields/hosp_{r}x{c}.csv\"\n",
    "        hosp_df = pd.read_csv(file_name)\n",
    "        hosp_metadata = detect_metadata(hosp_df)\n",
    "        \n",
    "        synthesizer = evaluate_synthesizer(hosp_metadata)\n",
    "\n",
    "        print(\"#\"*30)\n",
    "        print(f\"Generating for: {file_name}\")\n",
    "        print(\"-\"*30)\n",
    "        pprint(get_model_time_score(synthesizer, hosp_metadata, hosp_df, samples=hosp_df.shape[0]))"
   ]
  },
  {
   "cell_type": "markdown",
   "id": "dbcfa6ee-3fcb-4ccb-875a-f249dcddde7e",
   "metadata": {},
   "source": [
    "### 1.3. Real-world data"
   ]
  },
  {
   "cell_type": "code",
   "execution_count": null,
   "id": "b4795bdc-41f8-4502-ac92-ab5fa2ca9f34",
   "metadata": {},
   "outputs": [],
   "source": [
    "for file_name in REAL_DATA_LIST:\n",
    "    real_df = pd.read_csv(file_name)\n",
    "    real_metadata = detect_metadata(real_df)\n",
    "    \n",
    "    synthesizer = evaluate_synthesizer(real_metadata)\n",
    "\n",
    "    print(\"#\"*30)\n",
    "    print(f\"Generating for: {file_name} {real_df.shape}\")\n",
    "    print(get_model_time_score(synthesizer, real_metadata, real_df, samples=real_df.shape[0]), True, True)\n",
    "    print(\"#\"*30)"
   ]
  },
  {
   "cell_type": "markdown",
   "id": "71c792e7-b03a-4233-84d6-6b7f4947fa77",
   "metadata": {},
   "source": [
    "# 2. CTGAN Model"
   ]
  },
  {
   "cell_type": "code",
   "execution_count": 36,
   "id": "9f7aa2bd-5184-4b3d-9a19-6efdf0280cf0",
   "metadata": {},
   "outputs": [],
   "source": [
    "evaluate_synthesizer = CTGANSynthesizer"
   ]
  },
  {
   "cell_type": "code",
   "execution_count": null,
   "id": "dc74a70a-6d73-4461-9ddc-894026fd1c22",
   "metadata": {},
   "outputs": [],
   "source": [
    "demo_data, demo_metadata = download_demo(\n",
    "    modality='single_table',\n",
    "    dataset_name='fake_hotel_guests'\n",
    ")\n",
    "\n",
    "pprint(demo_metadata)\n",
    "synthesizer = evaluate_synthesizer(demo_metadata)\n",
    "\n",
    "pprint(get_model_time_score(synthesizer, demo_metadata, real_demo_data, 500, True, True))"
   ]
  },
  {
   "cell_type": "code",
   "execution_count": null,
   "id": "dedd9fa0-9be3-4532-be39-859fe771c7d6",
   "metadata": {},
   "outputs": [],
   "source": [
    "for c in str_num_columns:\n",
    "    for r in str_num_rows:\n",
    "        file_name = BASE_MOCK_HOSP_PATh + f\"{c}_data_fields/hosp_{r}x{c}.csv\"\n",
    "        hosp_df = pd.read_csv(file_name)\n",
    "        hosp_metadata = detect_metadata(hosp_df)\n",
    "        \n",
    "        synthesizer = evaluate_synthesizer(hosp_metadata)\n",
    "\n",
    "        print(\"#\"*30)\n",
    "        print(f\"Generating for: {file_name}\")\n",
    "        print(\"-\"*30)\n",
    "        pprint(get_model_time_score(synthesizer, hosp_metadata, hosp_df, samples=hosp_df.shape[0]))"
   ]
  },
  {
   "cell_type": "code",
   "execution_count": null,
   "id": "27445bda-a0fd-41cc-8fe5-2b40ee764231",
   "metadata": {},
   "outputs": [],
   "source": [
    "for file_name in REAL_DATA_LIST:\n",
    "    real_df = pd.read_csv(file_name)\n",
    "    real_metadata = detect_metadata(real_df)\n",
    "    \n",
    "    synthesizer = evaluate_synthesizer(real_metadata)\n",
    "\n",
    "    print(\"#\"*30)\n",
    "    print(f\"Generating for: {file_name} {real_df.shape}\")\n",
    "    print(get_model_time_score(synthesizer, real_metadata, real_df, samples=real_df.shape[0]), True, True)\n",
    "    print(\"#\"*30)"
   ]
  },
  {
   "cell_type": "markdown",
   "id": "b4c7a681-4a86-438e-882f-903d67f97680",
   "metadata": {},
   "source": [
    "# 3. TVAE Model"
   ]
  },
  {
   "cell_type": "code",
   "execution_count": null,
   "id": "5193d1e8-09f1-4a8e-b51a-44a9590d7fe9",
   "metadata": {},
   "outputs": [],
   "source": [
    "evaluate_synthesizer = TVAESynthesizer"
   ]
  },
  {
   "cell_type": "code",
   "execution_count": null,
   "id": "23056372-2405-4781-9ba1-97811315c08d",
   "metadata": {},
   "outputs": [],
   "source": [
    "demo_data, demo_metadata = download_demo(\n",
    "    modality='single_table',\n",
    "    dataset_name='fake_hotel_guests'\n",
    ")\n",
    "\n",
    "pprint(demo_metadata)\n",
    "synthesizer = evaluate_synthesizer(demo_metadata)\n",
    "\n",
    "pprint(get_model_time_score(synthesizer, demo_metadata, real_demo_data, 500, True, True))"
   ]
  },
  {
   "cell_type": "code",
   "execution_count": null,
   "id": "63ac67d3-86cf-4067-80bb-4650b4a473bc",
   "metadata": {},
   "outputs": [],
   "source": [
    "for c in str_num_columns:\n",
    "    for r in str_num_rows:\n",
    "        file_name = BASE_MOCK_HOSP_PATh + f\"{c}_data_fields/hosp_{r}x{c}.csv\"\n",
    "        hosp_df = pd.read_csv(file_name)\n",
    "        hosp_metadata = detect_metadata(hosp_df)\n",
    "        \n",
    "        synthesizer = evaluate_synthesizer(hosp_metadata)\n",
    "\n",
    "        print(\"#\"*30)\n",
    "        print(f\"Generating for: {file_name}\")\n",
    "        print(\"-\"*30)\n",
    "        pprint(get_model_time_score(synthesizer, hosp_metadata, hosp_df, samples=hosp_df.shape[0]))"
   ]
  },
  {
   "cell_type": "code",
   "execution_count": null,
   "id": "4aa60993-5a41-4227-9934-7a313772d77b",
   "metadata": {},
   "outputs": [],
   "source": [
    "for file_name in REAL_DATA_LIST:\n",
    "    real_df = pd.read_csv(file_name)\n",
    "    real_metadata = detect_metadata(real_df)\n",
    "    \n",
    "    synthesizer = evaluate_synthesizer(real_metadata)\n",
    "\n",
    "    print(\"#\"*30)\n",
    "    print(f\"Generating for: {file_name} {real_df.shape}\")\n",
    "    print(get_model_time_score(synthesizer, real_metadata, real_df, samples=real_df.shape[0]), True, True)\n",
    "    print(\"#\"*30)"
   ]
  },
  {
   "cell_type": "code",
   "execution_count": null,
   "id": "9918f821-3277-4869-b5d2-2e2af91806a7",
   "metadata": {},
   "outputs": [],
   "source": []
  },
  {
   "cell_type": "code",
   "execution_count": null,
   "id": "9458addd-8d5f-4a5f-97fd-f5d6e6714747",
   "metadata": {},
   "outputs": [],
   "source": []
  },
  {
   "cell_type": "code",
   "execution_count": null,
   "id": "2d69ea9d-822b-4264-85ce-b1e4259e70d6",
   "metadata": {},
   "outputs": [],
   "source": []
  },
  {
   "cell_type": "code",
   "execution_count": null,
   "id": "7fd7730a-d7da-4ef0-8c88-36c04bb99057",
   "metadata": {},
   "outputs": [],
   "source": []
  },
  {
   "cell_type": "markdown",
   "id": "8a33d9c8-81e5-4880-b280-8ac00d2a4bc9",
   "metadata": {
    "tags": []
   },
   "source": [
    "# Dumps"
   ]
  },
  {
   "cell_type": "code",
   "execution_count": null,
   "id": "e2441620-75e8-4052-ad89-98e0d2669d68",
   "metadata": {},
   "outputs": [],
   "source": [
    "quality_report.get_visualization('Column Shapes')"
   ]
  },
  {
   "cell_type": "code",
   "execution_count": null,
   "id": "b1f7bd2b-b811-41fb-8f83-d92d6c0f16e8",
   "metadata": {},
   "outputs": [],
   "source": [
    "custom_synthesizer = GaussianCopulaSynthesizer(\n",
    "    metadata,\n",
    "    default_distribution='truncnorm',\n",
    "    numerical_distributions={\n",
    "        'checkin_date': 'uniform',\n",
    "        'checkout_date': 'uniform',\n",
    "        'room_rate': 'gaussian_kde'\n",
    "    }\n",
    ")\n",
    "\n",
    "custom_synthesizer.fit(real_data)"
   ]
  },
  {
   "cell_type": "code",
   "execution_count": null,
   "id": "e25dd685-e7a6-4daa-85a3-6ab6550ad3ab",
   "metadata": {},
   "outputs": [],
   "source": [
    "learned_distributions = custom_synthesizer.get_learned_distributions()\n",
    "learned_distributions['has_rewards']"
   ]
  },
  {
   "cell_type": "code",
   "execution_count": null,
   "id": "b387c48f-2555-42fd-b499-71ac1f8db336",
   "metadata": {},
   "outputs": [],
   "source": [
    "synthetic_data_customized = custom_synthesizer.sample(num_rows=500)\n",
    "\n",
    "quality_report = evaluate_quality(\n",
    "    real_data,\n",
    "    synthetic_data_customized,\n",
    "    metadata\n",
    ")"
   ]
  },
  {
   "cell_type": "code",
   "execution_count": null,
   "id": "78200ced-4b88-4fce-a557-03111b1c244b",
   "metadata": {},
   "outputs": [],
   "source": [
    "fig = get_column_plot(\n",
    "    real_data=real_data,\n",
    "    synthetic_data=synthetic_data_customized,\n",
    "    column_name='room_rate',\n",
    "    metadata=metadata\n",
    ")\n",
    "    \n",
    "fig.show()"
   ]
  },
  {
   "cell_type": "code",
   "execution_count": null,
   "id": "70e5c278-c28b-4827-9bc0-d0b512445e47",
   "metadata": {},
   "outputs": [],
   "source": [
    "from sdv.sampling import Condition\n",
    "\n",
    "suite_guests_with_rewards = Condition(\n",
    "    num_rows=250,\n",
    "    column_values={'room_type': 'SUITE', 'has_rewards': True}\n",
    ")\n",
    "\n",
    "suite_guests_without_rewards = Condition(\n",
    "    num_rows=250,\n",
    "    column_values={'room_type': 'SUITE', 'has_rewards': False}\n",
    ")"
   ]
  }
 ],
 "metadata": {
  "kernelspec": {
   "display_name": "Python 3 (ipykernel)",
   "language": "python",
   "name": "python3"
  },
  "language_info": {
   "codemirror_mode": {
    "name": "ipython",
    "version": 3
   },
   "file_extension": ".py",
   "mimetype": "text/x-python",
   "name": "python",
   "nbconvert_exporter": "python",
   "pygments_lexer": "ipython3",
   "version": "3.8.11"
  }
 },
 "nbformat": 4,
 "nbformat_minor": 5
}
